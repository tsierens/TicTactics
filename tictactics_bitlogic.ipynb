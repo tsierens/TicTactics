{
 "cells": [
  {
   "cell_type": "code",
   "execution_count": 664,
   "metadata": {
    "collapsed": false
   },
   "outputs": [],
   "source": [
    "import numpy as np\n",
    "import sys\n",
    "import itertools\n",
    "\n",
    "from matplotlib import pyplot as plt\n",
    "import matplotlib\n",
    "%matplotlib inline\n",
    "\n",
    "CONVERT = 1L << (2*np.arange(12).reshape((3,4))[:,:-1])\n",
    "'''\n",
    "         01 01 01 00            10 10 10 00\n",
    "MASK01 = 01 01 01 00   MASK10 = 10 10 10 00\n",
    "         01 01 01 00            10 10 10 00\n",
    "'''\n",
    "MASK01 = 1381653L #a board full of 01\n",
    "MASK10 = MASK01 << 1 #a board full of 10\n",
    "MASK11 = MASK01 | MASK10\n",
    "\n",
    "class Board(object):\n",
    "    \"\"\"The board object will be a 3x3 array of bitboards and a single mega-board bitboard.\n",
    "    \n",
    "    The bitboards will be such that the bit representing each location is given by the map\n",
    "    \n",
    "    00 02 04\n",
    "    08 10 12\n",
    "    16 18 20\n",
    "    \n",
    "    Each bit represents one of the player's pieces occupying a cell.\n",
    "    00 -> empty cell\n",
    "    01 -> player 1\n",
    "    10 -> player 2\n",
    "    11 -> wild card\n",
    "    \n",
    "    \"\"\"\n",
    "    \n",
    "    def __init__(self,board = 'None',active_board = (1,1),big_board = 'None',player = 1):\n",
    "        self.player = 0L if player == 1 else 1L\n",
    "        self.log = []\n",
    "        self.alog = [active_board]\n",
    "        self.over = False\n",
    "        self.result = 0L\n",
    "        \n",
    "        self.active_board = active_board\n",
    "        \n",
    "        if board == 'None':\n",
    "            self.board = np.zeros((3,3)).astype(long)\n",
    "        else:\n",
    "            self.board = np.zeros((3,3)).astype(long)\n",
    "            board = np.copy(board)\n",
    "            for i in range(3):\n",
    "                for j in range(3):\n",
    "                    p1 = (board[3*i:3*i+3,3*j:3*j+3]==1)\n",
    "                    p2 = (board[3*i:3*i+3,3*j:3*j+3]== - 1)\n",
    "                    self.board[i,j] = np.sum( p1 * CONVERT + p2 * (CONVERT << 1))\n",
    "                    \n",
    "\n",
    "        if big_board == 'None':\n",
    "            self.big_board = 0L\n",
    "        else:\n",
    "            self.big_board = np.sum(big_board.astype(long) * CONVERT)\n",
    "            \n",
    "        \n",
    "            \n",
    "\n",
    "    def update_move(self,move,safe = False):\n",
    "        if safe:\n",
    "            assert(move in self.legal_moves())\n",
    "        active_board = (move[0]/3,move[1]/3)\n",
    "        index = (move[0]%3)*8 + (move[1]%3)*2 #gives the bit-location for the move        \n",
    "        self.board[active_board] ^= 1L << index << self.player\n",
    "        active_index = (active_board[0]%3)*8 + (active_board[1]%3)*2\n",
    "        if not (self.big_board >>active_index & 3): #if the board isn't over yet, check to see if it is   \n",
    "            winner = check_board_win(self.board[active_board])\n",
    "        else:\n",
    "            winner = 0\n",
    "        if winner:\n",
    "            self.big_board ^= winner << active_index \n",
    "            result = check_board_win(self.big_board)\n",
    "            if result:\n",
    "                if result==1:\n",
    "                    self.result = 1\n",
    "                elif result == 2:\n",
    "                    self.result = -1\n",
    "                elif result == 3:\n",
    "                    self.result = -2\n",
    "                else:\n",
    "                    sys.exit(\"result not 0 1 -1 or 2\")\n",
    "                self.over = True        \n",
    "        \n",
    "        self.player ^=1\n",
    "        self.active_board = (move[0]%3,move[1]%3)\n",
    "        self.log.append(move)\n",
    "        self.alog.append(self.active_board)\n",
    "        return None\n",
    "    \n",
    "\n",
    "        \n",
    "    def erase_move(self):\n",
    "        move = self.log.pop()\n",
    "        active_board = (move[0]/3,move[1]/3)\n",
    "        index = (move[0]%3)*8 + (move[1]%3)*2 #gives the bit-location for the move    \n",
    "        self.alog.pop()\n",
    "        \n",
    "        self.player ^=1\n",
    "        \n",
    "        self.board[active_board] ^= 1L << index << self.player\n",
    "        \n",
    "        winner = check_board_win(self.board[active_board])\n",
    "        if not winner:\n",
    "            active_index = (active_board[0]%3)*8 + (active_board[1]%3)*2                        \n",
    "            self.big_board &= ~(3 << active_index) # turn off 11 at location active_index                \n",
    "                \n",
    "        \n",
    "\n",
    "        self.active_board = self.alog[-1]\n",
    "        self.over = False\n",
    "        self.result = 0\n",
    "            \n",
    "        return None\n",
    "    \n",
    "#     def is_legal(self,move):\n",
    "#         active_board = self.board[self.active_board]\n",
    "        \n",
    "    def legal_moves(self):\n",
    "        if self.over:\n",
    "            return []\n",
    "        \n",
    "        if self.log == []:\n",
    "            #returns all empty cells\n",
    "            return [(i,j) for i,j in itertools.product(range(9),range(9)) \n",
    "                    if not (self.board[i/3,j/3]>>(8*(i%3)+2*(j%3)) & 3)]\n",
    "            \n",
    "        \n",
    "        active_board = self.board[self.active_board] #need to check if the active board has space\n",
    "        mp = moves_played(active_board)\n",
    "        if mp<8:#board has space, don't return a move to previous board\n",
    "            last_active = (self.log[-1][0]/3,self.log[-1][1]/3)\n",
    "            \n",
    "            moves = [(self.active_board[0]*3+i,self.active_board[1]*3+j) \n",
    "                     for i,j in itertools.product(range(3),range(3)) if not (active_board>>(8*i+2*j) & 3) and\n",
    "                     (i,j) != last_active]#checks if cell is empty\n",
    "            \n",
    "              \n",
    "        elif mp==8:\n",
    "            for i,j in itertools.product(range(3),range(3)):\n",
    "                if not (active_board>>(8*i+2*j) & 3):\n",
    "                    move = (self.active_board[0]*3+i,self.active_board[1]*3+j)\n",
    "                    break #saves time\n",
    "            moves = [move]\n",
    "            \n",
    "            \n",
    "        elif mp ==9:\n",
    "            last_active = (self.log[-1][0]/3,self.log[-1][1]/3)\n",
    "            moves = []\n",
    "            illegal = []\n",
    "            for i,j in itertools.product(range(9),range(9)):\n",
    "                if not (self.board[i/3,j/3] >> (8*(i%3) + 2*(j%3))&3):#cell is empty\n",
    "                    if (i%3,j%3) == last_active:\n",
    "                        illegal.append((i,j))\n",
    "                    else:\n",
    "                        moves.append((i,j))\n",
    "            if len(moves)==0:\n",
    "                moves = illegal            \n",
    "            \n",
    "        else:\n",
    "            print active_board\n",
    "            print 'moves played : ',mp\n",
    "            sys.exit('board has more than 9 moves played???')\n",
    "        return moves\n",
    "        \n",
    "        \n",
    "\n",
    "    def key(self):\n",
    "        board = self.board.reshape(-1)\n",
    "#         return tuple(self.board.reshape(-1))\n",
    "    \n",
    "    def print_board(self):\n",
    "        #returns a board and big_board arrays\n",
    "        def recon(bitboard):\n",
    "            answer = np.zeros((3,3))\n",
    "            dummy = bitboard\n",
    "            for i in range(3):\n",
    "                for j in range(3):\n",
    "                    val = dummy%4\n",
    "                    if val == 1 or val == 0:\n",
    "                        answer[i,j] = val\n",
    "                    elif val == 2:\n",
    "                        answer[i,j] = -1\n",
    "                    elif val == 3:\n",
    "                        answer[i,j] = 2\n",
    "                    else:\n",
    "                        sys.exit('impossible')\n",
    "                    dummy /= 4\n",
    "                dummy /=4\n",
    "            return answer\n",
    "        col_stacks = (np.concatenate((recon(self.board[0,0]),recon(self.board[1,0]),recon(self.board[2,0]))),\n",
    "                      np.concatenate((recon(self.board[0,1]),recon(self.board[1,1]),recon(self.board[2,1]))),\n",
    "                      np.concatenate((recon(self.board[0,2]),recon(self.board[1,2]),recon(self.board[2,2]))))\n",
    "        board = np.concatenate(col_stacks,axis=1)\n",
    "        return board , recon(self.big_board)\n",
    "        \n",
    "        \n",
    "    \n",
    "def moves_played(board):\n",
    "    mp = 0\n",
    "    for i in xrange(12):\n",
    "        if board & 3:\n",
    "            mp+=1\n",
    "        board >>=2\n",
    "    return mp\n",
    "#     return bin(board).count('1') #seems to be very fast but screws up when needing to look at '11's are possibilities\n",
    "    \n",
    "def check_board_win(board):\n",
    "    winner = 0L\n",
    "    '''\n",
    "    legend\n",
    "     3: both players win! tie\n",
    "     2: player 2 wins\n",
    "     1: player 1 wins\n",
    "     0: game ongoing!\n",
    "    '''\n",
    "\n",
    "\n",
    "#     check player 1 win\n",
    "    board01 = board & MASK01\n",
    "    if ((board01 & board01<<2 & board01<<4) or  #horizontal check\n",
    "        (board01 & board01<<6 & board01<<12) or #diagonal / check\n",
    "        (board01 & board01<<8 & board01<<16) or #vertical check\n",
    "        (board01 & board01<<10& board01<<20)):  #diagonal \\ check\n",
    "\n",
    "        winner ^=1L\n",
    "\n",
    "    #check player 2 win\n",
    "    board10 = board & MASK10\n",
    "    if ((board10 & board10<<2 & board10<<4) or  #horizontal check\n",
    "        (board10 & board10<<6 & board10<<12) or #diagonal / check\n",
    "        (board10 & board10<<8 & board10<<16) or #vertical check\n",
    "        (board10 & board10<<10& board10<<20)):  #diagonal \\ check\n",
    "\n",
    "        winner ^=2L\n",
    "\n",
    "    if winner == 0 and moves_played(board)==9:\n",
    "        winner = 3L\n",
    "        \n",
    "        \n",
    "    return winner\n",
    "\n",
    "def fancy_board(game):\n",
    "    board,big_board = game.print_board()\n",
    "    print_board = np.copy(board).astype(float)\n",
    "    for x,y in itertools.product(range(9),range(9)):\n",
    "        if big_board[x/3,y/3] != 0:\n",
    "            if print_board[x,y] == 0:\n",
    "                print_board[x,y] = 0.5\n",
    "            else:\n",
    "                print_board[x,y] = 0\n",
    "            print_board[x,y] += big_board[x/3,y/3]\n",
    "        if (x,y) in game.legal_moves():\n",
    "            print_board[x,y] = -2\n",
    "\n",
    "\n",
    "\n",
    "\n"
   ]
  },
  {
   "cell_type": "code",
   "execution_count": 603,
   "metadata": {
    "collapsed": true
   },
   "outputs": [],
   "source": [
    "from matplotlib import pyplot as plt\n",
    "import matplotlib\n",
    "%matplotlib inline\n",
    "\n",
    "def recon(bitboard):\n",
    "    answer = np.zeros((3,3))\n",
    "    dummy = bitboard\n",
    "    for i in range(3):\n",
    "        for j in range(3):\n",
    "            val = dummy%4\n",
    "            if val == 1 or val == 0:\n",
    "                answer[i,j] = val\n",
    "            elif val == 2:\n",
    "                answer[i,j] = -1\n",
    "            elif val == 3:\n",
    "                answer[i,j] = 2\n",
    "            else:\n",
    "                sys.exit('impossible')\n",
    "            dummy /= 4\n",
    "        dummy /=4\n",
    "    return answer\n",
    "def fancy_board(game):\n",
    "    board,big_board = game.print_board()\n",
    "    print_board = np.copy(board).astype(float)\n",
    "    for x,y in itertools.product(range(9),range(9)):\n",
    "        if big_board[x/3,y/3] != 0:\n",
    "            if print_board[x,y] == 0:\n",
    "                print_board[x,y] = 0.5\n",
    "            else:\n",
    "                print_board[x,y] = 0\n",
    "            print_board[x,y] += big_board[x/3,y/3]\n",
    "        if (x,y) in game.legal_moves():\n",
    "            print_board[x,y] = -2\n",
    "        \n",
    "#     print game.board\n",
    "#     print game.big_board\n",
    "#     print active_board\n",
    "    \n",
    "    plt.matshow(print_board,vmin = -2,vmax = 2)\n",
    "    plt.plot([-0.5,8.5],[2.5,2.5],'k')\n",
    "    plt.plot([-0.5,8.5],[5.5,5.5],'k')\n",
    "    plt.plot([2.5,2.5],[-0.5,8.5],'k')\n",
    "    plt.plot([5.5,5.5],[-0.5,8.5],'k')"
   ]
  },
  {
   "cell_type": "code",
   "execution_count": 668,
   "metadata": {
    "collapsed": false
   },
   "outputs": [
    {
     "name": "stdout",
     "output_type": "stream",
     "text": [
      "[[ 1. -1. -1.]\n",
      " [ 0.  1. -1.]\n",
      " [ 1.  1. -1.]]\n",
      "-1\n",
      "[(8, 0), (7, 0), (4, 0), (3, 0), (1, 2), (4, 8), (5, 6), (6, 0), (1, 1), (4, 4), (5, 3), (7, 2), (3, 7), (0, 3), (1, 0), (4, 1), (3, 3), (2, 0), (6, 1), (1, 4), (5, 4), (8, 3), (8, 2), (7, 7), (4, 5), (3, 6), (0, 0), (0, 2), (2, 6), (8, 1), (6, 5), (0, 6), (0, 1), (2, 4), (6, 3), (2, 1), (6, 4), (2, 5), (6, 6), (6, 8), (2, 7), (7, 5), (5, 8), (7, 6), (3, 1), (1, 5), (5, 7), (7, 4), (3, 4), (0, 4), (1, 3), (4, 2), (3, 8), (2, 8), (8, 8), (6, 7), (0, 5), (1, 7), (5, 5), (8, 6)]\n",
      "60\n",
      "[(8, 0), (7, 0), (4, 0), (3, 0), (1, 2), (4, 8), (5, 6), (6, 0), (1, 1), (4, 4), (5, 3), (7, 2), (3, 7), (0, 3), (1, 0), (4, 1), (3, 3), (2, 0), (6, 1), (1, 4), (5, 4), (8, 3), (8, 2), (7, 7), (4, 5), (3, 6), (0, 0), (0, 2), (2, 6), (8, 1), (6, 5), (0, 6), (0, 1), (2, 4), (6, 3), (2, 1), (6, 4), (2, 5), (6, 6), (6, 8)]\n",
      "40\n",
      "[(8, 0), (7, 0), (4, 0), (3, 0), (1, 2), (4, 8), (5, 6), (6, 0), (1, 1), (4, 4), (5, 3), (7, 2), (3, 7), (0, 3), (1, 0), (4, 1), (3, 3), (2, 0), (6, 1), (1, 4)]\n",
      "20\n",
      "[]\n",
      "0\n"
     ]
    },
    {
     "name": "stderr",
     "output_type": "stream",
     "text": [
      "C:\\Users\\Todd\\Anaconda2\\lib\\site-packages\\ipykernel\\__main__.py:41: FutureWarning: elementwise comparison failed; returning scalar instead, but in the future will perform elementwise comparison\n",
      "C:\\Users\\Todd\\Anaconda2\\lib\\site-packages\\ipykernel\\__main__.py:53: FutureWarning: elementwise comparison failed; returning scalar instead, but in the future will perform elementwise comparison\n"
     ]
    },
    {
     "data": {
      "image/png": "[encoded data removed]",
      "text/plain": [
       "<matplotlib.figure.Figure at 0x8803908>"
      ]
     },
     "metadata": {},
     "output_type": "display_data"
    },
    {
     "data": {
      "image/png": "[encoded data removed]",
      "text/plain": [
       "<matplotlib.figure.Figure at 0x73da7f0>"
      ]
     },
     "metadata": {},
     "output_type": "display_data"
    },
    {
     "data": {
      "image/png": "[encoded data removed]",
      "text/plain": [
       "<matplotlib.figure.Figure at 0xbbe9160>"
      ]
     },
     "metadata": {},
     "output_type": "display_data"
    },
    {
     "data": {
      "image/png": "[encoded data removed]",
      "text/plain": [
       "<matplotlib.figure.Figure at 0xbe297b8>"
      ]
     },
     "metadata": {},
     "output_type": "display_data"
    },
    {
     "data": {
      "image/png": "[encoded data removed]",
      "text/plain": [
       "<matplotlib.figure.Figure at 0xbd2ddd8>"
      ]
     },
     "metadata": {},
     "output_type": "display_data"
    }
   ],
   "source": [
    "from IPython import display\n",
    "\n",
    "board = np.zeros((9,9))\n",
    "for x in [(7,1),(6,2),(5,2),(4,3)]:\n",
    "    board[x]=1\n",
    "for o in [(2,2),(3,5),(4,6),(4,7)]:\n",
    "    board[o]=-1\n",
    "big_board = np.array([[0,0,0],\n",
    "                      [0,0,0],\n",
    "                      [0,0,0]])\n",
    "\n",
    "active_board = (1,1)\n",
    "player = 1\n",
    "game = Board(board=board,big_board = big_board,active_board=active_board,player = player)\n",
    "# print board\n",
    "# g_board,g_bboard = game.print_board()\n",
    "# fancy_board(game)\n",
    "\n",
    "\n",
    "moves = [(8,0),(7,0),(4,0),(3,0),(1,2),(4,8),(5,6),(6,0),(1,1),(4,4),(5,3),(7,2),(3,7),(0,3),(1,0),(4,1),(3,3)\n",
    "        ,(2,0),(6,1),(1,4),(5,4),(8,3),(8,2),(7,7),(4,5),(3,6),(0,0),(0,2),(2,6),(8,1),(6,5),(0,6),(0,1),(2,4)\n",
    "        ,(6,3),(2,1),(6,4),(2,5),(6,6),(6,8),(2,7),(7,5),(5,8),(7,6),(3,1),(1,5),(5,7),(7,4),(3,4),(0,4),(1,3)\n",
    "        ,(4,2),(3,8),(2,8),(8,8),(6,7),(0,5),(1,7),(5,5),(8,6)]\n",
    "for move in moves:\n",
    "    game.update_move(move)\n",
    "    fancy_board(game)\n",
    "    \n",
    "# print game.legal_moves()\n",
    "print recon(game.big_board)\n",
    "# print game.print_board()[0]\n",
    "# print recon(game.big_board)\n",
    "fancy_board(game)\n",
    "plt.matshow(recon(game.big_board),vmax=1,vmin=-1)\n",
    "print game.result\n",
    "\n",
    "print game.log\n",
    "print len(game.log)\n",
    "for _ in range(20):\n",
    "    game.erase_move()\n",
    "print game.log\n",
    "print len(game.log)\n",
    "fancy_board(game)\n",
    "for _ in range(20):\n",
    "    game.erase_move()\n",
    "print game.log\n",
    "print len(game.log)\n",
    "fancy_board(game)\n",
    "for _ in range(20):\n",
    "    game.erase_move()\n",
    "print game.log\n",
    "print len(game.log)\n",
    "fancy_board(game)"
   ]
  },
  {
   "cell_type": "code",
   "execution_count": 583,
   "metadata": {
    "collapsed": false
   },
   "outputs": [
    {
     "data": {
      "text/plain": [
       "False"
      ]
     },
     "execution_count": 583,
     "metadata": {},
     "output_type": "execute_result"
    }
   ],
   "source": [
    "bool(check_board_win(game.board[1,0]))"
   ]
  },
  {
   "cell_type": "code",
   "execution_count": 543,
   "metadata": {
    "collapsed": false
   },
   "outputs": [
    {
     "name": "stdout",
     "output_type": "stream",
     "text": [
      "[(7, 0), (4, 1), (4, 4), (4, 5), (4, 8), (3, 7)]\n",
      "65536\n",
      "[[ 0.  0.  0.  0.  0.  0.  0.  0.  0.]\n",
      " [ 0.  0.  0.  0.  0.  0.  0.  0.  0.]\n",
      " [ 0.  0. -1.  0.  0.  0.  0.  0.  0.]\n",
      " [ 0.  0.  0.  0.  0. -1.  0.  0.  0.]\n",
      " [ 0.  0.  0.  1.  0.  0. -1. -1.  0.]\n",
      " [ 0.  0.  1.  0.  0.  0.  0.  0.  0.]\n",
      " [ 0.  0.  1.  0.  0.  0.  0.  0.  0.]\n",
      " [ 0.  1.  0.  0.  0.  0.  0.  0.  0.]\n",
      " [ 1.  0.  0.  0.  0.  0.  0.  0.  0.]]\n",
      "[[ 0.  0.  0.]\n",
      " [ 0.  0.  0.]\n",
      " [ 1.  0.  0.]]\n"
     ]
    },
    {
     "data": {
      "image/png": "[encoded data removed]",
      "text/plain": [
       "<matplotlib.figure.Figure at 0x7b39470>"
      ]
     },
     "metadata": {},
     "output_type": "display_data"
    }
   ],
   "source": [
    "print log\n",
    "# for move in log:\n",
    "#     game.update_move(move)\n",
    "moves = [(8,0)]\n",
    "for move in moves:\n",
    "    game.update_move(move)\n",
    "print game.big_board\n",
    "print game.print_board()[0]\n",
    "print recon(game.big_board)\n",
    "fancy_board(game)"
   ]
  },
  {
   "cell_type": "code",
   "execution_count": 536,
   "metadata": {
    "collapsed": false
   },
   "outputs": [
    {
     "data": {
      "text/plain": [
       "0"
      ]
     },
     "execution_count": 536,
     "metadata": {},
     "output_type": "execute_result"
    }
   ],
   "source": [
    "game.big_board"
   ]
  },
  {
   "cell_type": "code",
   "execution_count": 151,
   "metadata": {
    "collapsed": false
   },
   "outputs": [],
   "source": [
    "def recon(bitboard):\n",
    "    answer = np.zeros((3,3))\n",
    "    dummy = bitboard\n",
    "    for i in range(3):\n",
    "        for j in range(3):\n",
    "            answer[i,j] = dummy%4\n",
    "            dummy /= 4\n",
    "        dummy /=4\n",
    "    return answer"
   ]
  },
  {
   "cell_type": "code",
   "execution_count": 406,
   "metadata": {
    "collapsed": false
   },
   "outputs": [
    {
     "name": "stdout",
     "output_type": "stream",
     "text": [
      "         40004 function calls in 0.156 seconds\n",
      "\n",
      "   Ordered by: standard name\n",
      "\n",
      "   ncalls  tottime  percall  cumtime  percall filename:lineno(function)\n",
      "    10000    0.070    0.000    0.070    0.000 <ipython-input-405-319794ff0087>:153(moves_played)\n",
      "        1    0.021    0.021    0.156    0.156 <ipython-input-406-7b17cbb43d18>:3(fun)\n",
      "        1    0.000    0.000    0.156    0.156 <string>:1(<module>)\n",
      "    10000    0.046    0.000    0.049    0.000 random.py:175(randrange)\n",
      "    10000    0.015    0.000    0.064    0.000 random.py:238(randint)\n",
      "        1    0.000    0.000    0.000    0.000 {method 'disable' of '_lsprof.Profiler' objects}\n",
      "    10000    0.002    0.000    0.002    0.000 {method 'random' of '_random.Random' objects}\n",
      "        1    0.000    0.000    0.000    0.000 {range}\n",
      "\n",
      "\n",
      "         50004 function calls in 0.097 seconds\n",
      "\n",
      "   Ordered by: standard name\n",
      "\n",
      "   ncalls  tottime  percall  cumtime  percall filename:lineno(function)\n",
      "        1    0.024    0.024    0.097    0.097 <ipython-input-406-7b17cbb43d18>:7(conv)\n",
      "        1    0.000    0.000    0.097    0.097 <string>:1(<module>)\n",
      "    10000    0.039    0.000    0.042    0.000 random.py:175(randrange)\n",
      "    10000    0.013    0.000    0.055    0.000 random.py:238(randint)\n",
      "    10000    0.008    0.000    0.008    0.000 {bin}\n",
      "    10000    0.010    0.000    0.010    0.000 {method 'count' of 'str' objects}\n",
      "        1    0.000    0.000    0.000    0.000 {method 'disable' of '_lsprof.Profiler' objects}\n",
      "    10000    0.002    0.000    0.002    0.000 {method 'random' of '_random.Random' objects}\n",
      "        1    0.000    0.000    0.000    0.000 {range}\n",
      "\n",
      "\n"
     ]
    }
   ],
   "source": [
    "\n",
    "import cProfile\n",
    "def fun():\n",
    "    for _ in range(10000):\n",
    "        x = random.randint(0,2**16-1)\n",
    "        moves = moves_played(x)\n",
    "def conv():\n",
    "    for _ in range(10000):\n",
    "        x = random.randint(0,2**16-1)\n",
    "        moves = bin(x).count('1')\n",
    "cProfile.run('fun()')\n",
    "cProfile.run('conv()')"
   ]
  },
  {
   "cell_type": "code",
   "execution_count": 377,
   "metadata": {
    "collapsed": false
   },
   "outputs": [
    {
     "data": {
      "text/plain": [
       "8"
      ]
     },
     "execution_count": 377,
     "metadata": {},
     "output_type": "execute_result"
    }
   ],
   "source": [
    "x = random.randint(0,2**16-1)\n",
    "moves_played(x)"
   ]
  },
  {
   "cell_type": "code",
   "execution_count": 384,
   "metadata": {
    "collapsed": false
   },
   "outputs": [
    {
     "data": {
      "text/plain": [
       "18"
      ]
     },
     "execution_count": 384,
     "metadata": {},
     "output_type": "execute_result"
    }
   ],
   "source": [
    "bin(MASK11).count('1')"
   ]
  },
  {
   "cell_type": "code",
   "execution_count": 395,
   "metadata": {
    "collapsed": false
   },
   "outputs": [
    {
     "data": {
      "text/plain": [
       "(2097152, 0, 0, 1048576, 288, 2560, 1040, 0, 0)"
      ]
     },
     "execution_count": 395,
     "metadata": {},
     "output_type": "execute_result"
    }
   ],
   "source": [
    "game.key()"
   ]
  },
  {
   "cell_type": "code",
   "execution_count": 400,
   "metadata": {
    "collapsed": false
   },
   "outputs": [],
   "source": [
    "MASK11 >>=2"
   ]
  },
  {
   "cell_type": "code",
   "execution_count": 412,
   "metadata": {
    "collapsed": false
   },
   "outputs": [
    {
     "data": {
      "text/plain": [
       "array([[1],\n",
       "       [2]])"
      ]
     },
     "execution_count": 412,
     "metadata": {},
     "output_type": "execute_result"
    }
   ],
   "source": [
    "x = (np.array([[1]]),np.array([[2]]))\n",
    "np.concatenate(x,axis=0)"
   ]
  },
  {
   "cell_type": "code",
   "execution_count": 673,
   "metadata": {
    "collapsed": false
   },
   "outputs": [
    {
     "ename": "KeyboardInterrupt",
     "evalue": "",
     "output_type": "error",
     "traceback": [
      "\u001b[1;31m---------------------------------------------------------------------------\u001b[0m",
      "\u001b[1;31mKeyboardInterrupt\u001b[0m                         Traceback (most recent call last)",
      "\u001b[1;32m<ipython-input-673-e73f6e70fa31>\u001b[0m in \u001b[0;36m<module>\u001b[1;34m()\u001b[0m\n\u001b[0;32m     31\u001b[0m         \u001b[0mgame\u001b[0m\u001b[1;33m.\u001b[0m\u001b[0merase_move\u001b[0m\u001b[1;33m(\u001b[0m\u001b[1;33m)\u001b[0m\u001b[1;33m\u001b[0m\u001b[0m\n\u001b[0;32m     32\u001b[0m         \u001b[0mdisplay\u001b[0m\u001b[1;33m.\u001b[0m\u001b[0mclear_output\u001b[0m\u001b[1;33m(\u001b[0m\u001b[0mwait\u001b[0m \u001b[1;33m=\u001b[0m \u001b[0mTrue\u001b[0m\u001b[1;33m)\u001b[0m\u001b[1;33m\u001b[0m\u001b[0m\n\u001b[1;32m---> 33\u001b[1;33m         \u001b[0mfancy_board\u001b[0m\u001b[1;33m(\u001b[0m\u001b[0mgame\u001b[0m\u001b[1;33m)\u001b[0m\u001b[1;33m\u001b[0m\u001b[0m\n\u001b[0m\u001b[0;32m     34\u001b[0m         \u001b[0mplt\u001b[0m\u001b[1;33m.\u001b[0m\u001b[0mshow\u001b[0m\u001b[1;33m(\u001b[0m\u001b[1;33m)\u001b[0m\u001b[1;33m\u001b[0m\u001b[0m\n\u001b[0;32m     35\u001b[0m         \u001b[0mtime\u001b[0m\u001b[1;33m.\u001b[0m\u001b[0msleep\u001b[0m\u001b[1;33m(\u001b[0m\u001b[1;36m0.\u001b[0m\u001b[1;33m)\u001b[0m\u001b[1;33m\u001b[0m\u001b[0m\n",
      "\u001b[1;32m<ipython-input-603-eaa70488b229>\u001b[0m in \u001b[0;36mfancy_board\u001b[1;34m(game)\u001b[0m\n\u001b[0;32m     37\u001b[0m \u001b[1;31m#     print active_board\u001b[0m\u001b[1;33m\u001b[0m\u001b[1;33m\u001b[0m\u001b[0m\n\u001b[0;32m     38\u001b[0m \u001b[1;33m\u001b[0m\u001b[0m\n\u001b[1;32m---> 39\u001b[1;33m     \u001b[0mplt\u001b[0m\u001b[1;33m.\u001b[0m\u001b[0mmatshow\u001b[0m\u001b[1;33m(\u001b[0m\u001b[0mprint_board\u001b[0m\u001b[1;33m,\u001b[0m\u001b[0mvmin\u001b[0m \u001b[1;33m=\u001b[0m \u001b[1;33m-\u001b[0m\u001b[1;36m2\u001b[0m\u001b[1;33m,\u001b[0m\u001b[0mvmax\u001b[0m \u001b[1;33m=\u001b[0m \u001b[1;36m2\u001b[0m\u001b[1;33m)\u001b[0m\u001b[1;33m\u001b[0m\u001b[0m\n\u001b[0m\u001b[0;32m     40\u001b[0m     \u001b[0mplt\u001b[0m\u001b[1;33m.\u001b[0m\u001b[0mplot\u001b[0m\u001b[1;33m(\u001b[0m\u001b[1;33m[\u001b[0m\u001b[1;33m-\u001b[0m\u001b[1;36m0.5\u001b[0m\u001b[1;33m,\u001b[0m\u001b[1;36m8.5\u001b[0m\u001b[1;33m]\u001b[0m\u001b[1;33m,\u001b[0m\u001b[1;33m[\u001b[0m\u001b[1;36m2.5\u001b[0m\u001b[1;33m,\u001b[0m\u001b[1;36m2.5\u001b[0m\u001b[1;33m]\u001b[0m\u001b[1;33m,\u001b[0m\u001b[1;34m'k'\u001b[0m\u001b[1;33m)\u001b[0m\u001b[1;33m\u001b[0m\u001b[0m\n\u001b[0;32m     41\u001b[0m     \u001b[0mplt\u001b[0m\u001b[1;33m.\u001b[0m\u001b[0mplot\u001b[0m\u001b[1;33m(\u001b[0m\u001b[1;33m[\u001b[0m\u001b[1;33m-\u001b[0m\u001b[1;36m0.5\u001b[0m\u001b[1;33m,\u001b[0m\u001b[1;36m8.5\u001b[0m\u001b[1;33m]\u001b[0m\u001b[1;33m,\u001b[0m\u001b[1;33m[\u001b[0m\u001b[1;36m5.5\u001b[0m\u001b[1;33m,\u001b[0m\u001b[1;36m5.5\u001b[0m\u001b[1;33m]\u001b[0m\u001b[1;33m,\u001b[0m\u001b[1;34m'k'\u001b[0m\u001b[1;33m)\u001b[0m\u001b[1;33m\u001b[0m\u001b[0m\n",
      "\u001b[1;32mC:\\Users\\Todd\\Anaconda2\\lib\\site-packages\\matplotlib\\pyplot.pyc\u001b[0m in \u001b[0;36mmatshow\u001b[1;34m(A, fignum, **kw)\u001b[0m\n\u001b[0;32m   2329\u001b[0m         \u001b[1;31m# Extract actual aspect ratio of array and make appropriately sized figure\u001b[0m\u001b[1;33m\u001b[0m\u001b[1;33m\u001b[0m\u001b[0m\n\u001b[0;32m   2330\u001b[0m         \u001b[0mfig\u001b[0m \u001b[1;33m=\u001b[0m \u001b[0mfigure\u001b[0m\u001b[1;33m(\u001b[0m\u001b[0mfignum\u001b[0m\u001b[1;33m,\u001b[0m \u001b[0mfigsize\u001b[0m\u001b[1;33m=\u001b[0m\u001b[0mfigaspect\u001b[0m\u001b[1;33m(\u001b[0m\u001b[0mA\u001b[0m\u001b[1;33m)\u001b[0m\u001b[1;33m)\u001b[0m\u001b[1;33m\u001b[0m\u001b[0m\n\u001b[1;32m-> 2331\u001b[1;33m         \u001b[0max\u001b[0m  \u001b[1;33m=\u001b[0m \u001b[0mfig\u001b[0m\u001b[1;33m.\u001b[0m\u001b[0madd_axes\u001b[0m\u001b[1;33m(\u001b[0m\u001b[1;33m[\u001b[0m\u001b[1;36m0.15\u001b[0m\u001b[1;33m,\u001b[0m \u001b[1;36m0.09\u001b[0m\u001b[1;33m,\u001b[0m \u001b[1;36m0.775\u001b[0m\u001b[1;33m,\u001b[0m \u001b[1;36m0.775\u001b[0m\u001b[1;33m]\u001b[0m\u001b[1;33m)\u001b[0m\u001b[1;33m\u001b[0m\u001b[0m\n\u001b[0m\u001b[0;32m   2332\u001b[0m \u001b[1;33m\u001b[0m\u001b[0m\n\u001b[0;32m   2333\u001b[0m     \u001b[0mim\u001b[0m \u001b[1;33m=\u001b[0m \u001b[0max\u001b[0m\u001b[1;33m.\u001b[0m\u001b[0mmatshow\u001b[0m\u001b[1;33m(\u001b[0m\u001b[0mA\u001b[0m\u001b[1;33m,\u001b[0m \u001b[1;33m**\u001b[0m\u001b[0mkw\u001b[0m\u001b[1;33m)\u001b[0m\u001b[1;33m\u001b[0m\u001b[0m\n",
      "\u001b[1;32mC:\\Users\\Todd\\Anaconda2\\lib\\site-packages\\matplotlib\\figure.pyc\u001b[0m in \u001b[0;36madd_axes\u001b[1;34m(self, *args, **kwargs)\u001b[0m\n\u001b[0;32m    913\u001b[0m \u001b[1;33m\u001b[0m\u001b[0m\n\u001b[0;32m    914\u001b[0m             \u001b[1;31m# create the new axes using the axes class given\u001b[0m\u001b[1;33m\u001b[0m\u001b[1;33m\u001b[0m\u001b[0m\n\u001b[1;32m--> 915\u001b[1;33m             \u001b[0ma\u001b[0m \u001b[1;33m=\u001b[0m \u001b[0mprojection_class\u001b[0m\u001b[1;33m(\u001b[0m\u001b[0mself\u001b[0m\u001b[1;33m,\u001b[0m \u001b[0mrect\u001b[0m\u001b[1;33m,\u001b[0m \u001b[1;33m**\u001b[0m\u001b[0mkwargs\u001b[0m\u001b[1;33m)\u001b[0m\u001b[1;33m\u001b[0m\u001b[0m\n\u001b[0m\u001b[0;32m    916\u001b[0m \u001b[1;33m\u001b[0m\u001b[0m\n\u001b[0;32m    917\u001b[0m         \u001b[0mself\u001b[0m\u001b[1;33m.\u001b[0m\u001b[0m_axstack\u001b[0m\u001b[1;33m.\u001b[0m\u001b[0madd\u001b[0m\u001b[1;33m(\u001b[0m\u001b[0mkey\u001b[0m\u001b[1;33m,\u001b[0m \u001b[0ma\u001b[0m\u001b[1;33m)\u001b[0m\u001b[1;33m\u001b[0m\u001b[0m\n",
      "\u001b[1;32mC:\\Users\\Todd\\Anaconda2\\lib\\site-packages\\matplotlib\\axes\\_base.pyc\u001b[0m in \u001b[0;36m__init__\u001b[1;34m(self, fig, rect, axisbg, frameon, sharex, sharey, label, xscale, yscale, **kwargs)\u001b[0m\n\u001b[0;32m    506\u001b[0m \u001b[1;33m\u001b[0m\u001b[0m\n\u001b[0;32m    507\u001b[0m         \u001b[1;31m# this call may differ for non-sep axes, e.g., polar\u001b[0m\u001b[1;33m\u001b[0m\u001b[1;33m\u001b[0m\u001b[0m\n\u001b[1;32m--> 508\u001b[1;33m         \u001b[0mself\u001b[0m\u001b[1;33m.\u001b[0m\u001b[0m_init_axis\u001b[0m\u001b[1;33m(\u001b[0m\u001b[1;33m)\u001b[0m\u001b[1;33m\u001b[0m\u001b[0m\n\u001b[0m\u001b[0;32m    509\u001b[0m \u001b[1;33m\u001b[0m\u001b[0m\n\u001b[0;32m    510\u001b[0m         \u001b[1;32mif\u001b[0m \u001b[0maxisbg\u001b[0m \u001b[1;32mis\u001b[0m \u001b[0mNone\u001b[0m\u001b[1;33m:\u001b[0m\u001b[1;33m\u001b[0m\u001b[0m\n",
      "\u001b[1;32mC:\\Users\\Todd\\Anaconda2\\lib\\site-packages\\matplotlib\\axes\\_base.pyc\u001b[0m in \u001b[0;36m_init_axis\u001b[1;34m(self)\u001b[0m\n\u001b[0;32m    567\u001b[0m         \u001b[0mself\u001b[0m\u001b[1;33m.\u001b[0m\u001b[0mspines\u001b[0m\u001b[1;33m[\u001b[0m\u001b[1;34m'bottom'\u001b[0m\u001b[1;33m]\u001b[0m\u001b[1;33m.\u001b[0m\u001b[0mregister_axis\u001b[0m\u001b[1;33m(\u001b[0m\u001b[0mself\u001b[0m\u001b[1;33m.\u001b[0m\u001b[0mxaxis\u001b[0m\u001b[1;33m)\u001b[0m\u001b[1;33m\u001b[0m\u001b[0m\n\u001b[0;32m    568\u001b[0m         \u001b[0mself\u001b[0m\u001b[1;33m.\u001b[0m\u001b[0mspines\u001b[0m\u001b[1;33m[\u001b[0m\u001b[1;34m'top'\u001b[0m\u001b[1;33m]\u001b[0m\u001b[1;33m.\u001b[0m\u001b[0mregister_axis\u001b[0m\u001b[1;33m(\u001b[0m\u001b[0mself\u001b[0m\u001b[1;33m.\u001b[0m\u001b[0mxaxis\u001b[0m\u001b[1;33m)\u001b[0m\u001b[1;33m\u001b[0m\u001b[0m\n\u001b[1;32m--> 569\u001b[1;33m         \u001b[0mself\u001b[0m\u001b[1;33m.\u001b[0m\u001b[0myaxis\u001b[0m \u001b[1;33m=\u001b[0m \u001b[0mmaxis\u001b[0m\u001b[1;33m.\u001b[0m\u001b[0mYAxis\u001b[0m\u001b[1;33m(\u001b[0m\u001b[0mself\u001b[0m\u001b[1;33m)\u001b[0m\u001b[1;33m\u001b[0m\u001b[0m\n\u001b[0m\u001b[0;32m    570\u001b[0m         \u001b[0mself\u001b[0m\u001b[1;33m.\u001b[0m\u001b[0mspines\u001b[0m\u001b[1;33m[\u001b[0m\u001b[1;34m'left'\u001b[0m\u001b[1;33m]\u001b[0m\u001b[1;33m.\u001b[0m\u001b[0mregister_axis\u001b[0m\u001b[1;33m(\u001b[0m\u001b[0mself\u001b[0m\u001b[1;33m.\u001b[0m\u001b[0myaxis\u001b[0m\u001b[1;33m)\u001b[0m\u001b[1;33m\u001b[0m\u001b[0m\n\u001b[0;32m    571\u001b[0m         \u001b[0mself\u001b[0m\u001b[1;33m.\u001b[0m\u001b[0mspines\u001b[0m\u001b[1;33m[\u001b[0m\u001b[1;34m'right'\u001b[0m\u001b[1;33m]\u001b[0m\u001b[1;33m.\u001b[0m\u001b[0mregister_axis\u001b[0m\u001b[1;33m(\u001b[0m\u001b[0mself\u001b[0m\u001b[1;33m.\u001b[0m\u001b[0myaxis\u001b[0m\u001b[1;33m)\u001b[0m\u001b[1;33m\u001b[0m\u001b[0m\n",
      "\u001b[1;32mC:\\Users\\Todd\\Anaconda2\\lib\\site-packages\\matplotlib\\axis.pyc\u001b[0m in \u001b[0;36m__init__\u001b[1;34m(self, axes, pickradius)\u001b[0m\n\u001b[0;32m    647\u001b[0m         \u001b[0mself\u001b[0m\u001b[1;33m.\u001b[0m\u001b[0mlabel\u001b[0m \u001b[1;33m=\u001b[0m \u001b[0mself\u001b[0m\u001b[1;33m.\u001b[0m\u001b[0m_get_label\u001b[0m\u001b[1;33m(\u001b[0m\u001b[1;33m)\u001b[0m\u001b[1;33m\u001b[0m\u001b[0m\n\u001b[0;32m    648\u001b[0m         \u001b[0mself\u001b[0m\u001b[1;33m.\u001b[0m\u001b[0mlabelpad\u001b[0m \u001b[1;33m=\u001b[0m \u001b[0mrcParams\u001b[0m\u001b[1;33m[\u001b[0m\u001b[1;34m'axes.labelpad'\u001b[0m\u001b[1;33m]\u001b[0m\u001b[1;33m\u001b[0m\u001b[0m\n\u001b[1;32m--> 649\u001b[1;33m         \u001b[0mself\u001b[0m\u001b[1;33m.\u001b[0m\u001b[0moffsetText\u001b[0m \u001b[1;33m=\u001b[0m \u001b[0mself\u001b[0m\u001b[1;33m.\u001b[0m\u001b[0m_get_offset_text\u001b[0m\u001b[1;33m(\u001b[0m\u001b[1;33m)\u001b[0m\u001b[1;33m\u001b[0m\u001b[0m\n\u001b[0m\u001b[0;32m    650\u001b[0m         \u001b[0mself\u001b[0m\u001b[1;33m.\u001b[0m\u001b[0mmajorTicks\u001b[0m \u001b[1;33m=\u001b[0m \u001b[1;33m[\u001b[0m\u001b[1;33m]\u001b[0m\u001b[1;33m\u001b[0m\u001b[0m\n\u001b[0;32m    651\u001b[0m         \u001b[0mself\u001b[0m\u001b[1;33m.\u001b[0m\u001b[0mminorTicks\u001b[0m \u001b[1;33m=\u001b[0m \u001b[1;33m[\u001b[0m\u001b[1;33m]\u001b[0m\u001b[1;33m\u001b[0m\u001b[0m\n",
      "\u001b[1;32mC:\\Users\\Todd\\Anaconda2\\lib\\site-packages\\matplotlib\\axis.pyc\u001b[0m in \u001b[0;36m_get_offset_text\u001b[1;34m(self)\u001b[0m\n\u001b[0;32m   2030\u001b[0m                                 horizontalalignment='left')\n\u001b[0;32m   2031\u001b[0m         offsetText.set_transform(mtransforms.blended_transform_factory(\n\u001b[1;32m-> 2032\u001b[1;33m             self.axes.transAxes, mtransforms.IdentityTransform())\n\u001b[0m\u001b[0;32m   2033\u001b[0m         )\n\u001b[0;32m   2034\u001b[0m         \u001b[0mself\u001b[0m\u001b[1;33m.\u001b[0m\u001b[0m_set_artist_props\u001b[0m\u001b[1;33m(\u001b[0m\u001b[0moffsetText\u001b[0m\u001b[1;33m)\u001b[0m\u001b[1;33m\u001b[0m\u001b[0m\n",
      "\u001b[1;32mC:\\Users\\Todd\\Anaconda2\\lib\\site-packages\\matplotlib\\transforms.pyc\u001b[0m in \u001b[0;36mblended_transform_factory\u001b[1;34m(x_transform, y_transform)\u001b[0m\n\u001b[0;32m   2252\u001b[0m     if (isinstance(x_transform, Affine2DBase)\n\u001b[0;32m   2253\u001b[0m         and isinstance(y_transform, Affine2DBase)):\n\u001b[1;32m-> 2254\u001b[1;33m         \u001b[1;32mreturn\u001b[0m \u001b[0mBlendedAffine2D\u001b[0m\u001b[1;33m(\u001b[0m\u001b[0mx_transform\u001b[0m\u001b[1;33m,\u001b[0m \u001b[0my_transform\u001b[0m\u001b[1;33m)\u001b[0m\u001b[1;33m\u001b[0m\u001b[0m\n\u001b[0m\u001b[0;32m   2255\u001b[0m     \u001b[1;32mreturn\u001b[0m \u001b[0mBlendedGenericTransform\u001b[0m\u001b[1;33m(\u001b[0m\u001b[0mx_transform\u001b[0m\u001b[1;33m,\u001b[0m \u001b[0my_transform\u001b[0m\u001b[1;33m)\u001b[0m\u001b[1;33m\u001b[0m\u001b[0m\n\u001b[0;32m   2256\u001b[0m \u001b[1;33m\u001b[0m\u001b[0m\n",
      "\u001b[1;32mC:\\Users\\Todd\\Anaconda2\\lib\\site-packages\\matplotlib\\transforms.pyc\u001b[0m in \u001b[0;36m__init__\u001b[1;34m(self, x_transform, y_transform, **kwargs)\u001b[0m\n\u001b[0;32m   2204\u001b[0m         \u001b[0mself\u001b[0m\u001b[1;33m.\u001b[0m\u001b[0m_x\u001b[0m \u001b[1;33m=\u001b[0m \u001b[0mx_transform\u001b[0m\u001b[1;33m\u001b[0m\u001b[0m\n\u001b[0;32m   2205\u001b[0m         \u001b[0mself\u001b[0m\u001b[1;33m.\u001b[0m\u001b[0m_y\u001b[0m \u001b[1;33m=\u001b[0m \u001b[0my_transform\u001b[0m\u001b[1;33m\u001b[0m\u001b[0m\n\u001b[1;32m-> 2206\u001b[1;33m         \u001b[0mself\u001b[0m\u001b[1;33m.\u001b[0m\u001b[0mset_children\u001b[0m\u001b[1;33m(\u001b[0m\u001b[0mx_transform\u001b[0m\u001b[1;33m,\u001b[0m \u001b[0my_transform\u001b[0m\u001b[1;33m)\u001b[0m\u001b[1;33m\u001b[0m\u001b[0m\n\u001b[0m\u001b[0;32m   2207\u001b[0m \u001b[1;33m\u001b[0m\u001b[0m\n\u001b[0;32m   2208\u001b[0m         \u001b[0mAffine2DBase\u001b[0m\u001b[1;33m.\u001b[0m\u001b[0m__init__\u001b[0m\u001b[1;33m(\u001b[0m\u001b[0mself\u001b[0m\u001b[1;33m)\u001b[0m\u001b[1;33m\u001b[0m\u001b[0m\n",
      "\u001b[1;32mC:\\Users\\Todd\\Anaconda2\\lib\\site-packages\\matplotlib\\transforms.pyc\u001b[0m in \u001b[0;36mset_children\u001b[1;34m(self, *children)\u001b[0m\n\u001b[0;32m    168\u001b[0m         \"\"\"\n\u001b[0;32m    169\u001b[0m         \u001b[1;32mfor\u001b[0m \u001b[0mchild\u001b[0m \u001b[1;32min\u001b[0m \u001b[0mchildren\u001b[0m\u001b[1;33m:\u001b[0m\u001b[1;33m\u001b[0m\u001b[0m\n\u001b[1;32m--> 170\u001b[1;33m             \u001b[0mchild\u001b[0m\u001b[1;33m.\u001b[0m\u001b[0m_parents\u001b[0m\u001b[1;33m[\u001b[0m\u001b[0mid\u001b[0m\u001b[1;33m(\u001b[0m\u001b[0mself\u001b[0m\u001b[1;33m)\u001b[0m\u001b[1;33m]\u001b[0m \u001b[1;33m=\u001b[0m \u001b[0mself\u001b[0m\u001b[1;33m\u001b[0m\u001b[0m\n\u001b[0m\u001b[0;32m    171\u001b[0m \u001b[1;33m\u001b[0m\u001b[0m\n\u001b[0;32m    172\u001b[0m     \u001b[1;32mif\u001b[0m \u001b[0mDEBUG\u001b[0m\u001b[1;33m:\u001b[0m\u001b[1;33m\u001b[0m\u001b[0m\n",
      "\u001b[1;31mKeyboardInterrupt\u001b[0m: "
     ]
    },
    {
     "data": {
      "text/plain": [
       "<matplotlib.figure.Figure at 0xb509550>"
      ]
     },
     "metadata": {},
     "output_type": "display_data"
    }
   ],
   "source": [
    "import random\n",
    "import time\n",
    "from IPython import display\n",
    "\n",
    "board = np.zeros((9,9))\n",
    "for x in [(7,1),(6,2),(5,2),(4,3)]:\n",
    "    board[x]=1\n",
    "for o in [(2,2),(3,5),(4,6),(4,7)]:\n",
    "    board[o]=-1\n",
    "big_board = np.array([[0,0,0],\n",
    "                      [0,0,0],\n",
    "                      [0,0,0]])\n",
    "\n",
    "active_board = (1,1)\n",
    "player = 1\n",
    "game = Board(board=board,big_board = big_board,active_board=active_board,player = player)\n",
    "loglen = len(game.log)\n",
    "for sims in range(5):\n",
    "    while not game.over:\n",
    "\n",
    "        move = random.choice(game.legal_moves())\n",
    "        game.update_move(move)\n",
    "        display.clear_output(wait = True)\n",
    "        fancy_board(game)\n",
    "        plt.show()    \n",
    "        time.sleep(0.)\n",
    "        if game.over:\n",
    "            print game.result\n",
    "\n",
    "    while len(game.log)>loglen:\n",
    "        game.erase_move()\n",
    "        display.clear_output(wait = True)\n",
    "        fancy_board(game)\n",
    "        plt.show()    \n",
    "        time.sleep(0.)\n",
    "        if game.over:\n",
    "            print game.result\n"
   ]
  },
  {
   "cell_type": "code",
   "execution_count": 676,
   "metadata": {
    "collapsed": false
   },
   "outputs": [
    {
     "data": {
      "text/plain": [
       "array([[False, False, False, False, False, False, False, False, False],\n",
       "       [False, False, False, False, False, False, False, False, False],\n",
       "       [False, False,  True, False, False, False, False, False, False],\n",
       "       [False, False, False, False, False,  True, False, False, False],\n",
       "       [False, False, False,  True, False, False,  True,  True, False],\n",
       "       [False, False,  True, False, False, False, False, False, False],\n",
       "       [False, False,  True, False, False, False, False, False, False],\n",
       "       [False,  True, False, False, False, False, False, False, False],\n",
       "       [False, False, False, False, False, False, False, False, False]], dtype=bool)"
      ]
     },
     "execution_count": 676,
     "metadata": {},
     "output_type": "execute_result"
    }
   ],
   "source": [
    "(board == 1) + (board == -1)"
   ]
  },
  {
   "cell_type": "code",
   "execution_count": null,
   "metadata": {
    "collapsed": true
   },
   "outputs": [],
   "source": []
  }
 ],
 "metadata": {
  "kernelspec": {
   "display_name": "Python 2",
   "language": "python",
   "name": "python2"
  },
  "language_info": {
   "codemirror_mode": {
    "name": "ipython",
    "version": 2
   },
   "file_extension": ".py",
   "mimetype": "text/x-python",
   "name": "python",
   "nbconvert_exporter": "python",
   "pygments_lexer": "ipython2",
   "version": "2.7.12"
  }
 },
 "nbformat": 4,
 "nbformat_minor": 0
}
