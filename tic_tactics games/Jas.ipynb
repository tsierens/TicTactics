{
 "cells": [
  {
   "cell_type": "code",
   "execution_count": 1,
   "metadata": {
    "collapsed": false
   },
   "outputs": [
    {
     "name": "stdout",
     "output_type": "stream",
     "text": [
      "11650854771297938629\n",
      "this node has 7 children\n",
      "move:(5, 8), runs:   680333, eval:-0.3434, principal:58 67 15 46 31 04 13 40 42 48 56 81 75 36 22 76 \n",
      "move:(4, 8), runs:     4108, eval:-0.1916, principal:48 58 68 16 42 36 \n",
      "move:(3, 8), runs:     3926, eval:-0.1844, principal:38 28 78 57 73 30 \n",
      "move:(4, 6), runs:     3855, eval:-0.1813, principal:46 31 04 05 28 \n",
      "move:(5, 7), runs:     3307, eval:-0.1545, principal:57 73 42 58 67 \n",
      "move:(3, 6), runs:     2723, eval:-0.1138, principal:36 22 67 14 44 \n",
      "move:(4, 7), runs:     1747, eval:+0.0149, principal:47 44 54 63 11 \n",
      "\n",
      "58 67 15 46 31 04 13 40 42 48 56 81 75 36 22 76 \n"
     ]
    },
    {
     "ename": "KeyboardInterrupt",
     "evalue": "",
     "output_type": "error",
     "traceback": [
      "\u001b[1;31m---------------------------------------------------------------------------\u001b[0m",
      "\u001b[1;31mKeyboardInterrupt\u001b[0m                         Traceback (most recent call last)",
      "\u001b[1;32m<ipython-input-1-e173de6db50e>\u001b[0m in \u001b[0;36m<module>\u001b[1;34m()\u001b[0m\n\u001b[0;32m     32\u001b[0m \u001b[0mtact\u001b[0m\u001b[1;33m.\u001b[0m\u001b[0mfancy_board\u001b[0m\u001b[1;33m(\u001b[0m\u001b[0mgame\u001b[0m\u001b[1;33m)\u001b[0m\u001b[1;33m\u001b[0m\u001b[0m\n\u001b[0;32m     33\u001b[0m \u001b[1;33m\u001b[0m\u001b[0m\n\u001b[1;32m---> 34\u001b[1;33m \u001b[0mmc_sim\u001b[0m\u001b[1;33m(\u001b[0m\u001b[0mroot\u001b[0m\u001b[1;33m,\u001b[0m\u001b[0mgame\u001b[0m\u001b[1;33m,\u001b[0m\u001b[0mbranch\u001b[0m \u001b[1;33m=\u001b[0m \u001b[1;36m50\u001b[0m\u001b[1;33m,\u001b[0m\u001b[0mpasses\u001b[0m \u001b[1;33m=\u001b[0m \u001b[1;36m100000000\u001b[0m\u001b[1;33m)\u001b[0m\u001b[1;33m\u001b[0m\u001b[0m\n\u001b[0m",
      "\u001b[1;32mC:\\Users\\Todd\\Dropbox\\games\\MC.pyx\u001b[0m in \u001b[0;36mMC.mc_sim (MC.c:5093)\u001b[1;34m()\u001b[0m\n\u001b[0;32m    222\u001b[0m \u001b[1;33m\u001b[0m\u001b[0m\n\u001b[0;32m    223\u001b[0m \u001b[1;33m\u001b[0m\u001b[0m\n\u001b[1;32m--> 224\u001b[1;33m \u001b[0mcpdef\u001b[0m \u001b[0mmc_sim\u001b[0m\u001b[1;33m(\u001b[0m\u001b[0mMC_node\u001b[0m \u001b[0mroot\u001b[0m\u001b[1;33m,\u001b[0m\u001b[0mBoard\u001b[0m \u001b[0mgame\u001b[0m\u001b[1;33m,\u001b[0m\u001b[0mint\u001b[0m \u001b[0mbranch\u001b[0m \u001b[1;33m=\u001b[0m \u001b[1;33m-\u001b[0m\u001b[1;36m1\u001b[0m\u001b[1;33m,\u001b[0m\u001b[0mdouble\u001b[0m \u001b[0mmax_time\u001b[0m \u001b[1;33m=\u001b[0m \u001b[1;36m0.\u001b[0m\u001b[1;33m,\u001b[0m\u001b[0mlong\u001b[0m \u001b[0mpasses\u001b[0m \u001b[1;33m=\u001b[0m \u001b[1;36m1000000\u001b[0m\u001b[1;33m,\u001b[0m\u001b[0mobject\u001b[0m \u001b[0meval_fun\u001b[0m \u001b[1;33m=\u001b[0m \u001b[0mNone\u001b[0m\u001b[1;33m)\u001b[0m\u001b[1;33m:\u001b[0m\u001b[1;33m\u001b[0m\u001b[0m\n\u001b[0m\u001b[0;32m    225\u001b[0m     \u001b[0mcdef\u001b[0m \u001b[0mint\u001b[0m \u001b[0mi\u001b[0m\u001b[1;33m,\u001b[0m\u001b[0mcount\u001b[0m\u001b[1;33m\u001b[0m\u001b[0m\n\u001b[0;32m    226\u001b[0m     \u001b[0mcdef\u001b[0m \u001b[0mint\u001b[0m \u001b[0mlog_len\u001b[0m\u001b[1;33m\u001b[0m\u001b[0m\n",
      "\u001b[1;32mC:\\Users\\Todd\\Dropbox\\games\\MC.pyx\u001b[0m in \u001b[0;36mMC.mc_sim (MC.c:4897)\u001b[1;34m()\u001b[0m\n\u001b[0;32m    238\u001b[0m         \u001b[1;32mif\u001b[0m \u001b[0mcount\u001b[0m\u001b[1;33m%\u001b[0m\u001b[1;36m1000\u001b[0m\u001b[1;33m==\u001b[0m\u001b[1;36m0\u001b[0m\u001b[1;33m:\u001b[0m\u001b[1;33m\u001b[0m\u001b[0m\n\u001b[0;32m    239\u001b[0m             \u001b[0mPyErr_CheckSignals\u001b[0m\u001b[1;33m(\u001b[0m\u001b[1;33m)\u001b[0m\u001b[1;33m\u001b[0m\u001b[0m\n\u001b[1;32m--> 240\u001b[1;33m             \u001b[0mprint_node\u001b[0m\u001b[1;33m(\u001b[0m\u001b[0mroot\u001b[0m\u001b[1;33m)\u001b[0m\u001b[1;33m\u001b[0m\u001b[0m\n\u001b[0m\u001b[0;32m    241\u001b[0m         \u001b[1;31m#if root.solved:\u001b[0m\u001b[1;33m\u001b[0m\u001b[1;33m\u001b[0m\u001b[0m\n\u001b[0;32m    242\u001b[0m         \u001b[1;31m#    print_node(root)\u001b[0m\u001b[1;33m\u001b[0m\u001b[1;33m\u001b[0m\u001b[0m\n",
      "\u001b[1;32mC:\\Users\\Todd\\Dropbox\\games\\MC.pyx\u001b[0m in \u001b[0;36mMC.print_node (MC.c:5232)\u001b[1;34m()\u001b[0m\n\u001b[0;32m    246\u001b[0m \u001b[1;33m\u001b[0m\u001b[0m\n\u001b[0;32m    247\u001b[0m \u001b[1;32mdef\u001b[0m \u001b[0mprint_node\u001b[0m\u001b[1;33m(\u001b[0m\u001b[0mMC_node\u001b[0m \u001b[0mnode\u001b[0m\u001b[1;33m)\u001b[0m\u001b[1;33m:\u001b[0m\u001b[1;33m\u001b[0m\u001b[0m\n\u001b[1;32m--> 248\u001b[1;33m     \u001b[0mdisplay\u001b[0m\u001b[1;33m.\u001b[0m\u001b[0mclear_output\u001b[0m\u001b[1;33m(\u001b[0m\u001b[0mwait\u001b[0m\u001b[1;33m=\u001b[0m\u001b[0mTrue\u001b[0m\u001b[1;33m)\u001b[0m\u001b[1;33m\u001b[0m\u001b[0m\n\u001b[0m\u001b[0;32m    249\u001b[0m     \u001b[1;32mprint\u001b[0m \u001b[0mnode\u001b[0m\u001b[1;33m.\u001b[0m\u001b[0mkey\u001b[0m\u001b[1;33m\u001b[0m\u001b[0m\n\u001b[0;32m    250\u001b[0m     \u001b[1;32mprint\u001b[0m \u001b[1;34m'this node has {} children'\u001b[0m\u001b[1;33m.\u001b[0m\u001b[0mformat\u001b[0m\u001b[1;33m(\u001b[0m\u001b[0mnode\u001b[0m\u001b[1;33m.\u001b[0m\u001b[0mn_children\u001b[0m\u001b[1;33m)\u001b[0m\u001b[1;33m\u001b[0m\u001b[0m\n",
      "\u001b[1;32mC:\\Anaconda2\\lib\\site-packages\\IPython\\core\\display.pyc\u001b[0m in \u001b[0;36mclear_output\u001b[1;34m(wait)\u001b[0m\n\u001b[0;32m    900\u001b[0m     \u001b[1;32mfrom\u001b[0m \u001b[0mIPython\u001b[0m\u001b[1;33m.\u001b[0m\u001b[0mcore\u001b[0m\u001b[1;33m.\u001b[0m\u001b[0minteractiveshell\u001b[0m \u001b[1;32mimport\u001b[0m \u001b[0mInteractiveShell\u001b[0m\u001b[1;33m\u001b[0m\u001b[0m\n\u001b[0;32m    901\u001b[0m     \u001b[1;32mif\u001b[0m \u001b[0mInteractiveShell\u001b[0m\u001b[1;33m.\u001b[0m\u001b[0minitialized\u001b[0m\u001b[1;33m(\u001b[0m\u001b[1;33m)\u001b[0m\u001b[1;33m:\u001b[0m\u001b[1;33m\u001b[0m\u001b[0m\n\u001b[1;32m--> 902\u001b[1;33m         \u001b[0mInteractiveShell\u001b[0m\u001b[1;33m.\u001b[0m\u001b[0minstance\u001b[0m\u001b[1;33m(\u001b[0m\u001b[1;33m)\u001b[0m\u001b[1;33m.\u001b[0m\u001b[0mdisplay_pub\u001b[0m\u001b[1;33m.\u001b[0m\u001b[0mclear_output\u001b[0m\u001b[1;33m(\u001b[0m\u001b[0mwait\u001b[0m\u001b[1;33m)\u001b[0m\u001b[1;33m\u001b[0m\u001b[0m\n\u001b[0m\u001b[0;32m    903\u001b[0m     \u001b[1;32melse\u001b[0m\u001b[1;33m:\u001b[0m\u001b[1;33m\u001b[0m\u001b[0m\n\u001b[0;32m    904\u001b[0m         \u001b[1;32mfrom\u001b[0m \u001b[0mIPython\u001b[0m\u001b[1;33m.\u001b[0m\u001b[0mutils\u001b[0m \u001b[1;32mimport\u001b[0m \u001b[0mio\u001b[0m\u001b[1;33m\u001b[0m\u001b[0m\n",
      "\u001b[1;32mC:\\Anaconda2\\lib\\site-packages\\ipykernel\\zmqshell.pyc\u001b[0m in \u001b[0;36mclear_output\u001b[1;34m(self, wait)\u001b[0m\n\u001b[0;32m     86\u001b[0m     \u001b[1;32mdef\u001b[0m \u001b[0mclear_output\u001b[0m\u001b[1;33m(\u001b[0m\u001b[0mself\u001b[0m\u001b[1;33m,\u001b[0m \u001b[0mwait\u001b[0m\u001b[1;33m=\u001b[0m\u001b[0mFalse\u001b[0m\u001b[1;33m)\u001b[0m\u001b[1;33m:\u001b[0m\u001b[1;33m\u001b[0m\u001b[0m\n\u001b[0;32m     87\u001b[0m         \u001b[0mcontent\u001b[0m \u001b[1;33m=\u001b[0m \u001b[0mdict\u001b[0m\u001b[1;33m(\u001b[0m\u001b[0mwait\u001b[0m\u001b[1;33m=\u001b[0m\u001b[0mwait\u001b[0m\u001b[1;33m)\u001b[0m\u001b[1;33m\u001b[0m\u001b[0m\n\u001b[1;32m---> 88\u001b[1;33m         \u001b[0mself\u001b[0m\u001b[1;33m.\u001b[0m\u001b[0m_flush_streams\u001b[0m\u001b[1;33m(\u001b[0m\u001b[1;33m)\u001b[0m\u001b[1;33m\u001b[0m\u001b[0m\n\u001b[0m\u001b[0;32m     89\u001b[0m         self.session.send(\n\u001b[0;32m     90\u001b[0m             \u001b[0mself\u001b[0m\u001b[1;33m.\u001b[0m\u001b[0mpub_socket\u001b[0m\u001b[1;33m,\u001b[0m \u001b[1;34mu'clear_output'\u001b[0m\u001b[1;33m,\u001b[0m \u001b[0mcontent\u001b[0m\u001b[1;33m,\u001b[0m\u001b[1;33m\u001b[0m\u001b[0m\n",
      "\u001b[1;32mC:\\Anaconda2\\lib\\site-packages\\ipykernel\\zmqshell.pyc\u001b[0m in \u001b[0;36m_flush_streams\u001b[1;34m(self)\u001b[0m\n\u001b[0;32m     68\u001b[0m     \u001b[1;32mdef\u001b[0m \u001b[0m_flush_streams\u001b[0m\u001b[1;33m(\u001b[0m\u001b[0mself\u001b[0m\u001b[1;33m)\u001b[0m\u001b[1;33m:\u001b[0m\u001b[1;33m\u001b[0m\u001b[0m\n\u001b[0;32m     69\u001b[0m         \u001b[1;34m\"\"\"flush IO Streams prior to display\"\"\"\u001b[0m\u001b[1;33m\u001b[0m\u001b[0m\n\u001b[1;32m---> 70\u001b[1;33m         \u001b[0msys\u001b[0m\u001b[1;33m.\u001b[0m\u001b[0mstdout\u001b[0m\u001b[1;33m.\u001b[0m\u001b[0mflush\u001b[0m\u001b[1;33m(\u001b[0m\u001b[1;33m)\u001b[0m\u001b[1;33m\u001b[0m\u001b[0m\n\u001b[0m\u001b[0;32m     71\u001b[0m         \u001b[0msys\u001b[0m\u001b[1;33m.\u001b[0m\u001b[0mstderr\u001b[0m\u001b[1;33m.\u001b[0m\u001b[0mflush\u001b[0m\u001b[1;33m(\u001b[0m\u001b[1;33m)\u001b[0m\u001b[1;33m\u001b[0m\u001b[0m\n\u001b[0;32m     72\u001b[0m \u001b[1;33m\u001b[0m\u001b[0m\n",
      "\u001b[1;32mC:\\Anaconda2\\lib\\site-packages\\ipykernel\\iostream.pyc\u001b[0m in \u001b[0;36mflush\u001b[1;34m(self)\u001b[0m\n\u001b[0;32m    154\u001b[0m             \u001b[1;32mraise\u001b[0m \u001b[0mValueError\u001b[0m\u001b[1;33m(\u001b[0m\u001b[1;34mu'I/O operation on closed file'\u001b[0m\u001b[1;33m)\u001b[0m\u001b[1;33m\u001b[0m\u001b[0m\n\u001b[0;32m    155\u001b[0m \u001b[1;33m\u001b[0m\u001b[0m\n\u001b[1;32m--> 156\u001b[1;33m         \u001b[0mmp_mode\u001b[0m \u001b[1;33m=\u001b[0m \u001b[0mself\u001b[0m\u001b[1;33m.\u001b[0m\u001b[0m_check_mp_mode\u001b[0m\u001b[1;33m(\u001b[0m\u001b[1;33m)\u001b[0m\u001b[1;33m\u001b[0m\u001b[0m\n\u001b[0m\u001b[0;32m    157\u001b[0m \u001b[1;33m\u001b[0m\u001b[0m\n\u001b[0;32m    158\u001b[0m         \u001b[1;32mif\u001b[0m \u001b[0mmp_mode\u001b[0m \u001b[1;33m!=\u001b[0m \u001b[0mCHILD\u001b[0m\u001b[1;33m:\u001b[0m\u001b[1;33m\u001b[0m\u001b[0m\n",
      "\u001b[1;32mC:\\Anaconda2\\lib\\site-packages\\ipykernel\\iostream.pyc\u001b[0m in \u001b[0;36m_check_mp_mode\u001b[1;34m(self)\u001b[0m\n\u001b[0;32m    100\u001b[0m         \u001b[1;32mreturn\u001b[0m \u001b[0mos\u001b[0m\u001b[1;33m.\u001b[0m\u001b[0mgetpid\u001b[0m\u001b[1;33m(\u001b[0m\u001b[1;33m)\u001b[0m \u001b[1;33m==\u001b[0m \u001b[0mself\u001b[0m\u001b[1;33m.\u001b[0m\u001b[0m_pipe_pid\u001b[0m\u001b[1;33m\u001b[0m\u001b[0m\n\u001b[0;32m    101\u001b[0m \u001b[1;33m\u001b[0m\u001b[0m\n\u001b[1;32m--> 102\u001b[1;33m     \u001b[1;32mdef\u001b[0m \u001b[0m_check_mp_mode\u001b[0m\u001b[1;33m(\u001b[0m\u001b[0mself\u001b[0m\u001b[1;33m)\u001b[0m\u001b[1;33m:\u001b[0m\u001b[1;33m\u001b[0m\u001b[0m\n\u001b[0m\u001b[0;32m    103\u001b[0m         \u001b[1;34m\"\"\"check for forks, and switch to zmq pipeline if necessary\"\"\"\u001b[0m\u001b[1;33m\u001b[0m\u001b[0m\n\u001b[0;32m    104\u001b[0m         \u001b[1;32mif\u001b[0m \u001b[1;32mnot\u001b[0m \u001b[0mself\u001b[0m\u001b[1;33m.\u001b[0m\u001b[0m_pipe_flag\u001b[0m \u001b[1;32mor\u001b[0m \u001b[0mself\u001b[0m\u001b[1;33m.\u001b[0m\u001b[0m_is_master_process\u001b[0m\u001b[1;33m(\u001b[0m\u001b[1;33m)\u001b[0m\u001b[1;33m:\u001b[0m\u001b[1;33m\u001b[0m\u001b[0m\n",
      "\u001b[1;31mKeyboardInterrupt\u001b[0m: "
     ]
    },
    {
     "data": {
      "image/png": "[encoded data removed]",
      "text/plain": [
       "<matplotlib.figure.Figure at 0x3f9ecc0>"
      ]
     },
     "metadata": {},
     "output_type": "display_data"
    }
   ],
   "source": [
    "import sys\n",
    "sys.path.append('../')\n",
    "\n",
    "import tictactics_cython as tact\n",
    "from tictactics_cython import Board\n",
    "import MC\n",
    "from MC import MC_node,mc_sim\n",
    "import matplotlib\n",
    "import numpy as np\n",
    "import cProfile\n",
    "from matplotlib import pyplot as plt\n",
    "import time\n",
    "%matplotlib inline\n",
    "\n",
    "board = np.zeros((9,9))\n",
    "for x in [(1,2),(0,8),(2,5),(3,3),(3,7),(5,1),(7,0),(7,4),(8,6)]:\n",
    "    board[x]=1\n",
    "for o in [(2,0),(2,1),(0,6),(4,3),(4,5),(6,1),(6,2),(7,7),(8,8)]:\n",
    "    board[o]=-1\n",
    "big_board = np.array([[0,0,0],\n",
    "                      [0,0,0],\n",
    "                      [0,0,0]])\n",
    "\n",
    "player = 1\n",
    "game = Board(board=board,big_board = big_board,player = player)\n",
    "for move in [(5,5),(6,6),(1,0),(5,2),(8,7),(8,3),(7,2)]:\n",
    "    game.update_move(move)\n",
    "log_len = len(game.log)\n",
    "\n",
    "root = MC_node(game,1)\n",
    "\n",
    "tact.fancy_board(game)\n",
    "\n",
    "mc_sim(root,game,branch = 50,passes = 100000000)"
   ]
  },
  {
   "cell_type": "code",
   "execution_count": 3,
   "metadata": {
    "collapsed": false
   },
   "outputs": [
    {
     "name": "stdout",
     "output_type": "stream",
     "text": [
      "nodes visited   1871\n",
      "cache space     30000034\n",
      "nodes stored    1023\n",
      "nodes forgotten 0\n",
      "current depth   0\n",
      "current node    \n",
      "role: max\n",
      "  root: work:       425 pn0:    INF pn1:    INF dn0:      0 dn1:      0 \n",
      "\n",
      "role: min\n",
      "(6, 3): work:         1 pn0:    INF pn1:    INF dn0:      0 dn1:      0 \n",
      "(7, 3): work:        41 pn0:    INF pn1:    INF dn0:      0 dn1:      0 \n",
      "(7, 5): work:         6 pn0:    INF pn1:    INF dn0:      0 dn1:      0 \n",
      "(8, 4): work:       376 pn0:    INF pn1:    INF dn0:      0 dn1:      0 \n",
      "\n",
      "time 0.0207667359\n",
      "\n",
      "(6, 3)(2, 2) p2win\n",
      "(7, 3)(3, 2)\n",
      "\t(1, 8)(5, 7) p2win\n",
      "\t(2, 6)(7, 1)\n",
      "\t\t(5, 3)(8, 0)\n",
      "\t\t\t(6, 0)(2, 2) p2win\n",
      "\t(2, 7)(6, 4)\n",
      "\t\t(0, 3)(2, 2) p2win\n",
      "\t\t(1, 3)(4, 0)\n",
      "\t\t\t(3, 0)(2, 2) p2win\n",
      "\t\t\t(4, 2)(5, 7) p2win\n",
      "\t\t\t(5, 0)(7, 1)\n",
      "\t\t\t\t(5, 3)(8, 0)\n",
      "\t\t(1, 5)(5, 7) p2win\n",
      "(7, 5)(4, 7)\n",
      "\t(5, 3)(8, 0)\n",
      "\t\t(6, 0)(2, 2) p2win\n",
      "\t\t(7, 1)(2, 2) p2win\n",
      "(8, 4)(7, 5)\n",
      "\t(3, 6)(2, 2) p2win\n",
      "\t(3, 8)(2, 6)\n",
      "\t\t(6, 0)(2, 2) p2win\n",
      "\t\t(7, 1)(5, 3)\n",
      "\t\t\t(6, 0)(2, 2) p2win\n",
      "\t\t\t(8, 0)(6, 0)\n",
      "\t\t\t\t(0, 0)(2, 2)\n",
      "\t\t\t\t(0, 1)(1, 5)\n",
      "\t\t\t\t(0, 2)(2, 7)\n",
      "\t\t\t\t(1, 1)(5, 7)\n",
      "\t\t\t\t(2, 2)(5, 7)\n",
      "\t\t(8, 0)(7, 1)\n",
      "\t\t\t(5, 3)(6, 0)\n",
      "\t\t\t\t(0, 0)(2, 2)\n",
      "\t\t\t\t(0, 1)(1, 5)\n",
      "\t\t\t\t(0, 2)(2, 7)\n",
      "\t\t\t\t(1, 1)(5, 7)\n",
      "\t\t\t\t(2, 2)(5, 7)\n",
      "\t(4, 6)(3, 2)\n",
      "\t\t(1, 8)(5, 7) p2win\n",
      "\t\t(2, 6)(6, 0) p2win\n",
      "\t\t(2, 7)(6, 4)\n",
      "\t\t\t(0, 3)(2, 2) p2win\n",
      "\t\t\t(1, 3)(4, 0)\n",
      "\t\t\t\t(3, 0)(2, 2)\n",
      "\t\t\t\t(4, 2)(5, 7)\n",
      "\t\t\t\t(5, 0)(6, 0)\n",
      "\t\t\t(1, 5)(5, 7) p2win\n",
      "\t(4, 7)(5, 3)\n",
      "\t\t(6, 0)(2, 2) p2win\n",
      "\t\t(8, 0)(6, 0)\n",
      "\t\t\t(0, 0)(2, 2) p2win\n",
      "\t\t\t(0, 1)(1, 5)\n",
      "\t\t\t\t(3, 6)(2, 2)\n",
      "\t\t\t\t(3, 8)(2, 6)\n",
      "\t\t\t\t(4, 6)(5, 0)\n",
      "\t\t\t\t(4, 8)(5, 7)\n",
      "\t\t\t\t(5, 7)(6, 4)\n",
      "\t\t\t(0, 2)(2, 6)\n",
      "\t\t\t\t(7, 1)(2, 2)\n",
      "\t\t\t(1, 1)(5, 7) p2win\n",
      "\t\t\t(2, 2)(5, 7) p2win\n",
      "\t(4, 8)(5, 7) p2win\n"
     ]
    },
    {
     "data": {
      "image/png": "[encoded data removed]",
      "text/plain": [
       "<matplotlib.figure.Figure at 0x3a66c88>"
      ]
     },
     "metadata": {},
     "output_type": "display_data"
    }
   ],
   "source": [
    "import sys\n",
    "sys.path.append('../')\n",
    "\n",
    "import tictactics_cython as tact\n",
    "from tictactics_cython import Board\n",
    "import dfpn_multi as dfpn\n",
    "import matplotlib\n",
    "import numpy as np\n",
    "import cProfile\n",
    "from matplotlib import pyplot as plt\n",
    "import time\n",
    "%matplotlib inline\n",
    "\n",
    "board = np.zeros((9,9))\n",
    "for x in [(1,2),(0,8),(2,5),(3,3),(3,7),(5,1),(7,0),(7,4),(8,6)]:\n",
    "    board[x]=1\n",
    "for o in [(2,0),(2,1),(0,6),(4,3),(4,5),(6,1),(6,2),(7,7),(8,8)]:\n",
    "    board[o]=-1\n",
    "big_board = np.array([[0,0,0],\n",
    "                      [0,0,0],\n",
    "                      [0,0,0]])\n",
    "\n",
    "player = 1\n",
    "game = Board(board=board,big_board = big_board,player = player)\n",
    "for move in [(5,5),(6,6),(1,0),(5,2),(8,7),(8,3),(7,2),(5,8),(6,7),(2,3),(8,2),(7,6),(3,1),\n",
    "             (0,4),(0,5),(2,8),(7,8),(5,6),(8,1),(8,5),(6,8),(1,7),(4,4),(3,5),(0,7),(1,4),\n",
    "             (5,4),(6,5),(1,6),(4,1),(3,4),(2,4)]:\n",
    "    game.update_move(move)\n",
    "log_len = len(game.log)\n",
    "dfpn.init()\n",
    "\n",
    "tact.fancy_board(game)\n",
    "t0 = time.clock()\n",
    "# cProfile.run('node,tree = dfpn.solve(game,root = True,epsilon=1.1)',sort = 'tottime')\n",
    "node,tree = dfpn.solve(game,3,{1:0,0:1,-1:2,2:1,-2:1},1,root = True,epsilon=1.02)\n",
    "print 'time',time.clock() - t0\n",
    "print tree"
   ]
  },
  {
   "cell_type": "code",
   "execution_count": 4,
   "metadata": {
    "collapsed": true
   },
   "outputs": [],
   "source": [
    "with open('jas.txt','w') as file_:\n",
    "    file_.write(tree)"
   ]
  },
  {
   "cell_type": "code",
   "execution_count": null,
   "metadata": {
    "collapsed": true
   },
   "outputs": [],
   "source": []
  }
 ],
 "metadata": {
  "kernelspec": {
   "display_name": "Python 2",
   "language": "python",
   "name": "python2"
  },
  "language_info": {
   "codemirror_mode": {
    "name": "ipython",
    "version": 2
   },
   "file_extension": ".py",
   "mimetype": "text/x-python",
   "name": "python",
   "nbconvert_exporter": "python",
   "pygments_lexer": "ipython2",
   "version": "2.7.12"
  }
 },
 "nbformat": 4,
 "nbformat_minor": 0
}
