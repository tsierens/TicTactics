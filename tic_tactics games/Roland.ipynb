{
 "cells": [
  {
   "cell_type": "code",
   "execution_count": 2,
   "metadata": {
    "collapsed": false
   },
   "outputs": [
    {
     "data": {
      "text/plain": [
       "<AsyncResult: _push>"
      ]
     },
     "execution_count": 2,
     "metadata": {},
     "output_type": "execute_result"
    }
   ],
   "source": [
    "from ipyparallel import Client\n",
    "rc = Client()\n",
    "\n",
    "\n",
    "import os\n",
    "path = os.path.dirname(os.getcwd())\n",
    "\n",
    "rc[:].push({'path':path})"
   ]
  },
  {
   "cell_type": "code",
   "execution_count": 1,
   "metadata": {
    "collapsed": false,
    "scrolled": false
   },
   "outputs": [
    {
     "name": "stdout",
     "output_type": "stream",
     "text": [
      "nodes visited   76\n",
      "cache space     30000034\n",
      "nodes stored    63\n",
      "nodes forgotten 0\n",
      "current depth   0\n",
      "current node    \n",
      "role: max\n",
      "root  : work:        56, INF    won, INF    not lost,      0 not won,      0 lost\n",
      "\n",
      "role: min\n",
      "(3, 6): work:        56, INF    won, INF    not lost,      0 not won,      0 lost\n",
      "\n",
      "time 0.00844050753147\n",
      "\n",
      "(3, 6)(0, 2)\n",
      "\t(1, 7)(5, 5)\n",
      "\t\t(7, 6)(4, 2)\n",
      "\t\t\t(4, 7)(5, 3)\n",
      "\t\t\t\t(6, 1)(0, 4)\n",
      "\t\t\t\t(8, 1)(6, 5)\n"
     ]
    },
    {
     "data": {
      "image/png": "[encoded data removed]",
      "text/plain": [
       "<matplotlib.figure.Figure at 0x6dae860>"
      ]
     },
     "metadata": {},
     "output_type": "display_data"
    }
   ],
   "source": [
    "# %%px --targets 1\n",
    "import sys\n",
    "\n",
    "sys.path.append('../')\n",
    "\n",
    "import tictactics_cython as tact\n",
    "from tictactics_cython import Board\n",
    "import MC\n",
    "from MC import MC_node,mc_sim\n",
    "import dfpn\n",
    "import matplotlib\n",
    "import numpy as np\n",
    "import cProfile\n",
    "from matplotlib import pyplot as plt\n",
    "import time\n",
    "%matplotlib inline\n",
    "\n",
    "board = np.zeros((9,9))\n",
    "for x in [(1,4),(0,8),(2,6),(5,4),(4,6),(4,8),(6,6),(8,8)]:\n",
    "    board[x]=1\n",
    "for o in [(1,0),(2,0),(1,8),(2,8),(3,5),(6,0),(7,7),(8,7)]:\n",
    "    board[o]=-1\n",
    "big_board = np.array([[0,0,0],\n",
    "                      [0,0,0],\n",
    "                      [0,0,0]])\n",
    "\n",
    "player = 1\n",
    "game = Board(board=board,big_board = big_board,player = player)\n",
    "for move in [(3,4),(2,3),(7,0),(3,2),(0,7),(1,3),(5,1),(7,5),(3,8),(1,6),(5,0),(7,2),(5,8),(6,7),(1,5),\n",
    "             (5,7),(8,3),(8,2),(7,8),(3,7),(2,5),(6,8),(0,6),(1,2),(5,6),(6,2),(2,7),(8,5),(8,6),(8,0),\n",
    "             (7,1),(4,5)]:\n",
    "    game.update_move(move)\n",
    "log_len = len(game.log)\n",
    "dfpn.init()\n",
    "\n",
    "tact.fancy_board(game)\n",
    "t0 = time.clock()\n",
    "# cProfile.run('node,tree = dfpn.solve(game,root = True,epsilon=1.1)',sort = 'tottime')\n",
    "node,tree = dfpn.solve(game,root = True,epsilon=1.1)\n",
    "print 'time',time.clock() - t0\n",
    "print tree"
   ]
  },
  {
   "cell_type": "code",
   "execution_count": null,
   "metadata": {
    "collapsed": true
   },
   "outputs": [],
   "source": []
  },
  {
   "cell_type": "code",
   "execution_count": 1,
   "metadata": {
    "collapsed": false
   },
   "outputs": [
    {
     "name": "stdout",
     "output_type": "stream",
     "text": [
      "17677833834988926445\n",
      "this node has 1 children\n",
      "move:(7, 6), runs:  1409999, eval:-1.0000, principal:76 31 04 03 11 43 40 30 \n",
      "\n",
      "76 31 04 03 11 43 40 30 \n",
      "         96740 function calls in 3.975 seconds\n",
      "\n",
      "   Ordered by: internal time\n",
      "\n",
      "   ncalls  tottime  percall  cumtime  percall filename:lineno(function)\n",
      "        1    3.433    3.433    3.975    3.975 {MC.mc_sim}\n",
      "     1132    0.058    0.000    0.155    0.000 encoder.py:283(iterencode)\n",
      "     7501    0.042    0.000    0.091    0.000 encoder.py:42(encode_basestring)\n",
      "     1981    0.042    0.000    0.042    0.000 {method 'send' of 'zmq.backend.cython.socket.Socket' objects}\n",
      "     7501    0.031    0.000    0.034    0.000 {method 'sub' of '_sre.SRE_Pattern' objects}\n",
      "     1132    0.023    0.000    0.204    0.000 __init__.py:280(dumps)\n",
      "      283    0.022    0.000    0.027    0.000 uuid.py:103(__init__)\n",
      "      423    0.018    0.000    0.018    0.000 {zmq.backend.cython._poll.zmq_poll}\n",
      "    17542    0.015    0.000    0.015    0.000 {isinstance}\n",
      "     1269    0.014    0.000    0.040    0.000 iostream.py:207(write)\n",
      "      283    0.014    0.000    0.416    0.001 session.py:600(send)\n",
      "      283    0.012    0.000    0.056    0.000 socket.py:289(send_multipart)\n",
      "     1132    0.012    0.000    0.171    0.000 encoder.py:254(encode)\n",
      "     6084    0.011    0.000    0.011    0.000 {method 'search' of '_sre.SRE_Pattern' objects}\n",
      "     1132    0.010    0.000    0.010    0.000 encoder.py:121(__init__)\n",
      "     1132    0.010    0.000    0.221    0.000 jsonapi.py:31(dumps)\n",
      "      283    0.010    0.000    0.273    0.001 session.py:541(serialize)\n",
      "     4243    0.009    0.000    0.016    0.000 traitlets.py:518(__get__)\n",
      "      142    0.009    0.000    0.263    0.002 display.py:893(clear_output)\n",
      "      424    0.007    0.000    0.277    0.001 iostream.py:151(flush)\n",
      "     4243    0.007    0.000    0.007    0.000 traitlets.py:499(get)\n",
      "     1132    0.007    0.000    0.228    0.000 session.py:94(<lambda>)\n",
      "      283    0.007    0.000    0.029    0.000 session.py:526(sign)\n",
      "     1132    0.007    0.000    0.007    0.000 {method 'encode' of 'unicode' objects}\n",
      "     1269    0.006    0.000    0.014    0.000 {method 'decode' of 'str' objects}\n",
      "      423    0.006    0.000    0.032    0.000 iostream.py:123(_flush_from_subprocesses)\n",
      "     1415    0.006    0.000    0.006    0.000 {method 'update' of '_hashlib.HASH' objects}\n",
      "      283    0.006    0.000    0.006    0.000 {built-in method now}\n",
      "      283    0.006    0.000    0.066    0.000 session.py:507(msg)\n",
      "     1269    0.005    0.000    0.005    0.000 {_codecs.utf_8_decode}\n",
      "      142    0.005    0.000    0.251    0.002 zmqshell.py:86(clear_output)\n",
      "      283    0.005    0.000    0.005    0.000 {map}\n",
      "      283    0.004    0.000    0.005    0.000 session.py:211(extract_header)\n",
      "      283    0.004    0.000    0.007    0.000 hmac.py:88(copy)\n",
      "      142    0.004    0.000    0.005    0.000 attrsettr.py:35(__getattr__)\n",
      "     1693    0.004    0.000    0.009    0.000 iostream.py:102(_check_mp_mode)\n",
      "     2116    0.004    0.000    0.005    0.000 iostream.py:93(_is_master_process)\n",
      "      284    0.004    0.000    0.009    0.000 {hasattr}\n",
      "      423    0.003    0.000    0.003    0.000 {range}\n",
      "      283    0.003    0.000    0.033    0.000 uuid.py:582(uuid4)\n",
      "      283    0.003    0.000    0.003    0.000 uuid.py:199(__str__)\n",
      "      423    0.003    0.000    0.003    0.000 iostream.py:247(_new_buffer)\n",
      "      424    0.003    0.000    0.006    0.000 iostream.py:96(_is_master_thread)\n",
      "      283    0.003    0.000    0.055    0.000 session.py:504(msg_header)\n",
      "      283    0.003    0.000    0.040    0.000 session.py:452(msg_id)\n",
      "      423    0.003    0.000    0.008    0.000 iostream.py:238(_flush_buffer)\n",
      "     1269    0.003    0.000    0.003    0.000 {method 'write' of '_io.StringIO' objects}\n",
      "      423    0.003    0.000    0.022    0.000 poll.py:77(poll)\n",
      "     1269    0.003    0.000    0.008    0.000 utf_8.py:15(decode)\n",
      "      283    0.003    0.000    0.003    0.000 {method 'isoformat' of 'datetime.datetime' objects}\n",
      "      849    0.002    0.000    0.002    0.000 {method 'copy' of '_hashlib.HASH' objects}\n",
      "      283    0.002    0.000    0.002    0.000 {nt.urandom}\n",
      "      713    0.002    0.000    0.003    0.000 encoder.py:52(replace)\n",
      "     1132    0.002    0.000    0.007    0.000 hmac.py:83(update)\n",
      "      283    0.002    0.000    0.009    0.000 session.py:206(msg_header)\n",
      "      424    0.002    0.000    0.002    0.000 threading.py:1143(currentThread)\n",
      "      283    0.002    0.000    0.002    0.000 {method 'digest' of '_hashlib.HASH' objects}\n",
      "      283    0.002    0.000    0.002    0.000 {locals}\n",
      "     2399    0.001    0.000    0.001    0.000 {nt.getpid}\n",
      "      283    0.001    0.000    0.004    0.000 hmac.py:100(_current)\n",
      "      283    0.001    0.000    0.001    0.000 {method 'hexdigest' of '_hashlib.HASH' objects}\n",
      "     1132    0.001    0.000    0.001    0.000 {method 'clear' of 'dict' objects}\n",
      "      142    0.001    0.000    0.039    0.000 zmqshell.py:68(_flush_streams)\n",
      "      283    0.001    0.000    0.004    0.000 jsonutil.py:75(date_default)\n",
      "      283    0.001    0.000    0.006    0.000 hmac.py:119(hexdigest)\n",
      "     1269    0.001    0.000    0.001    0.000 {time.time}\n",
      "     1132    0.001    0.000    0.001    0.000 {method 'join' of 'unicode' objects}\n",
      "      142    0.001    0.000    0.001    0.000 configurable.py:418(initialized)\n",
      "      424    0.001    0.000    0.001    0.000 threading.py:974(ident)\n",
      "      283    0.001    0.000    0.001    0.000 {max}\n",
      "     2264    0.001    0.000    0.001    0.000 {len}\n",
      "      566    0.001    0.000    0.001    0.000 {method 'extend' of 'list' objects}\n",
      "      283    0.001    0.000    0.001    0.000 {method 'count' of 'list' objects}\n",
      "      142    0.001    0.000    0.001    0.000 {getattr}\n",
      "      423    0.001    0.000    0.001    0.000 {method 'getvalue' of '_io.StringIO' objects}\n",
      "      423    0.001    0.000    0.001    0.000 {method 'close' of '_io.StringIO' objects}\n",
      "      142    0.001    0.000    0.001    0.000 configurable.py:373(instance)\n",
      "      713    0.001    0.000    0.001    0.000 {method 'group' of '_sre.SRE_Match' objects}\n",
      "      849    0.000    0.000    0.000    0.000 {method 'append' of 'list' objects}\n",
      "      283    0.000    0.000    0.000    0.000 hmac.py:30(__init__)\n",
      "      424    0.000    0.000    0.000    0.000 {thread.get_ident}\n",
      "      283    0.000    0.000    0.000    0.000 {method 'copy' of 'dict' objects}\n",
      "      142    0.000    0.000    0.000    0.000 {method 'upper' of 'str' objects}\n",
      "      283    0.000    0.000    0.000    0.000 {method 'get' of 'dict' objects}\n",
      "      283    0.000    0.000    0.000    0.000 py3compat.py:12(no_code)\n",
      "        1    0.000    0.000    3.975    3.975 <string>:1(<module>)\n",
      "        1    0.000    0.000    0.000    0.000 {method 'disable' of '_lsprof.Profiler' objects}\n",
      "\n",
      "\n"
     ]
    },
    {
     "ename": "KeyboardInterrupt",
     "evalue": "",
     "output_type": "error",
     "traceback": [
      "\u001b[1;31m---------------------------------------------------------------------------\u001b[0m",
      "\u001b[1;31mKeyboardInterrupt\u001b[0m                         Traceback (most recent call last)",
      "\u001b[1;32m<ipython-input-1-df64007bf335>\u001b[0m in \u001b[0;36m<module>\u001b[1;34m()\u001b[0m\n\u001b[0;32m     35\u001b[0m \u001b[0mtact\u001b[0m\u001b[1;33m.\u001b[0m\u001b[0mfancy_board\u001b[0m\u001b[1;33m(\u001b[0m\u001b[0mgame\u001b[0m\u001b[1;33m)\u001b[0m\u001b[1;33m\u001b[0m\u001b[0m\n\u001b[0;32m     36\u001b[0m \u001b[1;33m\u001b[0m\u001b[0m\n\u001b[1;32m---> 37\u001b[1;33m \u001b[0mcProfile\u001b[0m\u001b[1;33m.\u001b[0m\u001b[0mrun\u001b[0m\u001b[1;33m(\u001b[0m\u001b[1;34m'mc_sim(root,game,branch = 50,passes = 100000000)'\u001b[0m\u001b[1;33m,\u001b[0m\u001b[0msort\u001b[0m \u001b[1;33m=\u001b[0m \u001b[1;34m'tottime'\u001b[0m\u001b[1;33m)\u001b[0m\u001b[1;33m\u001b[0m\u001b[0m\n\u001b[0m\u001b[0;32m     38\u001b[0m \u001b[1;33m\u001b[0m\u001b[0m\n",
      "\u001b[1;32mC:\\Users\\Todd\\Anaconda2\\lib\\cProfile.pyc\u001b[0m in \u001b[0;36mrun\u001b[1;34m(statement, filename, sort)\u001b[0m\n\u001b[0;32m     27\u001b[0m     \u001b[1;32mtry\u001b[0m\u001b[1;33m:\u001b[0m\u001b[1;33m\u001b[0m\u001b[0m\n\u001b[0;32m     28\u001b[0m         \u001b[1;32mtry\u001b[0m\u001b[1;33m:\u001b[0m\u001b[1;33m\u001b[0m\u001b[0m\n\u001b[1;32m---> 29\u001b[1;33m             \u001b[0mprof\u001b[0m \u001b[1;33m=\u001b[0m \u001b[0mprof\u001b[0m\u001b[1;33m.\u001b[0m\u001b[0mrun\u001b[0m\u001b[1;33m(\u001b[0m\u001b[0mstatement\u001b[0m\u001b[1;33m)\u001b[0m\u001b[1;33m\u001b[0m\u001b[0m\n\u001b[0m\u001b[0;32m     30\u001b[0m         \u001b[1;32mexcept\u001b[0m \u001b[0mSystemExit\u001b[0m\u001b[1;33m:\u001b[0m\u001b[1;33m\u001b[0m\u001b[0m\n\u001b[0;32m     31\u001b[0m             \u001b[1;32mpass\u001b[0m\u001b[1;33m\u001b[0m\u001b[0m\n",
      "\u001b[1;32mC:\\Users\\Todd\\Anaconda2\\lib\\cProfile.pyc\u001b[0m in \u001b[0;36mrun\u001b[1;34m(self, cmd)\u001b[0m\n\u001b[0;32m    133\u001b[0m         \u001b[1;32mimport\u001b[0m \u001b[0m__main__\u001b[0m\u001b[1;33m\u001b[0m\u001b[0m\n\u001b[0;32m    134\u001b[0m         \u001b[0mdict\u001b[0m \u001b[1;33m=\u001b[0m \u001b[0m__main__\u001b[0m\u001b[1;33m.\u001b[0m\u001b[0m__dict__\u001b[0m\u001b[1;33m\u001b[0m\u001b[0m\n\u001b[1;32m--> 135\u001b[1;33m         \u001b[1;32mreturn\u001b[0m \u001b[0mself\u001b[0m\u001b[1;33m.\u001b[0m\u001b[0mrunctx\u001b[0m\u001b[1;33m(\u001b[0m\u001b[0mcmd\u001b[0m\u001b[1;33m,\u001b[0m \u001b[0mdict\u001b[0m\u001b[1;33m,\u001b[0m \u001b[0mdict\u001b[0m\u001b[1;33m)\u001b[0m\u001b[1;33m\u001b[0m\u001b[0m\n\u001b[0m\u001b[0;32m    136\u001b[0m \u001b[1;33m\u001b[0m\u001b[0m\n\u001b[0;32m    137\u001b[0m     \u001b[1;32mdef\u001b[0m \u001b[0mrunctx\u001b[0m\u001b[1;33m(\u001b[0m\u001b[0mself\u001b[0m\u001b[1;33m,\u001b[0m \u001b[0mcmd\u001b[0m\u001b[1;33m,\u001b[0m \u001b[0mglobals\u001b[0m\u001b[1;33m,\u001b[0m \u001b[0mlocals\u001b[0m\u001b[1;33m)\u001b[0m\u001b[1;33m:\u001b[0m\u001b[1;33m\u001b[0m\u001b[0m\n",
      "\u001b[1;32mC:\\Users\\Todd\\Anaconda2\\lib\\cProfile.pyc\u001b[0m in \u001b[0;36mrunctx\u001b[1;34m(self, cmd, globals, locals)\u001b[0m\n\u001b[0;32m    138\u001b[0m         \u001b[0mself\u001b[0m\u001b[1;33m.\u001b[0m\u001b[0menable\u001b[0m\u001b[1;33m(\u001b[0m\u001b[1;33m)\u001b[0m\u001b[1;33m\u001b[0m\u001b[0m\n\u001b[0;32m    139\u001b[0m         \u001b[1;32mtry\u001b[0m\u001b[1;33m:\u001b[0m\u001b[1;33m\u001b[0m\u001b[0m\n\u001b[1;32m--> 140\u001b[1;33m             \u001b[1;32mexec\u001b[0m \u001b[0mcmd\u001b[0m \u001b[1;32min\u001b[0m \u001b[0mglobals\u001b[0m\u001b[1;33m,\u001b[0m \u001b[0mlocals\u001b[0m\u001b[1;33m\u001b[0m\u001b[0m\n\u001b[0m\u001b[0;32m    141\u001b[0m         \u001b[1;32mfinally\u001b[0m\u001b[1;33m:\u001b[0m\u001b[1;33m\u001b[0m\u001b[0m\n\u001b[0;32m    142\u001b[0m             \u001b[0mself\u001b[0m\u001b[1;33m.\u001b[0m\u001b[0mdisable\u001b[0m\u001b[1;33m(\u001b[0m\u001b[1;33m)\u001b[0m\u001b[1;33m\u001b[0m\u001b[0m\n",
      "\u001b[1;32m<string>\u001b[0m in \u001b[0;36m<module>\u001b[1;34m()\u001b[0m\n",
      "\u001b[1;32mC:\\Users\\Todd\\Dropbox\\games\\MC.pyx\u001b[0m in \u001b[0;36mMC.mc_sim (MC.c:5093)\u001b[1;34m()\u001b[0m\n\u001b[0;32m    222\u001b[0m \u001b[1;33m\u001b[0m\u001b[0m\n\u001b[0;32m    223\u001b[0m \u001b[1;33m\u001b[0m\u001b[0m\n\u001b[1;32m--> 224\u001b[1;33m \u001b[0mcpdef\u001b[0m \u001b[0mmc_sim\u001b[0m\u001b[1;33m(\u001b[0m\u001b[0mMC_node\u001b[0m \u001b[0mroot\u001b[0m\u001b[1;33m,\u001b[0m\u001b[0mBoard\u001b[0m \u001b[0mgame\u001b[0m\u001b[1;33m,\u001b[0m\u001b[0mint\u001b[0m \u001b[0mbranch\u001b[0m \u001b[1;33m=\u001b[0m \u001b[1;33m-\u001b[0m\u001b[1;36m1\u001b[0m\u001b[1;33m,\u001b[0m\u001b[0mdouble\u001b[0m \u001b[0mmax_time\u001b[0m \u001b[1;33m=\u001b[0m \u001b[1;36m0.\u001b[0m\u001b[1;33m,\u001b[0m\u001b[0mlong\u001b[0m \u001b[0mpasses\u001b[0m \u001b[1;33m=\u001b[0m \u001b[1;36m1000000\u001b[0m\u001b[1;33m,\u001b[0m\u001b[0mobject\u001b[0m \u001b[0meval_fun\u001b[0m \u001b[1;33m=\u001b[0m \u001b[0mNone\u001b[0m\u001b[1;33m)\u001b[0m\u001b[1;33m:\u001b[0m\u001b[1;33m\u001b[0m\u001b[0m\n\u001b[0m\u001b[0;32m    225\u001b[0m     \u001b[0mcdef\u001b[0m \u001b[0mint\u001b[0m \u001b[0mi\u001b[0m\u001b[1;33m,\u001b[0m\u001b[0mcount\u001b[0m\u001b[1;33m\u001b[0m\u001b[0m\n\u001b[0;32m    226\u001b[0m     \u001b[0mcdef\u001b[0m \u001b[0mint\u001b[0m \u001b[0mlog_len\u001b[0m\u001b[1;33m\u001b[0m\u001b[0m\n",
      "\u001b[1;32mC:\\Users\\Todd\\Dropbox\\games\\MC.pyx\u001b[0m in \u001b[0;36mMC.mc_sim (MC.c:4897)\u001b[1;34m()\u001b[0m\n\u001b[0;32m    238\u001b[0m         \u001b[1;32mif\u001b[0m \u001b[0mcount\u001b[0m\u001b[1;33m%\u001b[0m\u001b[1;36m10000\u001b[0m\u001b[1;33m==\u001b[0m\u001b[1;36m0\u001b[0m\u001b[1;33m:\u001b[0m\u001b[1;33m\u001b[0m\u001b[0m\n\u001b[0;32m    239\u001b[0m             \u001b[0mPyErr_CheckSignals\u001b[0m\u001b[1;33m(\u001b[0m\u001b[1;33m)\u001b[0m\u001b[1;33m\u001b[0m\u001b[0m\n\u001b[1;32m--> 240\u001b[1;33m             \u001b[0mprint_node\u001b[0m\u001b[1;33m(\u001b[0m\u001b[0mroot\u001b[0m\u001b[1;33m)\u001b[0m\u001b[1;33m\u001b[0m\u001b[0m\n\u001b[0m\u001b[0;32m    241\u001b[0m         \u001b[1;31m#if root.solved:\u001b[0m\u001b[1;33m\u001b[0m\u001b[1;33m\u001b[0m\u001b[0m\n\u001b[0;32m    242\u001b[0m         \u001b[1;31m#    print_node(root)\u001b[0m\u001b[1;33m\u001b[0m\u001b[1;33m\u001b[0m\u001b[0m\n",
      "\u001b[1;32mC:\\Users\\Todd\\Dropbox\\games\\MC.pyx\u001b[0m in \u001b[0;36mMC.print_node (MC.c:5232)\u001b[1;34m()\u001b[0m\n\u001b[0;32m    246\u001b[0m \u001b[1;33m\u001b[0m\u001b[0m\n\u001b[0;32m    247\u001b[0m \u001b[1;32mdef\u001b[0m \u001b[0mprint_node\u001b[0m\u001b[1;33m(\u001b[0m\u001b[0mMC_node\u001b[0m \u001b[0mnode\u001b[0m\u001b[1;33m)\u001b[0m\u001b[1;33m:\u001b[0m\u001b[1;33m\u001b[0m\u001b[0m\n\u001b[1;32m--> 248\u001b[1;33m     \u001b[0mdisplay\u001b[0m\u001b[1;33m.\u001b[0m\u001b[0mclear_output\u001b[0m\u001b[1;33m(\u001b[0m\u001b[0mwait\u001b[0m\u001b[1;33m=\u001b[0m\u001b[0mTrue\u001b[0m\u001b[1;33m)\u001b[0m\u001b[1;33m\u001b[0m\u001b[0m\n\u001b[0m\u001b[0;32m    249\u001b[0m     \u001b[1;32mprint\u001b[0m \u001b[0mnode\u001b[0m\u001b[1;33m.\u001b[0m\u001b[0mkey\u001b[0m\u001b[1;33m\u001b[0m\u001b[0m\n\u001b[0;32m    250\u001b[0m     \u001b[1;32mprint\u001b[0m \u001b[1;34m'this node has {} children'\u001b[0m\u001b[1;33m.\u001b[0m\u001b[0mformat\u001b[0m\u001b[1;33m(\u001b[0m\u001b[0mnode\u001b[0m\u001b[1;33m.\u001b[0m\u001b[0mn_children\u001b[0m\u001b[1;33m)\u001b[0m\u001b[1;33m\u001b[0m\u001b[0m\n",
      "\u001b[1;32mC:\\Users\\Todd\\Anaconda2\\lib\\site-packages\\IPython\\core\\display.pyc\u001b[0m in \u001b[0;36mclear_output\u001b[1;34m(wait)\u001b[0m\n\u001b[0;32m    900\u001b[0m     \u001b[1;32mfrom\u001b[0m \u001b[0mIPython\u001b[0m\u001b[1;33m.\u001b[0m\u001b[0mcore\u001b[0m\u001b[1;33m.\u001b[0m\u001b[0minteractiveshell\u001b[0m \u001b[1;32mimport\u001b[0m \u001b[0mInteractiveShell\u001b[0m\u001b[1;33m\u001b[0m\u001b[0m\n\u001b[0;32m    901\u001b[0m     \u001b[1;32mif\u001b[0m \u001b[0mInteractiveShell\u001b[0m\u001b[1;33m.\u001b[0m\u001b[0minitialized\u001b[0m\u001b[1;33m(\u001b[0m\u001b[1;33m)\u001b[0m\u001b[1;33m:\u001b[0m\u001b[1;33m\u001b[0m\u001b[0m\n\u001b[1;32m--> 902\u001b[1;33m         \u001b[0mInteractiveShell\u001b[0m\u001b[1;33m.\u001b[0m\u001b[0minstance\u001b[0m\u001b[1;33m(\u001b[0m\u001b[1;33m)\u001b[0m\u001b[1;33m.\u001b[0m\u001b[0mdisplay_pub\u001b[0m\u001b[1;33m.\u001b[0m\u001b[0mclear_output\u001b[0m\u001b[1;33m(\u001b[0m\u001b[0mwait\u001b[0m\u001b[1;33m)\u001b[0m\u001b[1;33m\u001b[0m\u001b[0m\n\u001b[0m\u001b[0;32m    903\u001b[0m     \u001b[1;32melse\u001b[0m\u001b[1;33m:\u001b[0m\u001b[1;33m\u001b[0m\u001b[0m\n\u001b[0;32m    904\u001b[0m         \u001b[1;32mfrom\u001b[0m \u001b[0mIPython\u001b[0m\u001b[1;33m.\u001b[0m\u001b[0mutils\u001b[0m \u001b[1;32mimport\u001b[0m \u001b[0mio\u001b[0m\u001b[1;33m\u001b[0m\u001b[0m\n",
      "\u001b[1;32mC:\\Users\\Todd\\Anaconda2\\lib\\site-packages\\ipykernel\\zmqshell.pyc\u001b[0m in \u001b[0;36mclear_output\u001b[1;34m(self, wait)\u001b[0m\n\u001b[0;32m     86\u001b[0m     \u001b[1;32mdef\u001b[0m \u001b[0mclear_output\u001b[0m\u001b[1;33m(\u001b[0m\u001b[0mself\u001b[0m\u001b[1;33m,\u001b[0m \u001b[0mwait\u001b[0m\u001b[1;33m=\u001b[0m\u001b[0mFalse\u001b[0m\u001b[1;33m)\u001b[0m\u001b[1;33m:\u001b[0m\u001b[1;33m\u001b[0m\u001b[0m\n\u001b[0;32m     87\u001b[0m         \u001b[0mcontent\u001b[0m \u001b[1;33m=\u001b[0m \u001b[0mdict\u001b[0m\u001b[1;33m(\u001b[0m\u001b[0mwait\u001b[0m\u001b[1;33m=\u001b[0m\u001b[0mwait\u001b[0m\u001b[1;33m)\u001b[0m\u001b[1;33m\u001b[0m\u001b[0m\n\u001b[1;32m---> 88\u001b[1;33m         \u001b[0mself\u001b[0m\u001b[1;33m.\u001b[0m\u001b[0m_flush_streams\u001b[0m\u001b[1;33m(\u001b[0m\u001b[1;33m)\u001b[0m\u001b[1;33m\u001b[0m\u001b[0m\n\u001b[0m\u001b[0;32m     89\u001b[0m         self.session.send(\n\u001b[0;32m     90\u001b[0m             \u001b[0mself\u001b[0m\u001b[1;33m.\u001b[0m\u001b[0mpub_socket\u001b[0m\u001b[1;33m,\u001b[0m \u001b[1;34mu'clear_output'\u001b[0m\u001b[1;33m,\u001b[0m \u001b[0mcontent\u001b[0m\u001b[1;33m,\u001b[0m\u001b[1;33m\u001b[0m\u001b[0m\n",
      "\u001b[1;32mC:\\Users\\Todd\\Anaconda2\\lib\\site-packages\\ipykernel\\zmqshell.pyc\u001b[0m in \u001b[0;36m_flush_streams\u001b[1;34m(self)\u001b[0m\n\u001b[0;32m     68\u001b[0m     \u001b[1;32mdef\u001b[0m \u001b[0m_flush_streams\u001b[0m\u001b[1;33m(\u001b[0m\u001b[0mself\u001b[0m\u001b[1;33m)\u001b[0m\u001b[1;33m:\u001b[0m\u001b[1;33m\u001b[0m\u001b[0m\n\u001b[0;32m     69\u001b[0m         \u001b[1;34m\"\"\"flush IO Streams prior to display\"\"\"\u001b[0m\u001b[1;33m\u001b[0m\u001b[0m\n\u001b[1;32m---> 70\u001b[1;33m         \u001b[0msys\u001b[0m\u001b[1;33m.\u001b[0m\u001b[0mstdout\u001b[0m\u001b[1;33m.\u001b[0m\u001b[0mflush\u001b[0m\u001b[1;33m(\u001b[0m\u001b[1;33m)\u001b[0m\u001b[1;33m\u001b[0m\u001b[0m\n\u001b[0m\u001b[0;32m     71\u001b[0m         \u001b[0msys\u001b[0m\u001b[1;33m.\u001b[0m\u001b[0mstderr\u001b[0m\u001b[1;33m.\u001b[0m\u001b[0mflush\u001b[0m\u001b[1;33m(\u001b[0m\u001b[1;33m)\u001b[0m\u001b[1;33m\u001b[0m\u001b[0m\n\u001b[0;32m     72\u001b[0m \u001b[1;33m\u001b[0m\u001b[0m\n",
      "\u001b[1;32mC:\\Users\\Todd\\Anaconda2\\lib\\site-packages\\ipykernel\\iostream.pyc\u001b[0m in \u001b[0;36mflush\u001b[1;34m(self)\u001b[0m\n\u001b[0;32m    158\u001b[0m         \u001b[1;32mif\u001b[0m \u001b[0mmp_mode\u001b[0m \u001b[1;33m!=\u001b[0m \u001b[0mCHILD\u001b[0m\u001b[1;33m:\u001b[0m\u001b[1;33m\u001b[0m\u001b[0m\n\u001b[0;32m    159\u001b[0m             \u001b[1;31m# we are master\u001b[0m\u001b[1;33m\u001b[0m\u001b[1;33m\u001b[0m\u001b[0m\n\u001b[1;32m--> 160\u001b[1;33m             \u001b[1;32mif\u001b[0m \u001b[1;32mnot\u001b[0m \u001b[0mself\u001b[0m\u001b[1;33m.\u001b[0m\u001b[0m_is_master_thread\u001b[0m\u001b[1;33m(\u001b[0m\u001b[1;33m)\u001b[0m\u001b[1;33m:\u001b[0m\u001b[1;33m\u001b[0m\u001b[0m\n\u001b[0m\u001b[0;32m    161\u001b[0m                 \u001b[1;31m# sub-threads must not trigger flush directly,\u001b[0m\u001b[1;33m\u001b[0m\u001b[1;33m\u001b[0m\u001b[0m\n\u001b[0;32m    162\u001b[0m                 \u001b[1;31m# but at least they can schedule an async flush, or force the timer.\u001b[0m\u001b[1;33m\u001b[0m\u001b[1;33m\u001b[0m\u001b[0m\n",
      "\u001b[1;32mC:\\Users\\Todd\\Anaconda2\\lib\\site-packages\\ipykernel\\iostream.pyc\u001b[0m in \u001b[0;36m_is_master_thread\u001b[1;34m(self)\u001b[0m\n\u001b[0;32m     95\u001b[0m \u001b[1;33m\u001b[0m\u001b[0m\n\u001b[0;32m     96\u001b[0m     \u001b[1;32mdef\u001b[0m \u001b[0m_is_master_thread\u001b[0m\u001b[1;33m(\u001b[0m\u001b[0mself\u001b[0m\u001b[1;33m)\u001b[0m\u001b[1;33m:\u001b[0m\u001b[1;33m\u001b[0m\u001b[0m\n\u001b[1;32m---> 97\u001b[1;33m         \u001b[1;32mreturn\u001b[0m \u001b[0mthreading\u001b[0m\u001b[1;33m.\u001b[0m\u001b[0mcurrent_thread\u001b[0m\u001b[1;33m(\u001b[0m\u001b[1;33m)\u001b[0m\u001b[1;33m.\u001b[0m\u001b[0mident\u001b[0m \u001b[1;33m==\u001b[0m \u001b[0mself\u001b[0m\u001b[1;33m.\u001b[0m\u001b[0m_master_thread\u001b[0m\u001b[1;33m\u001b[0m\u001b[0m\n\u001b[0m\u001b[0;32m     98\u001b[0m \u001b[1;33m\u001b[0m\u001b[0m\n\u001b[0;32m     99\u001b[0m     \u001b[1;32mdef\u001b[0m \u001b[0m_have_pipe_out\u001b[0m\u001b[1;33m(\u001b[0m\u001b[0mself\u001b[0m\u001b[1;33m)\u001b[0m\u001b[1;33m:\u001b[0m\u001b[1;33m\u001b[0m\u001b[0m\n",
      "\u001b[1;31mKeyboardInterrupt\u001b[0m: "
     ]
    },
    {
     "data": {
      "image/png": "[encoded data removed]",
      "text/plain": [
       "<matplotlib.figure.Figure at 0x3c2e7f0>"
      ]
     },
     "metadata": {},
     "output_type": "display_data"
    }
   ],
   "source": [
    "# %%px --targets 2\n",
    "import sys\n",
    "sys.path.append('../')\n",
    "\n",
    "import tictactics_cython as tact\n",
    "from tictactics_cython import Board\n",
    "import MC\n",
    "from MC import MC_node,mc_sim\n",
    "import dfpn\n",
    "import matplotlib\n",
    "import numpy as np\n",
    "import cProfile\n",
    "from matplotlib import pyplot as plt\n",
    "import time\n",
    "%matplotlib inline\n",
    "\n",
    "board = np.zeros((9,9))\n",
    "for x in [(1,4),(0,8),(2,6),(5,4),(4,6),(4,8),(6,6),(8,8)]:\n",
    "    board[x]=1\n",
    "for o in [(1,0),(2,0),(1,8),(2,8),(3,5),(6,0),(7,7),(8,7)]:\n",
    "    board[o]=-1\n",
    "big_board = np.array([[0,0,0],\n",
    "                      [0,0,0],\n",
    "                      [0,0,0]])\n",
    "\n",
    "player = 1\n",
    "game = Board(board=board,big_board = big_board,player = player)\n",
    "for move in [(3,4),(2,3),(7,0),(3,2),(0,7),(1,3),(5,1),(7,5),(3,8),(1,6),(5,0),(7,2),(5,8),(6,7),(1,5),\n",
    "             (5,7),(8,3),(8,2),(7,8),(3,7),(2,5),(6,8),(0,6),(1,2),(5,6),(6,2),(2,7),(8,5),(8,6),(8,0),\n",
    "             (7,1),(4,5),(3,6),(0,2),(1,7),(5,5)]:\n",
    "    game.update_move(move)\n",
    "log_len = len(game.log)\n",
    "\n",
    "root = MC_node(game,1)\n",
    "tact.fancy_board(game)\n",
    "\n",
    "cProfile.run('mc_sim(root,game,branch = 50,passes = 100000000)',sort = 'tottime')\n",
    "\n"
   ]
  },
  {
   "cell_type": "code",
   "execution_count": 5,
   "metadata": {
    "collapsed": false
   },
   "outputs": [
    {
     "data": {
      "text/plain": [
       "[0.0,\n",
       " 0.0,\n",
       " 0.0,\n",
       " 0.0,\n",
       " 0.0,\n",
       " 0.0,\n",
       " 0.0,\n",
       " 0.0,\n",
       " 0.0,\n",
       " 0.0,\n",
       " 0.0,\n",
       " 0.0,\n",
       " 0.0,\n",
       " 0.0,\n",
       " 0.0,\n",
       " 0.0,\n",
       " 0.0,\n",
       " 0.0,\n",
       " 0.0,\n",
       " 0.0,\n",
       " 0.0,\n",
       " 0.0,\n",
       " 0.0,\n",
       " 0.0,\n",
       " 0.0,\n",
       " 0.0,\n",
       " 0.0,\n",
       " 0.0,\n",
       " 0.0,\n",
       " 0.0,\n",
       " 0.0,\n",
       " 0.0,\n",
       " 0.0,\n",
       " 0.0,\n",
       " 0.0,\n",
       " 0.0,\n",
       " 0.0,\n",
       " 0.0,\n",
       " 0.0,\n",
       " 0.0,\n",
       " 0.0,\n",
       " 0.0,\n",
       " 0.0,\n",
       " 0.0,\n",
       " 0.0,\n",
       " 0.0,\n",
       " 0.0,\n",
       " 0.0,\n",
       " 0.0,\n",
       " 0.0,\n",
       " 0.0,\n",
       " 0.0,\n",
       " 0.0,\n",
       " 0.0,\n",
       " 0.0,\n",
       " 0.0,\n",
       " 0.0,\n",
       " 0.0,\n",
       " 0.0,\n",
       " 0.0,\n",
       " 0.0,\n",
       " 0.0,\n",
       " 0.0,\n",
       " 0.0,\n",
       " 0.0,\n",
       " 0.0,\n",
       " 0.0,\n",
       " 0.0,\n",
       " 0.0,\n",
       " 0.0,\n",
       " 0.0,\n",
       " 0.0,\n",
       " 0.0,\n",
       " 0.0,\n",
       " 0.0,\n",
       " 0.0,\n",
       " 0.0,\n",
       " 0.0,\n",
       " 0.0,\n",
       " 0.0,\n",
       " 0.0]"
      ]
     },
     "execution_count": 5,
     "metadata": {},
     "output_type": "execute_result"
    }
   ],
   "source": [
    "root.Q"
   ]
  },
  {
   "cell_type": "code",
   "execution_count": 7,
   "metadata": {
    "collapsed": false
   },
   "outputs": [
    {
     "name": "stdout",
     "output_type": "stream",
     "text": [
      "C:\\Users\\Todd\\Dropbox\\games\\tic_tactics games..\n",
      "['', '', '', 'C:\\\\Anaconda2\\\\python27.zip', 'C:\\\\Anaconda2\\\\DLLs', 'C:\\\\Anaconda2\\\\lib', 'C:\\\\Anaconda2\\\\lib\\\\plat-win', 'C:\\\\Anaconda2\\\\lib\\\\lib-tk', 'C:\\\\Anaconda2', 'C:\\\\Anaconda2\\\\lib\\\\site-packages', 'C:\\\\Anaconda2\\\\lib\\\\site-packages\\\\Sphinx-1.3.5-py2.7.egg', 'C:\\\\Anaconda2\\\\lib\\\\site-packages\\\\win32', 'C:\\\\Anaconda2\\\\lib\\\\site-packages\\\\win32\\\\lib', 'C:\\\\Anaconda2\\\\lib\\\\site-packages\\\\Pythonwin', 'C:\\\\Anaconda2\\\\lib\\\\site-packages\\\\setuptools-20.7.0-py2.7.egg', 'C:\\\\Anaconda2\\\\lib\\\\site-packages\\\\IPython\\\\extensions', 'C:\\\\Users\\\\Todd\\\\Dropbox\\\\games\\\\tic_tactics games..', 'C:\\\\Users\\\\Todd\\\\Dropbox\\\\games\\\\tic_tactics games..', 'C:\\\\Users\\\\Todd\\\\Dropbox\\\\games\\\\tic_tactics games..', 'C:\\\\Users\\\\Todd\\\\Dropbox\\\\games\\\\tic_tactics games..', 'C:\\\\Users\\\\Todd\\\\Dropbox\\\\games\\\\tic_tactics games..']\n"
     ]
    }
   ],
   "source": [
    "%%px --targets 1\n",
    "import sys\n",
    "print path\n",
    "sys.path.append(path)\n",
    "\n",
    "print sys.path\n"
   ]
  },
  {
   "cell_type": "code",
   "execution_count": null,
   "metadata": {
    "collapsed": true
   },
   "outputs": [],
   "source": []
  }
 ],
 "metadata": {
  "kernelspec": {
   "display_name": "Python 2",
   "language": "python",
   "name": "python2"
  },
  "language_info": {
   "codemirror_mode": {
    "name": "ipython",
    "version": 2
   },
   "file_extension": ".py",
   "mimetype": "text/x-python",
   "name": "python",
   "nbconvert_exporter": "python",
   "pygments_lexer": "ipython2",
   "version": "2.7.12"
  }
 },
 "nbformat": 4,
 "nbformat_minor": 0
}
