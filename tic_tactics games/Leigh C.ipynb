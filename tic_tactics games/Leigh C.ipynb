{
 "cells": [
  {
   "cell_type": "code",
   "execution_count": null,
   "metadata": {
    "collapsed": false,
    "scrolled": false
   },
   "outputs": [
    {
     "name": "stdout",
     "output_type": "stream",
     "text": [
      "18098798562436989208\n",
      "this node has 3 children\n",
      "move:(3, 7), runs: 30095620, eval:+0.3111, principal:37 24 73 32 27 85 68 06 01 23 62 28 76 50 61 05 26 72 38 03 20 80 \n",
      "move:(3, 8), runs:  1533437, eval:+0.4833, principal:38 06 11 44 33 22 77 53 80 71 55 86 70 52 67 23 62 28 76 30 20 82 \n",
      "move:(4, 7), runs:    10942, eval:+0.6965, principal:47 44 53 62 28 77 34 \n",
      "\n",
      "37 24 73 32 27 85 68 06 01 23 62 28 76 50 61 05 26 72 38 03 20 80 70 31 25 78 47 33 22 86 71 34 13 30 11 55 67 83 82 88 77 54 63 52 53 44 \n"
     ]
    }
   ],
   "source": [
    "import sys\n",
    "sys.path.append('../')\n",
    "\n",
    "import tictactics_cython as tact\n",
    "from tictactics_cython import Board\n",
    "import MC\n",
    "from MC import MC_node,mc_sim\n",
    "from tictactics_policy import tictactics_simulation_policy as sim_pol\n",
    "import matplotlib\n",
    "import numpy as np\n",
    "import cProfile\n",
    "from matplotlib import pyplot as plt\n",
    "import time\n",
    "%matplotlib inline\n",
    "\n",
    "board = np.zeros((9,9))\n",
    "for x in [(0,4),(1,4),(0,8),(4,3),(8,1)]:\n",
    "    board[x]=1\n",
    "for o in [(1,0),(0,7),(1,7),(3,5),(8,7)]:\n",
    "    board[o]=-1\n",
    "big_board = np.array([[0,0,0],\n",
    "                      [0,0,0],\n",
    "                      [0,0,0]])\n",
    "\n",
    "player = 1\n",
    "game = Board(board=board,big_board = big_board,player = player)\n",
    "for move in [(4,5),(4,6),(4,0),(5,1),(6,4),(1,5),(5,7),(8,4),(6,5),(1,8),(5,6),(6,0),(0,0),(1,2),(5,8),(6,6),\n",
    "             (0,2),(1,6),(4,2),(4,8),(3,6),(2,1),(7,5)]:\n",
    "    game.update_move(move)\n",
    "log_len = len(game.log)\n",
    "\n",
    "root = MC_node(game,1)\n",
    "\n",
    "tact.fancy_board(game)\n",
    "\n",
    "# cProfile.run('mc_sim(root,game,branch = 50,passes = 1000000,eval_fun = None)',sort = 'tottime')\n",
    "mc_sim(root,game,branch = 50,passes = 200000000,eval_fun = None)"
   ]
  },
  {
   "cell_type": "code",
   "execution_count": 7,
   "metadata": {
    "collapsed": false,
    "scrolled": false
   },
   "outputs": [
    {
     "name": "stdout",
     "output_type": "stream",
     "text": [
      "nodes visited   70\n",
      "cache space     30000034\n",
      "nodes stored    50\n",
      "nodes forgotten 0\n",
      "current depth   0\n",
      "current node    \n",
      "role: min\n",
      "  root: work:        44 pn0:      0 pn1:      0 dn0:    INF dn1:    INF \n",
      "\n",
      "role: max\n",
      "(7, 4): work:         1 pn0:      0 pn1:      0 dn0:    INF dn1:    INF \n",
      "(7, 3): work:         7 pn0:      0 pn1:      0 dn0:    INF dn1:    INF \n",
      "(8, 3): work:         7 pn0:      0 pn1:      0 dn0:    INF dn1:    INF \n",
      "(8, 5): work:        28 pn0:      0 pn1:      0 dn0:    INF dn1:    INF \n",
      "\n",
      "time 0.00575559907702\n",
      "\n",
      "(7, 3)(3, 2)\n",
      "\t(2, 6)(7, 2)\n",
      "\t\t(4, 7)(4, 4) p1win\n",
      "(7, 4)(4, 4) p1win\n",
      "(8, 3)(7, 2)\n",
      "\t(4, 7)(4, 4) p1win\n",
      "(8, 5)(8, 8)\n",
      "\t(6, 7)(0, 5)\n",
      "\t\t(2, 6)(7, 2)\n",
      "\t\t\t(4, 7)(4, 4) p1win\n",
      "\t(7, 6)(3, 2)\n",
      "\t\t(2, 6)(7, 2)\n",
      "\t\t\t(4, 7)(4, 4) p1win\n",
      "\t(7, 7)(4, 4) p1win\n",
      "\t(8, 6)(7, 2)\n",
      "\t\t(4, 7)(4, 4) p1win\n"
     ]
    },
    {
     "data": {
      "image/png": "[encoded data removed]",
      "text/plain": [
       "<matplotlib.figure.Figure at 0x3c52ba8>"
      ]
     },
     "metadata": {},
     "output_type": "display_data"
    }
   ],
   "source": [
    "import sys\n",
    "sys.path.append('../')\n",
    "\n",
    "import tictactics_cython as tact\n",
    "from tictactics_cython import Board\n",
    "import dfpn_multi as dfpn\n",
    "import matplotlib\n",
    "import numpy as np\n",
    "import cProfile\n",
    "from matplotlib import pyplot as plt\n",
    "import time\n",
    "%matplotlib inline\n",
    "\n",
    "board = np.zeros((9,9))\n",
    "for x in [(0,4),(1,4),(0,8),(4,3),(8,1)]:\n",
    "    board[x]=1\n",
    "for o in [(1,0),(0,7),(1,7),(3,5),(8,7)]:\n",
    "    board[o]=-1\n",
    "big_board = np.array([[0,0,0],\n",
    "                      [0,0,0],\n",
    "                      [0,0,0]])\n",
    "\n",
    "player = 1\n",
    "game = Board(board=board,big_board = big_board,player = player)\n",
    "for move in [(4,5),(4,6),(4,0),(5,1),(6,4),(1,5),(5,7),(8,4),(6,5),(1,8),(5,6),(6,0),(0,0),(1,2),(5,8),(6,6),\n",
    "             (0,2),(1,6),(4,2),(4,8),(3,6),(2,1),(7,5),(3,8),(0,6),(2,2),(6,8),(2,7),(6,3),(2,0),(6,2),(2,8),\n",
    "             (7,8),(3,7),(2,4)]:\n",
    "    game.update_move(move)\n",
    "log_len = len(game.log)\n",
    "dfpn.init()\n",
    "\n",
    "\n",
    "\n",
    "\n",
    "tact.fancy_board(game)\n",
    "t0 = time.clock()\n",
    "# cProfile.run('node,tree = dfpn.solve(game,root = True,epsilon=1.1)',sort = 'tottime')\n",
    "node,tree = dfpn.solve(game,3,{1:0,0:1,-1:2,2:1,-2:1},0,root = True,epsilon=1.02)\n",
    "print 'time',time.clock() - t0\n",
    "print tree"
   ]
  },
  {
   "cell_type": "code",
   "execution_count": null,
   "metadata": {
    "collapsed": true
   },
   "outputs": [],
   "source": [
    "while len(game.log) > log_len:\n",
    "    game.erase_move()\n",
    "with open('Leigh.txt','a') as file_:\n",
    "    file_.write(dfpn.get_cache(game.key))\n",
    "    file_.write(tree)"
   ]
  }
 ],
 "metadata": {
  "kernelspec": {
   "display_name": "Python 2",
   "language": "python",
   "name": "python2"
  },
  "language_info": {
   "codemirror_mode": {
    "name": "ipython",
    "version": 2
   },
   "file_extension": ".py",
   "mimetype": "text/x-python",
   "name": "python",
   "nbconvert_exporter": "python",
   "pygments_lexer": "ipython2",
   "version": "2.7.13"
  }
 },
 "nbformat": 4,
 "nbformat_minor": 0
}
