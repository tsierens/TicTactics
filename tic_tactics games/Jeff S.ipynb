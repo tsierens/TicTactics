{
 "cells": [
  {
   "cell_type": "code",
   "execution_count": 1,
   "metadata": {
    "collapsed": false,
    "scrolled": false
   },
   "outputs": [
    {
     "name": "stdout",
     "output_type": "stream",
     "text": [
      "nodes visited   134\n",
      "cache space     30000034\n",
      "nodes stored    114\n",
      "nodes forgotten 0\n",
      "current depth   0\n",
      "current node    \n",
      "role: min\n",
      "root  : work:       130,    0 won,    0 not lost, INF  not won, INF  lost\n",
      "\n",
      "role: max\n",
      "(6, 0): work:       101,    0 won,    0 not lost, INF  not won, INF  lost\n",
      "(7, 1): work:        28,    0 won,    0 not lost, INF  not won, INF  lost\n",
      "\n",
      "time 0.00338794575086\n",
      "\n",
      "(6, 0)(6, 7)\n",
      "\t(0, 3)(5, 0)\n",
      "\t\t(7, 1)(3, 5)\n",
      "\t\t\t(2, 6)(3, 4) p1win\n",
      "\t(1, 3)(5, 0)\n",
      "\t\t(7, 1)(3, 5)\n",
      "\t\t\t(2, 6)(3, 4) p1win\n",
      "\t(1, 5)(5, 6)\n",
      "\t\t(7, 1)(3, 5)\n",
      "\t\t\t(2, 6)(3, 4) p1win\n",
      "(7, 1)(3, 4)\n",
      "\t(0, 3)(3, 5) p1win\n",
      "\t(1, 3)(5, 0)\n",
      "\t\t(6, 0)(3, 5) p1win\n",
      "\t(1, 5)(5, 6)\n",
      "\t\t(6, 0)(3, 5) p1win\n",
      "\t(2, 5)(8, 6)\n",
      "\t\t(6, 0)(3, 5) p1win\n"
     ]
    },
    {
     "data": {
      "image/png": "[encoded data removed]",
      "text/plain": [
       "<matplotlib.figure.Figure at 0x4190da0>"
      ]
     },
     "metadata": {},
     "output_type": "display_data"
    }
   ],
   "source": [
    "import sys\n",
    "sys.path.append('../')\n",
    "\n",
    "import tictactics_cython as tact\n",
    "from tictactics_cython import Board\n",
    "import dfpn\n",
    "import matplotlib\n",
    "import numpy as np\n",
    "import cProfile\n",
    "from matplotlib import pyplot as plt\n",
    "import time\n",
    "%matplotlib inline\n",
    "\n",
    "board = np.zeros((9,9))\n",
    "for x in [(0,1),(0,2),(4,1),(4,2),(8,1),(8,2)]:\n",
    "    board[x]=1\n",
    "for o in [(1,1),(1,2),(2,7),(2,8),(6,1),(6,2)]:\n",
    "    board[o]=-1\n",
    "big_board = np.array([[0,0,0],\n",
    "                      [0,0,0],\n",
    "                      [0,0,0]])\n",
    "player = 1\n",
    "game = Board(board=board,big_board = big_board,player = player)\n",
    "for move in [(1,0),(3,1),(2,4),(8,4),(7,5),(4,8),(3,8),(0,8),(1,8),(3,7),(1,4),(5,4),(6,5),(1,7),(3,3),(2,2),(6,8),\n",
    "             (0,7),(0,4),(0,5),(1,6),(4,0),(3,2),(0,6),(0,0),(2,1),(8,5),(6,6),(2,0),(8,0),(7,2),(5,7),(8,3),(7,0),\n",
    "             (5,1),(6,4),(2,3)]:\n",
    "    game.update_move(move)\n",
    "log_len = len(game.log)\n",
    "dfpn.init()\n",
    "\n",
    "tact.fancy_board(game)\n",
    "t0 = time.clock()\n",
    "# cProfile.run('node,tree = dfpn.solve(game,root = True,epsilon=1.1)',sort = 'tottime')\n",
    "node,tree = dfpn.solve(game,root = True,epsilon=1.1)\n",
    "print 'time',time.clock() - t0\n",
    "print tree"
   ]
  },
  {
   "cell_type": "code",
   "execution_count": null,
   "metadata": {
    "collapsed": true
   },
   "outputs": [],
   "source": []
  }
 ],
 "metadata": {
  "kernelspec": {
   "display_name": "Python 2",
   "language": "python",
   "name": "python2"
  },
  "language_info": {
   "codemirror_mode": {
    "name": "ipython",
    "version": 2
   },
   "file_extension": ".py",
   "mimetype": "text/x-python",
   "name": "python",
   "nbconvert_exporter": "python",
   "pygments_lexer": "ipython2",
   "version": "2.7.13"
  }
 },
 "nbformat": 4,
 "nbformat_minor": 0
}
