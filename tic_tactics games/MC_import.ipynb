{
 "cells": [
  {
   "cell_type": "code",
   "execution_count": null,
   "metadata": {
    "collapsed": false
   },
   "outputs": [
    {
     "name": "stdout",
     "output_type": "stream",
     "text": [
      "10884200793324467934\n",
      "this node has 6 children\n",
      "move:(1, 3), runs:   115233, eval:-0.0344, principal:13 42 57 84 73 31 03 00 11 \n",
      "move:(2, 4), runs:     9994, eval:-0.0078, principal:24 75 36 00 11 44 \n",
      "move:(1, 5), runs:     8810, eval:-0.0043, principal:15 47 44 53 61 04 03 12 \n",
      "move:(0, 3), runs:     6705, eval:+0.0064, principal:03 00 21 84 73 52 \n",
      "move:(0, 4), runs:     6189, eval:+0.0100, principal:04 15 56 61 03 00 \n",
      "move:(2, 5), runs:     3068, eval:+0.0580, principal:25 76 50 81 63 \n",
      "\n",
      "13 42 57 84 73 31 03 00 11 \n"
     ]
    }
   ],
   "source": [
    "import sys\n",
    "sys.path.append('../')\n",
    "\n",
    "import tictactics_cython as tact\n",
    "from tictactics_cython import Board\n",
    "import MC\n",
    "from MC import mc_sim,MC_node\n",
    "import matplotlib\n",
    "import numpy as np\n",
    "import cProfile\n",
    "from matplotlib import pyplot as plt\n",
    "import time\n",
    "%matplotlib inline\n",
    "\n",
    "board = np.zeros((9,9))\n",
    "for x in [(1,4),(0,8),(2,6),(5,4),(4,6),(4,8),(6,6),(8,8)]:\n",
    "    board[x]=1\n",
    "for o in [(1,0),(2,0),(1,8),(2,8),(3,5),(6,0),(7,7),(7,8)]:\n",
    "    board[o]=-1\n",
    "big_board = np.array([[0,0,0],\n",
    "                      [0,0,0],\n",
    "                      [0,0,0]])\n",
    "\n",
    "player = 1\n",
    "game = Board(board=board,big_board = big_board,player = player)\n",
    "for move in [(3,4),(2,3),(7,0),(3,2),(0,7)]:\n",
    "    game.update_move(move)\n",
    "log_len = len(game.log)\n",
    "\n",
    "root = MC_node(game,1)\n",
    "tact.fancy_board(game)\n",
    "\n",
    "cProfile.run('mc_sim(root,game,branch = 50,passes = 1000000000)',sort = 'tottime')"
   ]
  },
  {
   "cell_type": "code",
   "execution_count": null,
   "metadata": {
    "collapsed": true
   },
   "outputs": [],
   "source": []
  }
 ],
 "metadata": {
  "kernelspec": {
   "display_name": "Python 2",
   "language": "python",
   "name": "python2"
  },
  "language_info": {
   "codemirror_mode": {
    "name": "ipython",
    "version": 2
   },
   "file_extension": ".py",
   "mimetype": "text/x-python",
   "name": "python",
   "nbconvert_exporter": "python",
   "pygments_lexer": "ipython2",
   "version": "2.7.12"
  }
 },
 "nbformat": 4,
 "nbformat_minor": 0
}
