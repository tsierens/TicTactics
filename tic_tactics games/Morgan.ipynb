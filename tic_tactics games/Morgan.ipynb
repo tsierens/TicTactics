{
 "cells": [
  {
   "cell_type": "code",
   "execution_count": null,
   "metadata": {
    "collapsed": false,
    "scrolled": false
   },
   "outputs": [],
   "source": [
    "'benchmark'\n",
    "import sys\n",
    "sys.path.append('../')\n",
    "\n",
    "import tictactics_cython as tact\n",
    "from tictactics_cython import Board\n",
    "import dfpn\n",
    "import matplotlib\n",
    "import numpy as np\n",
    "import cProfile\n",
    "from matplotlib import pyplot as plt\n",
    "import time\n",
    "%matplotlib inline\n",
    "\n",
    "board = np.zeros((9,9))\n",
    "for x in [(1,0),(1,1),(0,6),(0,7),(3,5),(4,5),(8,2)]:\n",
    "    board[x]=1\n",
    "for o in [(0,1),(0,2),(1,8),(2,8),(4,1),(6,0),(7,0)]:\n",
    "    board[o]=-1\n",
    "big_board = np.array([[0,0,0],\n",
    "                      [0,0,0],\n",
    "                      [0,0,0]])\n",
    "\n",
    "player = 1\n",
    "game = Board(board=board,big_board = big_board,player = player)\n",
    "for move in [(8,0),(8,1),(7,5),(3,7),(2,4),(8,5),(7,7),(4,3),(3,1),(1,5),(4,8),(5,6)]:\n",
    "    game.update_move(move)\n",
    "log_len = len(game.log)\n",
    "dfpn.init()\n",
    "\n",
    "tact.fancy_board(game)\n",
    "t0 = time.clock()\n",
    "# cProfile.run('node,tree = dfpn.solve(game,root = True,epsilon=1.1)',sort = 'tottime')\n",
    "node,tree = dfpn.solve(game,root = True,epsilon=1.1)\n",
    "print 'time',time.clock() - t0\n",
    "print tree\n"
   ]
  },
  {
   "cell_type": "code",
   "execution_count": 1,
   "metadata": {
    "collapsed": false,
    "scrolled": false
   },
   "outputs": [
    {
     "name": "stdout",
     "output_type": "stream",
     "text": [
      "nodes visited   26\n",
      "cache space     30000034\n",
      "nodes stored    22\n",
      "nodes forgotten 0\n",
      "current depth   0\n",
      "current node    \n",
      "role: min\n",
      "root  : work:        27,      0 won,      0 not lost, INF    not won, INF    lost\n",
      "\n",
      "role: max\n",
      "(6, 7): work:         7,      0 won,      0 not lost, INF    not won, INF    lost\n",
      "(6, 6): work:         1,      0 won,      0 not lost, INF    not won, INF    lost\n",
      "(7, 6): work:         6,      0 won,      0 not lost, INF    not won, INF    lost\n",
      "(8, 7): work:         6,      0 won,      0 not lost, INF    not won, INF    lost\n",
      "(8, 6): work:         1,      0 won,      0 not lost, INF    not won, INF    lost\n",
      "(7, 8): work:         5,      0 won,      0 not lost, INF    not won, INF    lost\n",
      "\n",
      "time 0.00692520969473\n",
      "\n",
      "(6, 6)(1, 2) p1win\n",
      "(6, 7)(1, 4)\n",
      "\t(3, 3)(1, 2) p1win\n",
      "\t(5, 3)(1, 2) p1win\n",
      "(7, 6)(3, 2)\n",
      "\t(2, 6)(1, 2) p1win\n",
      "(7, 8)(3, 8)\n",
      "\t(2, 6)(1, 2) p1win\n",
      "(8, 6)(1, 2) p1win\n",
      "(8, 7)(6, 5)\n",
      "\t(2, 6)(1, 2) p1win\n"
     ]
    },
    {
     "data": {
      "image/png": "[encoded data removed]",
      "text/plain": [
       "<matplotlib.figure.Figure at 0x59cf5f8>"
      ]
     },
     "metadata": {},
     "output_type": "display_data"
    }
   ],
   "source": [
    "import sys\n",
    "sys.path.append('../')\n",
    "\n",
    "import tictactics_cython as tact\n",
    "from tictactics_cython import Board\n",
    "import dfpn\n",
    "import matplotlib\n",
    "import numpy as np\n",
    "import cProfile\n",
    "from matplotlib import pyplot as plt\n",
    "import time\n",
    "%matplotlib inline\n",
    "\n",
    "board = np.zeros((9,9))\n",
    "for x in [(1,0),(1,1),(0,6),(0,7),(3,5),(4,5),(8,2)]:\n",
    "    board[x]=1\n",
    "for o in [(0,1),(0,2),(1,8),(2,8),(4,1),(6,0),(7,0)]:\n",
    "    board[o]=-1\n",
    "big_board = np.array([[0,0,0],\n",
    "                      [0,0,0],\n",
    "                      [0,0,0]])\n",
    "\n",
    "player = 1\n",
    "game = Board(board=board,big_board = big_board,player = player)\n",
    "for move in [(8,0),(8,1),(7,5),(3,7),(2,4),(8,5),(7,7),(4,3),(3,1),(1,5),(4,8),(5,6),(7,1),(5,4),(8,3),(7,2),(4,7),(3,4),\n",
    "             (2,3),(6,2),(0,8),(1,6),(5,0),(6,1),(2,5),(6,8),(2,7),(6,4),(0,5),(1,7),(4,4),(5,5),(8,8)]:\n",
    "    game.update_move(move)\n",
    "dfpn.init()\n",
    "\n",
    "tact.fancy_board(game)\n",
    "t0 = time.clock()\n",
    "# cProfile.run('node,tree = dfpn.solve(game,root = True,epsilon=1.1)',sort = 'tottime')\n",
    "node,tree = dfpn.solve(game,root = True,epsilon=1.1)\n",
    "print 'time',time.clock() - t0\n",
    "print tree"
   ]
  },
  {
   "cell_type": "code",
   "execution_count": null,
   "metadata": {
    "collapsed": true
   },
   "outputs": [],
   "source": []
  }
 ],
 "metadata": {
  "kernelspec": {
   "display_name": "Python 2",
   "language": "python",
   "name": "python2"
  },
  "language_info": {
   "codemirror_mode": {
    "name": "ipython",
    "version": 2
   },
   "file_extension": ".py",
   "mimetype": "text/x-python",
   "name": "python",
   "nbconvert_exporter": "python",
   "pygments_lexer": "ipython2",
   "version": "2.7.12"
  }
 },
 "nbformat": 4,
 "nbformat_minor": 0
}
