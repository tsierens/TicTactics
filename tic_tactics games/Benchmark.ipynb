{
 "cells": [
  {
   "cell_type": "code",
   "execution_count": 2,
   "metadata": {
    "collapsed": false
   },
   "outputs": [
    {
     "name": "stdout",
     "output_type": "stream",
     "text": [
      "nodes visited   6783697\n",
      "cache space     30000034\n",
      "nodes stored    3955515\n",
      "nodes forgotten 47756\n",
      "current depth   0\n",
      "current node    \n",
      "role: max\n",
      "root  : work:   4837252,      0 won,      0 not lost, INF    not won, INF    lost\n",
      "\n",
      "role: min\n",
      "(5, 2): work:   3089301,      0 won,      0 not lost, INF    not won, INF    lost\n",
      "(3, 1): work:     79806,    903 won,    903 not lost,    148 not won,    148 lost\n",
      "(5, 0): work:    323166,    948 won,    948 not lost,    532 not won,    532 lost\n",
      "(5, 1): work:   1177598,    899 won,    899 not lost,   2184 not won,   2184 lost\n",
      "(4, 1): work:     65630,    964 won,    964 not lost,    100 not won,    100 lost\n",
      "(4, 0): work:    101750,    988 won,    988 not lost,    169 not won,    169 lost\n",
      "\n",
      "time 71.3502124823\n",
      "(5, 2)\n",
      "\t(6, 6)(2, 1)\n",
      "\t\t(8, 3)(8, 0)\n",
      "\t\t\t(6, 0)(0, 0)\n",
      "\t\t\t\t(1, 0)(3, 2)\n",
      "\t\t\t\t(1, 2)(3, 8)\n",
      "\t\t\t\t(2, 0)(6, 1)\n",
      "\t\t\t\t(2, 2)(8, 6)\n",
      "\t\t\t(6, 1)(0, 5)\n",
      "\t\t\t\t(0, 6)(2, 0)\n",
      "\t\t\t\t(1, 7)(5, 3)\n",
      "\t\t\t(7, 0)(3, 2) p1win\n",
      "\t\t\t(7, 1)(3, 5)\n",
      "\t\t\t\t(0, 6)(2, 0)\n",
      "\t\t\t\t(0, 7)(0, 4)\n",
      "\t\t\t(7, 2)(3, 6)\n",
      "\t\t\t\t(0, 0)(2, 0)\n",
      "\t\t\t\t(1, 0)(3, 2)\n",
      "\t\t\t\t(2, 0)(6, 1)\n",
      "\t\t\t\t(2, 2)(8, 6)\n",
      "\t(6, 7)(2, 4)\n",
      "\t\t(8, 3)(8, 0)\n",
      "\t\t\t(6, 0)(0, 0)\n",
      "\t\t\t\t(1, 0)(3, 2)\n",
      "\t\t\t\t(1, 2)(3, 8)\n",
      "\t\t\t\t(2, 0)(6, 1)\n",
      "\t\t\t\t(2, 1)(3, 2)\n",
      "\t\t\t\t(2, 2)(8, 6)\n",
      "\t\t\t(6, 1)(0, 5)\n",
      "\t\t\t\t(0, 6)(2, 0)\n",
      "\t\t\t\t(1, 7)(5, 3)\n",
      "\t\t\t(7, 0)(3, 2)\n",
      "\t\t\t\t(0, 6)(0, 0)\n",
      "\t\t\t\t(0, 7)(1, 3)\n",
      "\t\t\t\t(1, 7)(5, 3)\n",
      "\t\t\t(7, 1)(3, 5)\n",
      "\t\t\t\t(0, 6)(2, 0)\n",
      "\t\t\t\t(0, 7)(0, 4)\n",
      "\t\t\t(7, 2)(3, 8)\n",
      "\t\t\t\t(0, 6)(2, 0)\n",
      "\t\t\t\t(0, 7)(1, 5)\n",
      "\t\t\t\t(1, 7)(5, 3)\n",
      "\t(7, 7)(3, 5)\n",
      "\t\t(0, 6)(2, 2)\n",
      "\t\t\t(6, 7)(2, 4)\n",
      "\t\t\t\t(8, 3)(8, 0)\n",
      "\t\t\t(7, 6)(3, 2)\n",
      "\t\t\t\t(0, 7)(2, 4)\n",
      "\t\t\t\t(1, 7)(5, 5)\n",
      "\t\t\t(8, 6)(8, 0)\n",
      "\t\t\t\t(6, 0)??\n",
      "\t\t\t\t(6, 1)(0, 5)\n",
      "\t\t\t\t(7, 0)(3, 2)\n",
      "\t\t\t\t(7, 1)(5, 5)\n",
      "\t\t\t\t(7, 2)(5, 8)\n",
      "\t\t(0, 7)(2, 4)\n",
      "\t\t\t(8, 3)(8, 0)\n",
      "\t\t\t\t(6, 0)(0, 0)\n",
      "\t\t\t\t(6, 1)(0, 5)\n",
      "\t\t\t\t(7, 0)(3, 2)\n",
      "\t\t\t\t(7, 1)(3, 3)\n",
      "\t\t\t\t(7, 2)(3, 8)\n",
      "\t(8, 6)(8, 0)\n",
      "\t\t(6, 0)(2, 2)\n",
      "\t\t\t(6, 7)(0, 5)\n",
      "\t\t\t\t(0, 6)(2, 1)\n",
      "\t\t\t\t(1, 7)(5, 5)\n",
      "\t\t\t(7, 6)(3, 2)\n",
      "\t\t\t\t(0, 6)(0, 0)\n",
      "\t\t\t\t(0, 7)(2, 4)\n",
      "\t\t\t\t(1, 7)(5, 5)\n",
      "\t\t\t(7, 7)(3, 5)\n",
      "\t\t\t\t(0, 6)(2, 0)\n",
      "\t\t\t\t(0, 7)(0, 3)\n",
      "\t\t(6, 1)(2, 4)\n",
      "\t\t\t(8, 3)(6, 0)\n",
      "\t\t\t\t(0, 0)(2, 0)\n",
      "\t\t\t\t(1, 0)(3, 2)\n",
      "\t\t\t\t(1, 2)(5, 8)\n",
      "\t\t\t\t(2, 1)(0, 5)\n",
      "\t\t\t\t(2, 2)(7, 7)\n",
      "\t\t(7, 0)(3, 2)\n",
      "\t\t\t(0, 6)(0, 0) p1win\n",
      "\t\t\t(0, 7)(2, 4)\n",
      "\t\t\t\t(8, 3)(6, 1)\n",
      "\t\t\t(1, 7)(5, 5)\n",
      "\t\t\t\t(6, 6)(0, 0)\n",
      "\t\t\t\t(6, 7)(0, 5)\n",
      "\t\t\t\t(7, 6)(5, 1)\n",
      "\t\t(7, 1)(3, 5)\n",
      "\t\t\t(0, 6)(2, 2)\n",
      "\t\t\t\t(6, 7)(0, 5)\n",
      "\t\t\t\t(7, 6)(3, 2)\n",
      "\t\t\t\t(7, 7)??\n",
      "\t\t\t(0, 7)(2, 4)\n",
      "\t\t\t\t(8, 3)(6, 0)\n",
      "\t\t(7, 2)(5, 8)\n",
      "\t\t\t(6, 6)(2, 0)\n",
      "\t\t\t\t(6, 1)(0, 5)\n",
      "\t\t\t\t(7, 0)(3, 2)\n",
      "\t\t\t\t(7, 1)(5, 5)\n",
      "\t\t\t(6, 7)(0, 5)\n",
      "\t\t\t\t(0, 6)(2, 2)\n",
      "\t\t\t\t(1, 7)(5, 5)\n",
      "\t\t\t(7, 6)(3, 2)\n",
      "\t\t\t\t(0, 6)(0, 0)\n",
      "\t\t\t\t(0, 7)(2, 4)\n",
      "\t\t\t\t(1, 7)(5, 5)\n",
      "\t\t\t(7, 7)(5, 3)\n",
      "\t\t\t\t(6, 0)(2, 2)\n",
      "\t\t\t\t(6, 1)(1, 5)\n",
      "\t\t\t\t(7, 0)(3, 2)\n"
     ]
    }
   ],
   "source": [
    "'benchmark'\n",
    "import sys\n",
    "sys.path.append('../')\n",
    "\n",
    "import tictactics_cython as tact\n",
    "from tictactics_cython import Board\n",
    "import dfpn\n",
    "import numpy as np\n",
    "import itertools\n",
    "import matplotlib\n",
    "import cProfile\n",
    "from matplotlib import pyplot as plt\n",
    "import time\n",
    "\n",
    "\n",
    "NODES_VISITED = 0\n",
    "DEBUG_INDEX =0\n",
    "FORGOTTEN = 0\n",
    "STORED = 0\n",
    "\n",
    "board = np.zeros((9,9))\n",
    "for x in [(1,1),(2,6),(4,2),(4,6),(6,4),(6,8),(8,2)]:\n",
    "    board[x]=1\n",
    "for o in [(2,3),(1,8),(2,8),(3,4),(6,2),(7,3),(7,4)]:\n",
    "    board[o]=-1\n",
    "big_board = np.array([[0,0,0],\n",
    "                      [0,0,0],\n",
    "                      [0,0,0]])\n",
    "\n",
    "player = 1\n",
    "game = Board(board=board,big_board = big_board,player = player)\n",
    "root_game = Board(board=board,big_board = big_board,player = player)\n",
    "for move in [(4,3),(3,0),(0,1),(2,5),(7,8),(5,6),(8,1),(7,5),(4,8),(5,7),(8,4),(6,3),(0,2),(2,7),(8,5),(8,8),(8,7),\n",
    "             (6,5),(0,8),(1,6)]:\n",
    "    game.update_move(move)\n",
    "    root_game.update_move(move)\n",
    "log_len2 = len(game.log)\n",
    "dfpn.init()\n",
    "\n",
    "root_actions = root_game.legal_moves()\n",
    "tact.fancy_board(root_game)\n",
    "t0 = time.clock()\n",
    "# cProfile.run('node,tree = dfpn.solve(game,root = True,epsilon=1.1)',sort = 'tottime')\n",
    "node,tree = dfpn.solve(game,root = True,epsilon=1.1)\n",
    "print 'time',time.clock() - t0\n",
    "print tree"
   ]
  },
  {
   "cell_type": "code",
   "execution_count": 1,
   "metadata": {
    "collapsed": true
   },
   "outputs": [],
   "source": [
    "with open('test.txt.','w') as file_:\n",
    "    file_.write('test')"
   ]
  },
  {
   "cell_type": "code",
   "execution_count": 3,
   "metadata": {
    "collapsed": true
   },
   "outputs": [],
   "source": [
    "test = {'a':node}"
   ]
  },
  {
   "cell_type": "code",
   "execution_count": 4,
   "metadata": {
    "collapsed": false
   },
   "outputs": [
    {
     "name": "stdout",
     "output_type": "stream",
     "text": [
      "{'a': [9363848289622616035L, 4837252L, 0L, 0L, 1125899906842624L, 1125899906842624L]}\n"
     ]
    }
   ],
   "source": [
    "print test"
   ]
  },
  {
   "cell_type": "code",
   "execution_count": null,
   "metadata": {
    "collapsed": true
   },
   "outputs": [],
   "source": []
  }
 ],
 "metadata": {
  "kernelspec": {
   "display_name": "Python 2",
   "language": "python",
   "name": "python2"
  },
  "language_info": {
   "codemirror_mode": {
    "name": "ipython",
    "version": 2
   },
   "file_extension": ".py",
   "mimetype": "text/x-python",
   "name": "python",
   "nbconvert_exporter": "python",
   "pygments_lexer": "ipython2",
   "version": "2.7.13"
  }
 },
 "nbformat": 4,
 "nbformat_minor": 0
}
