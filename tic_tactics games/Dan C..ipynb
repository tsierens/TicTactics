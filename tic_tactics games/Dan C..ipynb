{
 "cells": [
  {
   "cell_type": "code",
   "execution_count": 10,
   "metadata": {
    "collapsed": false
   },
   "outputs": [
    {
     "name": "stdout",
     "output_type": "stream",
     "text": [
      "15697837995119179580\n",
      "this node has 6 children\n",
      "move:(3, 4), runs:   482689, eval:+0.9091, principal:34 05 26 60 01 23 70 51 85 77 35 06 20 61 13 30 11 \n",
      "move:(3, 3), runs:   425882, eval:+0.9089, principal:33 21 73 50 60 10 51 85 77 43 40 30 20 61 \n",
      "move:(4, 3), runs:    68226, eval:+0.8994, principal:43 50 60 10 40 32 26 81 73 30 21 64 \n",
      "move:(4, 5), runs:    52971, eval:+0.8963, principal:45 33 20 81 73 50 60 21 74 \n",
      "move:(4, 4), runs:    19388, eval:+0.8711, principal:44 33 20 70 30 11 34 04 05 \n",
      "move:(5, 4), runs:      843, eval:+0.0000, principal:54             \n",
      "\n",
      "34 05 26 60 01 23 70 51 85 77 35 06 20 61 13 30 11 \n"
     ]
    },
    {
     "ename": "KeyboardInterrupt",
     "evalue": "",
     "output_type": "error",
     "traceback": [
      "\u001b[1;31m---------------------------------------------------------------------------\u001b[0m",
      "\u001b[1;31mKeyboardInterrupt\u001b[0m                         Traceback (most recent call last)",
      "\u001b[1;32m<ipython-input-10-896f5061133e>\u001b[0m in \u001b[0;36m<module>\u001b[1;34m()\u001b[0m\n\u001b[0;32m     34\u001b[0m \u001b[0mtact\u001b[0m\u001b[1;33m.\u001b[0m\u001b[0mfancy_board\u001b[0m\u001b[1;33m(\u001b[0m\u001b[0mgame\u001b[0m\u001b[1;33m)\u001b[0m\u001b[1;33m\u001b[0m\u001b[0m\n\u001b[0;32m     35\u001b[0m \u001b[1;33m\u001b[0m\u001b[0m\n\u001b[1;32m---> 36\u001b[1;33m \u001b[0mmc_sim\u001b[0m\u001b[1;33m(\u001b[0m\u001b[0mroot\u001b[0m\u001b[1;33m,\u001b[0m\u001b[0mgame\u001b[0m\u001b[1;33m,\u001b[0m\u001b[0mbranch\u001b[0m \u001b[1;33m=\u001b[0m \u001b[1;36m5\u001b[0m\u001b[1;33m,\u001b[0m\u001b[0mpasses\u001b[0m \u001b[1;33m=\u001b[0m \u001b[1;36m100000000\u001b[0m\u001b[1;33m)\u001b[0m\u001b[1;33m\u001b[0m\u001b[0m\n\u001b[0m",
      "\u001b[1;32mC:\\Users\\Todd\\Dropbox\\games\\MC.pyx\u001b[0m in \u001b[0;36mMC.mc_sim (MC.c:5093)\u001b[1;34m()\u001b[0m\n\u001b[0;32m    222\u001b[0m \u001b[1;33m\u001b[0m\u001b[0m\n\u001b[0;32m    223\u001b[0m \u001b[1;33m\u001b[0m\u001b[0m\n\u001b[1;32m--> 224\u001b[1;33m \u001b[0mcpdef\u001b[0m \u001b[0mmc_sim\u001b[0m\u001b[1;33m(\u001b[0m\u001b[0mMC_node\u001b[0m \u001b[0mroot\u001b[0m\u001b[1;33m,\u001b[0m\u001b[0mBoard\u001b[0m \u001b[0mgame\u001b[0m\u001b[1;33m,\u001b[0m\u001b[0mint\u001b[0m \u001b[0mbranch\u001b[0m \u001b[1;33m=\u001b[0m \u001b[1;33m-\u001b[0m\u001b[1;36m1\u001b[0m\u001b[1;33m,\u001b[0m\u001b[0mdouble\u001b[0m \u001b[0mmax_time\u001b[0m \u001b[1;33m=\u001b[0m \u001b[1;36m0.\u001b[0m\u001b[1;33m,\u001b[0m\u001b[0mlong\u001b[0m \u001b[0mpasses\u001b[0m \u001b[1;33m=\u001b[0m \u001b[1;36m1000000\u001b[0m\u001b[1;33m,\u001b[0m\u001b[0mobject\u001b[0m \u001b[0meval_fun\u001b[0m \u001b[1;33m=\u001b[0m \u001b[0mNone\u001b[0m\u001b[1;33m)\u001b[0m\u001b[1;33m:\u001b[0m\u001b[1;33m\u001b[0m\u001b[0m\n\u001b[0m\u001b[0;32m    225\u001b[0m     \u001b[0mcdef\u001b[0m \u001b[0mint\u001b[0m \u001b[0mi\u001b[0m\u001b[1;33m,\u001b[0m\u001b[0mcount\u001b[0m\u001b[1;33m\u001b[0m\u001b[0m\n\u001b[0;32m    226\u001b[0m     \u001b[0mcdef\u001b[0m \u001b[0mint\u001b[0m \u001b[0mlog_len\u001b[0m\u001b[1;33m\u001b[0m\u001b[0m\n",
      "\u001b[1;32mC:\\Users\\Todd\\Dropbox\\games\\MC.pyx\u001b[0m in \u001b[0;36mMC.mc_sim (MC.c:4897)\u001b[1;34m()\u001b[0m\n\u001b[0;32m    238\u001b[0m         \u001b[1;32mif\u001b[0m \u001b[0mcount\u001b[0m\u001b[1;33m%\u001b[0m\u001b[1;36m1000\u001b[0m\u001b[1;33m==\u001b[0m\u001b[1;36m0\u001b[0m\u001b[1;33m:\u001b[0m\u001b[1;33m\u001b[0m\u001b[0m\n\u001b[0;32m    239\u001b[0m             \u001b[0mPyErr_CheckSignals\u001b[0m\u001b[1;33m(\u001b[0m\u001b[1;33m)\u001b[0m\u001b[1;33m\u001b[0m\u001b[0m\n\u001b[1;32m--> 240\u001b[1;33m             \u001b[0mprint_node\u001b[0m\u001b[1;33m(\u001b[0m\u001b[0mroot\u001b[0m\u001b[1;33m)\u001b[0m\u001b[1;33m\u001b[0m\u001b[0m\n\u001b[0m\u001b[0;32m    241\u001b[0m         \u001b[1;31m#if root.solved:\u001b[0m\u001b[1;33m\u001b[0m\u001b[1;33m\u001b[0m\u001b[0m\n\u001b[0;32m    242\u001b[0m         \u001b[1;31m#    print_node(root)\u001b[0m\u001b[1;33m\u001b[0m\u001b[1;33m\u001b[0m\u001b[0m\n",
      "\u001b[1;32mC:\\Users\\Todd\\Dropbox\\games\\MC.pyx\u001b[0m in \u001b[0;36mMC.print_node (MC.c:5232)\u001b[1;34m()\u001b[0m\n\u001b[0;32m    246\u001b[0m \u001b[1;33m\u001b[0m\u001b[0m\n\u001b[0;32m    247\u001b[0m \u001b[1;32mdef\u001b[0m \u001b[0mprint_node\u001b[0m\u001b[1;33m(\u001b[0m\u001b[0mMC_node\u001b[0m \u001b[0mnode\u001b[0m\u001b[1;33m)\u001b[0m\u001b[1;33m:\u001b[0m\u001b[1;33m\u001b[0m\u001b[0m\n\u001b[1;32m--> 248\u001b[1;33m     \u001b[0mdisplay\u001b[0m\u001b[1;33m.\u001b[0m\u001b[0mclear_output\u001b[0m\u001b[1;33m(\u001b[0m\u001b[0mwait\u001b[0m\u001b[1;33m=\u001b[0m\u001b[0mTrue\u001b[0m\u001b[1;33m)\u001b[0m\u001b[1;33m\u001b[0m\u001b[0m\n\u001b[0m\u001b[0;32m    249\u001b[0m     \u001b[1;32mprint\u001b[0m \u001b[0mnode\u001b[0m\u001b[1;33m.\u001b[0m\u001b[0mkey\u001b[0m\u001b[1;33m\u001b[0m\u001b[0m\n\u001b[0;32m    250\u001b[0m     \u001b[1;32mprint\u001b[0m \u001b[1;34m'this node has {} children'\u001b[0m\u001b[1;33m.\u001b[0m\u001b[0mformat\u001b[0m\u001b[1;33m(\u001b[0m\u001b[0mnode\u001b[0m\u001b[1;33m.\u001b[0m\u001b[0mn_children\u001b[0m\u001b[1;33m)\u001b[0m\u001b[1;33m\u001b[0m\u001b[0m\n",
      "\u001b[1;32mC:\\Anaconda2\\lib\\site-packages\\IPython\\core\\display.pyc\u001b[0m in \u001b[0;36mclear_output\u001b[1;34m(wait)\u001b[0m\n\u001b[0;32m    900\u001b[0m     \u001b[1;32mfrom\u001b[0m \u001b[0mIPython\u001b[0m\u001b[1;33m.\u001b[0m\u001b[0mcore\u001b[0m\u001b[1;33m.\u001b[0m\u001b[0minteractiveshell\u001b[0m \u001b[1;32mimport\u001b[0m \u001b[0mInteractiveShell\u001b[0m\u001b[1;33m\u001b[0m\u001b[0m\n\u001b[0;32m    901\u001b[0m     \u001b[1;32mif\u001b[0m \u001b[0mInteractiveShell\u001b[0m\u001b[1;33m.\u001b[0m\u001b[0minitialized\u001b[0m\u001b[1;33m(\u001b[0m\u001b[1;33m)\u001b[0m\u001b[1;33m:\u001b[0m\u001b[1;33m\u001b[0m\u001b[0m\n\u001b[1;32m--> 902\u001b[1;33m         \u001b[0mInteractiveShell\u001b[0m\u001b[1;33m.\u001b[0m\u001b[0minstance\u001b[0m\u001b[1;33m(\u001b[0m\u001b[1;33m)\u001b[0m\u001b[1;33m.\u001b[0m\u001b[0mdisplay_pub\u001b[0m\u001b[1;33m.\u001b[0m\u001b[0mclear_output\u001b[0m\u001b[1;33m(\u001b[0m\u001b[0mwait\u001b[0m\u001b[1;33m)\u001b[0m\u001b[1;33m\u001b[0m\u001b[0m\n\u001b[0m\u001b[0;32m    903\u001b[0m     \u001b[1;32melse\u001b[0m\u001b[1;33m:\u001b[0m\u001b[1;33m\u001b[0m\u001b[0m\n\u001b[0;32m    904\u001b[0m         \u001b[1;32mfrom\u001b[0m \u001b[0mIPython\u001b[0m\u001b[1;33m.\u001b[0m\u001b[0mutils\u001b[0m \u001b[1;32mimport\u001b[0m \u001b[0mio\u001b[0m\u001b[1;33m\u001b[0m\u001b[0m\n",
      "\u001b[1;32mC:\\Anaconda2\\lib\\site-packages\\ipykernel\\zmqshell.pyc\u001b[0m in \u001b[0;36mclear_output\u001b[1;34m(self, wait)\u001b[0m\n\u001b[0;32m     86\u001b[0m     \u001b[1;32mdef\u001b[0m \u001b[0mclear_output\u001b[0m\u001b[1;33m(\u001b[0m\u001b[0mself\u001b[0m\u001b[1;33m,\u001b[0m \u001b[0mwait\u001b[0m\u001b[1;33m=\u001b[0m\u001b[0mFalse\u001b[0m\u001b[1;33m)\u001b[0m\u001b[1;33m:\u001b[0m\u001b[1;33m\u001b[0m\u001b[0m\n\u001b[0;32m     87\u001b[0m         \u001b[0mcontent\u001b[0m \u001b[1;33m=\u001b[0m \u001b[0mdict\u001b[0m\u001b[1;33m(\u001b[0m\u001b[0mwait\u001b[0m\u001b[1;33m=\u001b[0m\u001b[0mwait\u001b[0m\u001b[1;33m)\u001b[0m\u001b[1;33m\u001b[0m\u001b[0m\n\u001b[1;32m---> 88\u001b[1;33m         \u001b[0mself\u001b[0m\u001b[1;33m.\u001b[0m\u001b[0m_flush_streams\u001b[0m\u001b[1;33m(\u001b[0m\u001b[1;33m)\u001b[0m\u001b[1;33m\u001b[0m\u001b[0m\n\u001b[0m\u001b[0;32m     89\u001b[0m         self.session.send(\n\u001b[0;32m     90\u001b[0m             \u001b[0mself\u001b[0m\u001b[1;33m.\u001b[0m\u001b[0mpub_socket\u001b[0m\u001b[1;33m,\u001b[0m \u001b[1;34mu'clear_output'\u001b[0m\u001b[1;33m,\u001b[0m \u001b[0mcontent\u001b[0m\u001b[1;33m,\u001b[0m\u001b[1;33m\u001b[0m\u001b[0m\n",
      "\u001b[1;32mC:\\Anaconda2\\lib\\site-packages\\ipykernel\\zmqshell.pyc\u001b[0m in \u001b[0;36m_flush_streams\u001b[1;34m(self)\u001b[0m\n\u001b[0;32m     68\u001b[0m     \u001b[1;32mdef\u001b[0m \u001b[0m_flush_streams\u001b[0m\u001b[1;33m(\u001b[0m\u001b[0mself\u001b[0m\u001b[1;33m)\u001b[0m\u001b[1;33m:\u001b[0m\u001b[1;33m\u001b[0m\u001b[0m\n\u001b[0;32m     69\u001b[0m         \u001b[1;34m\"\"\"flush IO Streams prior to display\"\"\"\u001b[0m\u001b[1;33m\u001b[0m\u001b[0m\n\u001b[1;32m---> 70\u001b[1;33m         \u001b[0msys\u001b[0m\u001b[1;33m.\u001b[0m\u001b[0mstdout\u001b[0m\u001b[1;33m.\u001b[0m\u001b[0mflush\u001b[0m\u001b[1;33m(\u001b[0m\u001b[1;33m)\u001b[0m\u001b[1;33m\u001b[0m\u001b[0m\n\u001b[0m\u001b[0;32m     71\u001b[0m         \u001b[0msys\u001b[0m\u001b[1;33m.\u001b[0m\u001b[0mstderr\u001b[0m\u001b[1;33m.\u001b[0m\u001b[0mflush\u001b[0m\u001b[1;33m(\u001b[0m\u001b[1;33m)\u001b[0m\u001b[1;33m\u001b[0m\u001b[0m\n\u001b[0;32m     72\u001b[0m \u001b[1;33m\u001b[0m\u001b[0m\n",
      "\u001b[1;32mC:\\Anaconda2\\lib\\site-packages\\ipykernel\\iostream.pyc\u001b[0m in \u001b[0;36mflush\u001b[1;34m(self)\u001b[0m\n\u001b[0;32m    164\u001b[0m                 \u001b[1;32mreturn\u001b[0m\u001b[1;33m\u001b[0m\u001b[0m\n\u001b[0;32m    165\u001b[0m \u001b[1;33m\u001b[0m\u001b[0m\n\u001b[1;32m--> 166\u001b[1;33m             \u001b[0mself\u001b[0m\u001b[1;33m.\u001b[0m\u001b[0m_flush_from_subprocesses\u001b[0m\u001b[1;33m(\u001b[0m\u001b[1;33m)\u001b[0m\u001b[1;33m\u001b[0m\u001b[0m\n\u001b[0m\u001b[0;32m    167\u001b[0m             \u001b[0mdata\u001b[0m \u001b[1;33m=\u001b[0m \u001b[0mself\u001b[0m\u001b[1;33m.\u001b[0m\u001b[0m_flush_buffer\u001b[0m\u001b[1;33m(\u001b[0m\u001b[1;33m)\u001b[0m\u001b[1;33m\u001b[0m\u001b[0m\n\u001b[0;32m    168\u001b[0m \u001b[1;33m\u001b[0m\u001b[0m\n",
      "\u001b[1;32mC:\\Anaconda2\\lib\\site-packages\\ipykernel\\iostream.pyc\u001b[0m in \u001b[0;36m_flush_from_subprocesses\u001b[1;34m(self)\u001b[0m\n\u001b[0;32m    125\u001b[0m         \u001b[1;32mif\u001b[0m \u001b[1;32mnot\u001b[0m \u001b[0mself\u001b[0m\u001b[1;33m.\u001b[0m\u001b[0m_pipe_flag\u001b[0m \u001b[1;32mor\u001b[0m \u001b[1;32mnot\u001b[0m \u001b[0mself\u001b[0m\u001b[1;33m.\u001b[0m\u001b[0m_is_master_process\u001b[0m\u001b[1;33m(\u001b[0m\u001b[1;33m)\u001b[0m\u001b[1;33m:\u001b[0m\u001b[1;33m\u001b[0m\u001b[0m\n\u001b[0;32m    126\u001b[0m             \u001b[1;32mreturn\u001b[0m\u001b[1;33m\u001b[0m\u001b[0m\n\u001b[1;32m--> 127\u001b[1;33m         \u001b[1;32mfor\u001b[0m \u001b[0mi\u001b[0m \u001b[1;32min\u001b[0m \u001b[0mrange\u001b[0m\u001b[1;33m(\u001b[0m\u001b[0mself\u001b[0m\u001b[1;33m.\u001b[0m\u001b[0m_subprocess_flush_limit\u001b[0m\u001b[1;33m)\u001b[0m\u001b[1;33m:\u001b[0m\u001b[1;33m\u001b[0m\u001b[0m\n\u001b[0m\u001b[0;32m    128\u001b[0m             \u001b[1;32mif\u001b[0m \u001b[0mself\u001b[0m\u001b[1;33m.\u001b[0m\u001b[0m_pipe_poller\u001b[0m\u001b[1;33m.\u001b[0m\u001b[0mpoll\u001b[0m\u001b[1;33m(\u001b[0m\u001b[1;36m0\u001b[0m\u001b[1;33m)\u001b[0m\u001b[1;33m:\u001b[0m\u001b[1;33m\u001b[0m\u001b[0m\n\u001b[0;32m    129\u001b[0m                 \u001b[0mmsg\u001b[0m \u001b[1;33m=\u001b[0m \u001b[0mself\u001b[0m\u001b[1;33m.\u001b[0m\u001b[0m_pipe_in\u001b[0m\u001b[1;33m.\u001b[0m\u001b[0mrecv_multipart\u001b[0m\u001b[1;33m(\u001b[0m\u001b[1;33m)\u001b[0m\u001b[1;33m\u001b[0m\u001b[0m\n",
      "\u001b[1;31mKeyboardInterrupt\u001b[0m: "
     ]
    },
    {
     "data": {
      "image/png": "[encoded data removed]",
      "text/plain": [
       "<matplotlib.figure.Figure at 0x7cd26a0>"
      ]
     },
     "metadata": {},
     "output_type": "display_data"
    }
   ],
   "source": [
    "import sys\n",
    "sys.path.append('../')\n",
    "\n",
    "import tictactics_cython as tact\n",
    "from tictactics_cython import Board\n",
    "import MC\n",
    "from MC import MC_node,mc_sim\n",
    "import matplotlib\n",
    "import numpy as np\n",
    "import cProfile\n",
    "from matplotlib import pyplot as plt\n",
    "import time\n",
    "%matplotlib inline\n",
    "\n",
    "board = np.zeros((9,9))\n",
    "for x in [(0,0),(0,7),(0,8),(7,1),(8,0),(8,7),(8,8)]:\n",
    "    board[x]=1\n",
    "for o in [(0,3),(2,5),(3,7),(4,1),(5,7),(6,5),(8,3)]:\n",
    "    board[o]=-1\n",
    "big_board = np.array([[0,0,0],\n",
    "                      [0,0,0],\n",
    "                      [0,0,0]])\n",
    "\n",
    "player = 1\n",
    "game = Board(board=board,big_board = big_board,player = player)\n",
    "for move in [(5,3),(8,2),(7,8),(4,8),(5,8),(6,7),(2,4),(6,3),(0,2),(2,7),(7,5),(4,6),(5,2),(6,6),(1,2),(3,8),(2,8),\n",
    "             (7,6),(4,2),(3,6),(2,2),(8,6),(7,2),(4,7),(5,5),(6,8),(1,8),(5,6),(6,2),(1,7)]:\n",
    "    game.update_move(move)\n",
    "log_len = len(game.log)\n",
    "\n",
    "\n",
    "root = MC_node(game,1)\n",
    "\n",
    "tact.fancy_board(game)\n",
    "\n",
    "mc_sim(root,game,branch = 5,passes = 100000000)"
   ]
  },
  {
   "cell_type": "code",
   "execution_count": 14,
   "metadata": {
    "collapsed": false,
    "scrolled": false
   },
   "outputs": [
    {
     "name": "stdout",
     "output_type": "stream",
     "text": [
      "nodes visited   110\n",
      "cache space     30000034\n",
      "nodes stored    77\n",
      "nodes forgotten 0\n",
      "current depth   0\n",
      "current node    \n",
      "role: min\n",
      "  root: work:        92 pn0:      0 pn1:      0 dn0:    INF dn1:    INF \n",
      "\n",
      "role: max\n",
      "(8, 1): work:         6 pn0:      0 pn1:      0 dn0:    INF dn1:    INF \n",
      "(6, 1): work:        84 pn0:      0 pn1:      0 dn0:    INF dn1:    INF \n",
      "(7, 0): work:         1 pn0:      0 pn1:      0 dn0:    INF dn1:    INF \n",
      "\n",
      "time 0.00245096466097\n",
      "\n",
      "(6, 1)(0, 5)\n",
      "\t(1, 6)(3, 0)\n",
      "\t\t(0, 1)(0, 4)\n",
      "\t\t\t(1, 3)(3, 2) p1win\n",
      "\t\t\t(1, 4)(5, 4) p1win\n",
      "\t\t\t(1, 5)(1, 4) p1win\n",
      "\t\t\t(2, 3)(6, 0)\n",
      "\t\t\t\t(1, 0)(3, 2)\n",
      "\t\t\t\t(1, 1)(5, 4)\n",
      "\t\t\t\t(2, 1)(8, 5)\n",
      "\t\t(1, 1)(5, 4) p1win\n",
      "\t\t(2, 1)(8, 5)\n",
      "\t\t\t(7, 7)(5, 4) p1win\n",
      "\t(1, 7)(5, 4) p1win\n",
      "\t(2, 6)(6, 0)\n",
      "\t\t(0, 1)(2, 3)\n",
      "\t\t\t(7, 0)(3, 2) p1win\n",
      "\t\t\t(8, 1)(8, 5)\n",
      "\t\t\t\t(7, 7)(5, 4)\n",
      "\t\t(1, 0)(3, 2) p1win\n",
      "\t\t(1, 1)(5, 4) p1win\n",
      "\t\t(2, 1)(8, 5)\n",
      "\t\t\t(7, 7)(5, 4) p1win\n",
      "(7, 0)(3, 2) p1win\n",
      "(8, 1)(8, 5)\n",
      "\t(7, 7)(5, 4) p1win\n"
     ]
    },
    {
     "data": {
      "image/png": "[encoded data removed]",
      "text/plain": [
       "<matplotlib.figure.Figure at 0x2badef0>"
      ]
     },
     "metadata": {},
     "output_type": "display_data"
    }
   ],
   "source": [
    "import sys\n",
    "sys.path.append('../')\n",
    "\n",
    "import tictactics_cython as tact\n",
    "from tictactics_cython import Board\n",
    "import dfpn_multi as dfpn\n",
    "import matplotlib\n",
    "import numpy as np\n",
    "import cProfile\n",
    "from matplotlib import pyplot as plt\n",
    "import time\n",
    "%matplotlib inline\n",
    "\n",
    "board = np.zeros((9,9))\n",
    "for x in [(0,0),(0,7),(0,8),(7,1),(8,0),(8,7),(8,8)]:\n",
    "    board[x]=1\n",
    "for o in [(0,3),(2,5),(3,7),(4,1),(5,7),(6,5),(8,3)]:\n",
    "    board[o]=-1\n",
    "big_board = np.array([[0,0,0],\n",
    "                      [0,0,0],\n",
    "                      [0,0,0]])\n",
    "\n",
    "player = 1\n",
    "game = Board(board=board,big_board = big_board,player = player)\n",
    "for move in [(5,3),(8,2),(7,8),(4,8),(5,8),(6,7),(2,4),(6,3),(0,2),(2,7),(7,5),(4,6),(5,2),(6,6),(1,2),(3,8),(2,8),\n",
    "             (7,6),(4,2),(3,6),(2,2),(8,6),(7,2),(4,7),(5,5),(6,8),(1,8),(5,6),(6,2),(0,6),(2,0)]:\n",
    "    game.update_move(move)\n",
    "log_len = len(game.log)\n",
    "dfpn.init()\n",
    "\n",
    "tact.fancy_board(game)\n",
    "t0 = time.clock()\n",
    "# cProfile.run('node,tree = dfpn.solve(game,root = True,epsilon=1.1)',sort = 'tottime')\n",
    "node,tree = dfpn.solve(game,3,{1:0,0:1,-1:2,2:1,-2:1},1,root = True,epsilon=1.1)\n",
    "print 'time',time.clock() - t0\n",
    "print tree"
   ]
  },
  {
   "cell_type": "code",
   "execution_count": 5,
   "metadata": {
    "collapsed": true
   },
   "outputs": [],
   "source": [
    "with open('Dan.txt','a') as file_:\n",
    "    file_.write(tree)"
   ]
  },
  {
   "cell_type": "code",
   "execution_count": null,
   "metadata": {
    "collapsed": true
   },
   "outputs": [],
   "source": []
  }
 ],
 "metadata": {
  "kernelspec": {
   "display_name": "Python 2",
   "language": "python",
   "name": "python2"
  },
  "language_info": {
   "codemirror_mode": {
    "name": "ipython",
    "version": 2
   },
   "file_extension": ".py",
   "mimetype": "text/x-python",
   "name": "python",
   "nbconvert_exporter": "python",
   "pygments_lexer": "ipython2",
   "version": "2.7.12"
  }
 },
 "nbformat": 4,
 "nbformat_minor": 0
}
