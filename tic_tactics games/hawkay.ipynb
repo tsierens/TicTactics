{
 "cells": [
  {
   "cell_type": "code",
   "execution_count": 5,
   "metadata": {
    "collapsed": false,
    "scrolled": false
   },
   "outputs": [
    {
     "name": "stdout",
     "output_type": "stream",
     "text": [
      "nodes visited   533\n",
      "cache space     30000034\n",
      "nodes stored    378\n",
      "nodes forgotten 0\n",
      "current depth   0\n",
      "current node    \n",
      "role: max\n",
      "  root: work:        93 pn0:    INF pn1:    INF dn0:      0 dn1:      0 \n",
      "\n",
      "role: min\n",
      "(1, 6): work:        56 pn0:    INF pn1:    INF dn0:      0 dn1:      0 \n",
      "(0, 7): work:        35 pn0:    INF pn1:    INF dn0:      0 dn1:      0 \n",
      "(1, 7): work:         1 pn0:    INF pn1:    INF dn0:      0 dn1:      0 \n",
      "\n",
      "time 0.0102506300508\n",
      "\n",
      "(0, 7)(0, 3)\n",
      "\t(0, 1)(2, 3)\n",
      "\t\t(7, 1)(5, 5) p2win\n",
      "\t\t(8, 1)(6, 5)\n",
      "\t\t\t(1, 6)(5, 0)\n",
      "\t\t\t\t(6, 1)(0, 5)\n",
      "\t\t\t\t(7, 1)(5, 5)\n",
      "\t\t\t\t(8, 2)(6, 8)\n",
      "\t\t\t(1, 7)(5, 5) p2win\n",
      "\t\t(8, 2)(6, 8)\n",
      "\t\t\t(1, 6)(5, 0)\n",
      "\t\t\t\t(6, 1)(0, 5)\n",
      "\t\t\t\t(7, 1)(5, 5)\n",
      "\t\t\t\t(8, 1)(6, 5)\n",
      "\t\t\t(1, 7)(5, 5) p2win\n",
      "(1, 6)(5, 0)\n",
      "\t(6, 1)(0, 5)\n",
      "\t\t(1, 7)(5, 5) p2win\n",
      "\t(7, 1)(5, 5) p2win\n",
      "\t(8, 1)(6, 5)\n",
      "\t\t(0, 7)(0, 3)\n",
      "\t\t\t(0, 1)(0, 5)\n",
      "\t\t\t\t(1, 7)(5, 5)\n",
      "\t\t(1, 7)(5, 5) p2win\n",
      "\t(8, 2)(6, 8)\n",
      "\t\t(0, 7)(0, 3)\n",
      "\t\t\t(0, 1)(0, 5)\n",
      "\t\t\t\t(1, 7)(5, 5)\n",
      "\t\t(1, 7)(5, 5) p2win\n",
      "(1, 7)(5, 5) p2win\n"
     ]
    },
    {
     "data": {
      "image/png": "[encoded data removed]",
      "text/plain": [
       "<matplotlib.figure.Figure at 0x5deb710>"
      ]
     },
     "metadata": {},
     "output_type": "display_data"
    }
   ],
   "source": [
    "import sys\n",
    "sys.path.append('../')\n",
    "\n",
    "import tictactics_cython as tact\n",
    "from tictactics_cython import Board\n",
    "import dfpn_multi as dfpn\n",
    "import matplotlib\n",
    "import numpy as np\n",
    "import cProfile\n",
    "from matplotlib import pyplot as plt\n",
    "import time\n",
    "%matplotlib inline\n",
    "\n",
    "board = np.zeros((9,9))\n",
    "for x in [(2,2),(1,3),(1,5),(2,6),(7,4)]:\n",
    "    board[x]=1\n",
    "for o in [(4,0),(8,0),(4,8),(7,7),(8,8)]:\n",
    "    board[o]=-1\n",
    "big_board = np.array([[0,0,0],\n",
    "                      [0,0,0],\n",
    "                      [0,0,0]])\n",
    "\n",
    "player = 1\n",
    "game = Board(board=board,big_board = big_board,player = player)\n",
    "for move in [(5,3),(7,0),(3,2),(2,8),(8,6),(6,0),(0,2),(1,8),(5,8),(6,6),(2,0),(7,2),(3,8),(0,8),(0,6),\n",
    "             (1,2),(4,7),(3,5),(2,7),(6,3),(0,0),(1,0),(4,2),(3,6),(1,1),(4,5),(4,6),(3,0),(2,1),(7,5),\n",
    "             (5,6),(6,2)]:\n",
    "    game.update_move(move)\n",
    "log_len = len(game.log)\n",
    "dfpn.init()\n",
    "\n",
    "\n",
    "\n",
    "\n",
    "tact.fancy_board(game)\n",
    "t0 = time.clock()\n",
    "# cProfile.run('node,tree = dfpn.solve(game,root = True,epsilon=1.1)',sort = 'tottime')\n",
    "node,tree = dfpn.solve(game,3,{1:0,0:1,-1:2,2:1,-2:1},0,root = True,epsilon=1.02)\n",
    "print 'time',time.clock() - t0\n",
    "print tree\n",
    "\n",
    "\n"
   ]
  },
  {
   "cell_type": "code",
   "execution_count": 3,
   "metadata": {
    "collapsed": false
   },
   "outputs": [
    {
     "name": "stdout",
     "output_type": "stream",
     "text": [
      "992184392599540934\n",
      "this node has 6 children\n",
      "move:(0, 8), runs:  2046868, eval:-0.3381, principal:08 06 00 10 31 05 16 42 36 01 04 03 12 46 30 11 45 37 23 82 68 07 \n",
      "move:(0, 6), runs:     6191, eval:-0.1643, principal:06 00 10 52 67 14 \n",
      "move:(1, 6), runs:     5056, eval:-0.1252, principal:16 30 00 01 14 \n",
      "move:(0, 7), runs:     4303, eval:-0.0878, principal:07 25 76 41 33 \n",
      "move:(1, 7), runs:     4278, eval:-0.0863, principal:17 55 76 30 21 65 \n",
      "move:(2, 7), runs:     3303, eval:-0.0118, principal:27 85 67 23 71 \n",
      "\n",
      "08 06 00 10 31 05 16 42 36 01 04 03 12 46 30 11 45 37 23 82 68 07 25 76 50 62 27 64 14 55 87 \n"
     ]
    },
    {
     "ename": "KeyboardInterrupt",
     "evalue": "",
     "output_type": "error",
     "traceback": [
      "\u001b[1;31m---------------------------------------------------------------------------\u001b[0m",
      "\u001b[1;31mKeyboardInterrupt\u001b[0m                         Traceback (most recent call last)",
      "\u001b[1;32m<ipython-input-3-dce153ac1e48>\u001b[0m in \u001b[0;36m<module>\u001b[1;34m()\u001b[0m\n\u001b[0;32m     34\u001b[0m \u001b[1;33m\u001b[0m\u001b[0m\n\u001b[0;32m     35\u001b[0m \u001b[1;31m# cProfile.run('mc_sim(root,game,branch = 50,passes = 1000000,eval_fun = None)',sort = 'tottime')\u001b[0m\u001b[1;33m\u001b[0m\u001b[1;33m\u001b[0m\u001b[0m\n\u001b[1;32m---> 36\u001b[1;33m \u001b[0mmc_sim\u001b[0m\u001b[1;33m(\u001b[0m\u001b[0mroot\u001b[0m\u001b[1;33m,\u001b[0m\u001b[0mgame\u001b[0m\u001b[1;33m,\u001b[0m\u001b[0mbranch\u001b[0m \u001b[1;33m=\u001b[0m \u001b[1;36m50\u001b[0m\u001b[1;33m,\u001b[0m\u001b[0mpasses\u001b[0m \u001b[1;33m=\u001b[0m \u001b[1;36m100000000\u001b[0m\u001b[1;33m,\u001b[0m\u001b[0meval_fun\u001b[0m \u001b[1;33m=\u001b[0m \u001b[0mNone\u001b[0m\u001b[1;33m)\u001b[0m\u001b[1;33m\u001b[0m\u001b[0m\n\u001b[0m",
      "\u001b[1;32mC:\\Users\\Todd\\Dropbox\\games\\MC.pyx\u001b[0m in \u001b[0;36mMC.mc_sim (MC.c:5093)\u001b[1;34m()\u001b[0m\n\u001b[0;32m    222\u001b[0m \u001b[1;33m\u001b[0m\u001b[0m\n\u001b[0;32m    223\u001b[0m \u001b[1;33m\u001b[0m\u001b[0m\n\u001b[1;32m--> 224\u001b[1;33m \u001b[0mcpdef\u001b[0m \u001b[0mmc_sim\u001b[0m\u001b[1;33m(\u001b[0m\u001b[0mMC_node\u001b[0m \u001b[0mroot\u001b[0m\u001b[1;33m,\u001b[0m\u001b[0mBoard\u001b[0m \u001b[0mgame\u001b[0m\u001b[1;33m,\u001b[0m\u001b[0mint\u001b[0m \u001b[0mbranch\u001b[0m \u001b[1;33m=\u001b[0m \u001b[1;33m-\u001b[0m\u001b[1;36m1\u001b[0m\u001b[1;33m,\u001b[0m\u001b[0mdouble\u001b[0m \u001b[0mmax_time\u001b[0m \u001b[1;33m=\u001b[0m \u001b[1;36m0.\u001b[0m\u001b[1;33m,\u001b[0m\u001b[0mlong\u001b[0m \u001b[0mpasses\u001b[0m \u001b[1;33m=\u001b[0m \u001b[1;36m1000000\u001b[0m\u001b[1;33m,\u001b[0m\u001b[0mobject\u001b[0m \u001b[0meval_fun\u001b[0m \u001b[1;33m=\u001b[0m \u001b[0mNone\u001b[0m\u001b[1;33m)\u001b[0m\u001b[1;33m:\u001b[0m\u001b[1;33m\u001b[0m\u001b[0m\n\u001b[0m\u001b[0;32m    225\u001b[0m     \u001b[0mcdef\u001b[0m \u001b[0mint\u001b[0m \u001b[0mi\u001b[0m\u001b[1;33m,\u001b[0m\u001b[0mcount\u001b[0m\u001b[1;33m\u001b[0m\u001b[0m\n\u001b[0;32m    226\u001b[0m     \u001b[0mcdef\u001b[0m \u001b[0mint\u001b[0m \u001b[0mlog_len\u001b[0m\u001b[1;33m\u001b[0m\u001b[0m\n",
      "\u001b[1;32mC:\\Users\\Todd\\Dropbox\\games\\MC.pyx\u001b[0m in \u001b[0;36mMC.mc_sim (MC.c:4897)\u001b[1;34m()\u001b[0m\n\u001b[0;32m    238\u001b[0m         \u001b[1;32mif\u001b[0m \u001b[0mcount\u001b[0m\u001b[1;33m%\u001b[0m\u001b[1;36m1000\u001b[0m\u001b[1;33m==\u001b[0m\u001b[1;36m0\u001b[0m\u001b[1;33m:\u001b[0m\u001b[1;33m\u001b[0m\u001b[0m\n\u001b[0;32m    239\u001b[0m             \u001b[0mPyErr_CheckSignals\u001b[0m\u001b[1;33m(\u001b[0m\u001b[1;33m)\u001b[0m\u001b[1;33m\u001b[0m\u001b[0m\n\u001b[1;32m--> 240\u001b[1;33m             \u001b[0mprint_node\u001b[0m\u001b[1;33m(\u001b[0m\u001b[0mroot\u001b[0m\u001b[1;33m)\u001b[0m\u001b[1;33m\u001b[0m\u001b[0m\n\u001b[0m\u001b[0;32m    241\u001b[0m         \u001b[1;31m#if root.solved:\u001b[0m\u001b[1;33m\u001b[0m\u001b[1;33m\u001b[0m\u001b[0m\n\u001b[0;32m    242\u001b[0m         \u001b[1;31m#    print_node(root)\u001b[0m\u001b[1;33m\u001b[0m\u001b[1;33m\u001b[0m\u001b[0m\n",
      "\u001b[1;32mC:\\Users\\Todd\\Dropbox\\games\\MC.pyx\u001b[0m in \u001b[0;36mMC.print_node (MC.c:5232)\u001b[1;34m()\u001b[0m\n\u001b[0;32m    246\u001b[0m \u001b[1;33m\u001b[0m\u001b[0m\n\u001b[0;32m    247\u001b[0m \u001b[1;32mdef\u001b[0m \u001b[0mprint_node\u001b[0m\u001b[1;33m(\u001b[0m\u001b[0mMC_node\u001b[0m \u001b[0mnode\u001b[0m\u001b[1;33m)\u001b[0m\u001b[1;33m:\u001b[0m\u001b[1;33m\u001b[0m\u001b[0m\n\u001b[1;32m--> 248\u001b[1;33m     \u001b[0mdisplay\u001b[0m\u001b[1;33m.\u001b[0m\u001b[0mclear_output\u001b[0m\u001b[1;33m(\u001b[0m\u001b[0mwait\u001b[0m\u001b[1;33m=\u001b[0m\u001b[0mTrue\u001b[0m\u001b[1;33m)\u001b[0m\u001b[1;33m\u001b[0m\u001b[0m\n\u001b[0m\u001b[0;32m    249\u001b[0m     \u001b[1;32mprint\u001b[0m \u001b[0mnode\u001b[0m\u001b[1;33m.\u001b[0m\u001b[0mkey\u001b[0m\u001b[1;33m\u001b[0m\u001b[0m\n\u001b[0;32m    250\u001b[0m     \u001b[1;32mprint\u001b[0m \u001b[1;34m'this node has {} children'\u001b[0m\u001b[1;33m.\u001b[0m\u001b[0mformat\u001b[0m\u001b[1;33m(\u001b[0m\u001b[0mnode\u001b[0m\u001b[1;33m.\u001b[0m\u001b[0mn_children\u001b[0m\u001b[1;33m)\u001b[0m\u001b[1;33m\u001b[0m\u001b[0m\n",
      "\u001b[1;32mC:\\Anaconda2\\lib\\site-packages\\IPython\\core\\display.pyc\u001b[0m in \u001b[0;36mclear_output\u001b[1;34m(wait)\u001b[0m\n\u001b[0;32m    900\u001b[0m     \u001b[1;32mfrom\u001b[0m \u001b[0mIPython\u001b[0m\u001b[1;33m.\u001b[0m\u001b[0mcore\u001b[0m\u001b[1;33m.\u001b[0m\u001b[0minteractiveshell\u001b[0m \u001b[1;32mimport\u001b[0m \u001b[0mInteractiveShell\u001b[0m\u001b[1;33m\u001b[0m\u001b[0m\n\u001b[0;32m    901\u001b[0m     \u001b[1;32mif\u001b[0m \u001b[0mInteractiveShell\u001b[0m\u001b[1;33m.\u001b[0m\u001b[0minitialized\u001b[0m\u001b[1;33m(\u001b[0m\u001b[1;33m)\u001b[0m\u001b[1;33m:\u001b[0m\u001b[1;33m\u001b[0m\u001b[0m\n\u001b[1;32m--> 902\u001b[1;33m         \u001b[0mInteractiveShell\u001b[0m\u001b[1;33m.\u001b[0m\u001b[0minstance\u001b[0m\u001b[1;33m(\u001b[0m\u001b[1;33m)\u001b[0m\u001b[1;33m.\u001b[0m\u001b[0mdisplay_pub\u001b[0m\u001b[1;33m.\u001b[0m\u001b[0mclear_output\u001b[0m\u001b[1;33m(\u001b[0m\u001b[0mwait\u001b[0m\u001b[1;33m)\u001b[0m\u001b[1;33m\u001b[0m\u001b[0m\n\u001b[0m\u001b[0;32m    903\u001b[0m     \u001b[1;32melse\u001b[0m\u001b[1;33m:\u001b[0m\u001b[1;33m\u001b[0m\u001b[0m\n\u001b[0;32m    904\u001b[0m         \u001b[1;32mfrom\u001b[0m \u001b[0mIPython\u001b[0m\u001b[1;33m.\u001b[0m\u001b[0mutils\u001b[0m \u001b[1;32mimport\u001b[0m \u001b[0mio\u001b[0m\u001b[1;33m\u001b[0m\u001b[0m\n",
      "\u001b[1;31mKeyboardInterrupt\u001b[0m: "
     ]
    },
    {
     "data": {
      "image/png": "[encoded data removed]",
      "text/plain": [
       "<matplotlib.figure.Figure at 0x40141d0>"
      ]
     },
     "metadata": {},
     "output_type": "display_data"
    }
   ],
   "source": [
    "import sys\n",
    "sys.path.append('../')\n",
    "\n",
    "import tictactics_cython as tact\n",
    "from tictactics_cython import Board\n",
    "import MC\n",
    "from MC import MC_node,mc_sim\n",
    "from tictactics_policy import tictactics_simulation_policy as sim_pol\n",
    "import matplotlib\n",
    "import numpy as np\n",
    "import cProfile\n",
    "from matplotlib import pyplot as plt\n",
    "import time\n",
    "%matplotlib inline\n",
    "\n",
    "board = np.zeros((9,9))\n",
    "for x in [(2,2),(1,3),(1,5),(2,6),(7,4)]:\n",
    "    board[x]=1\n",
    "for o in [(4,0),(8,0),(4,8),(7,7),(8,8)]:\n",
    "    board[o]=-1\n",
    "big_board = np.array([[0,0,0],\n",
    "                      [0,0,0],\n",
    "                      [0,0,0]])\n",
    "\n",
    "player = 1\n",
    "game = Board(board=board,big_board = big_board,player = player)\n",
    "for move in [(5,3),(7,0),(3,2),(2,8),(8,6),(6,0),(0,2),(1,8),(5,8),(6,6),(2,0),(7,2),(3,8)]:\n",
    "    game.update_move(move)\n",
    "log_len = len(game.log)\n",
    "\n",
    "root = MC_node(game,1)\n",
    "\n",
    "tact.fancy_board(game)\n",
    "\n",
    "# cProfile.run('mc_sim(root,game,branch = 50,passes = 1000000,eval_fun = None)',sort = 'tottime')\n",
    "mc_sim(root,game,branch = 50,passes = 100000000,eval_fun = None)"
   ]
  },
  {
   "cell_type": "code",
   "execution_count": null,
   "metadata": {
    "collapsed": true
   },
   "outputs": [],
   "source": []
  }
 ],
 "metadata": {
  "kernelspec": {
   "display_name": "Python 2",
   "language": "python",
   "name": "python2"
  },
  "language_info": {
   "codemirror_mode": {
    "name": "ipython",
    "version": 2
   },
   "file_extension": ".py",
   "mimetype": "text/x-python",
   "name": "python",
   "nbconvert_exporter": "python",
   "pygments_lexer": "ipython2",
   "version": "2.7.13"
  }
 },
 "nbformat": 4,
 "nbformat_minor": 0
}
