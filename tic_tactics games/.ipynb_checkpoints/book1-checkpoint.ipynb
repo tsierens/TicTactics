{
 "cells": [
  {
   "cell_type": "code",
   "execution_count": null,
   "metadata": {
    "collapsed": false,
    "scrolled": false
   },
   "outputs": [
    {
     "name": "stdout",
     "output_type": "stream",
     "text": [
      "nodes visited   354400000\n",
      "cache space     30000034\n",
      "nodes stored    29963409\n",
      "nodes forgotten 208310703\n",
      "current depth   8\n",
      "current node    81 73 52 87 84 63 11 34\n",
      "role: max\n",
      "  root: work: 160766560 pn0:  11337 pn1:   4119 dn0:  18857 dn1:  19096 \n",
      "\n",
      "role: min\n",
      "(8, 1): work:  31083652 pn0:  11337 pn1:  10958 dn0:   3897 dn1:   3897 \n",
      "(6, 2): work:  40272942 pn0:  11564 pn1:  10325 dn0:   4953 dn1:   4953 \n",
      "(8, 2): work:  15379162 pn0:  11359 pn1:   4119 dn0:    971 dn1:   1210 \n",
      "(7, 2): work:  40683020 pn0:  11365 pn1:  11019 dn0:   4966 dn1:   4966 \n",
      "(7, 1): work:  33347783 pn0:  11405 pn1:   9221 dn0:   4070 dn1:   4070 \n",
      "\n",
      "expanding move (8, 1)\n",
      "role: max\n",
      "(7, 3): work:   3574388 pn0:   1382 pn1:   1382 dn0:   3939 dn1:   3939 \n",
      "(7, 4): work:   3911116 pn0:   1370 pn1:   1370 dn0:   3991 dn1:   3991 \n",
      "(6, 3): work:   6533346 pn0:   2263 pn1:   2086 dn0:   4009 dn1:   4009 \n",
      "(7, 5): work:   4156049 pn0:   1539 pn1:   1539 dn0:   4001 dn1:   4001 \n",
      "(8, 5): work:   5628751 pn0:   1946 pn1:   1776 dn0:   4018 dn1:   4018 \n",
      "(6, 5): work:   4508864 pn0:   1555 pn1:   1555 dn0:   4004 dn1:   4004 \n",
      "(8, 4): work:   4119693 pn0:   1466 pn1:   1466 dn0:   3998 dn1:   3998 \n",
      "\n"
     ]
    }
   ],
   "source": [
    "import sys\n",
    "sys.path.append('../')\n",
    "\n",
    "import tictactics_cython as tact\n",
    "from tictactics_cython import Board\n",
    "import dfpn_multi as dfpn\n",
    "import matplotlib\n",
    "import numpy as np\n",
    "import cProfile\n",
    "from matplotlib import pyplot as plt\n",
    "import time\n",
    "%matplotlib inline\n",
    "\n",
    "board = np.zeros((9,9))\n",
    "for x in [(0,0),(0,4),(2,4),(0,8),(2,8),(4,3),(4,5)]:\n",
    "    board[x]=1\n",
    "for o in [(6,0),(7,0),(5,4),(5,5),(6,4),(6,8),(7,8),]:\n",
    "    board[o]=-1\n",
    "big_board = np.array([[0,0,0],\n",
    "                      [0,0,0],\n",
    "                      [0,0,0]])\n",
    "\n",
    "player = 1\n",
    "game = Board(board=board,big_board = big_board,player = player)\n",
    "for move in [(1,0),(4,0),(3,0),(2,0),(8,0),(6,1),(0,5),(1,8),(4,8),(3,7),(0,3),(2,2)]:\n",
    "    game.update_move(move)\n",
    "log_len = len(game.log)\n",
    "dfpn.init()\n",
    "\n",
    "tact.fancy_board(game)\n",
    "t0 = time.clock()\n",
    "\n",
    "sols = {}\n",
    "with open('Stephen.txt','a') as file_:\n",
    "    file_.write('\\n' + '*'*30 + '\\nStarting a new run\\n' + '*'*30 + '\\n'*2)\n",
    "for move in game.legal_moves()[0:1]:\n",
    "    with open('Stephen.txt','a') as file_:\n",
    "        file_.write('*'*30 + '\\nmove ' + str(move) + '\\n' + '*'*30 + '\\n')\n",
    "# for move in [(3,1)]:\n",
    "    game.update_move(move)\n",
    "#     game.update_move((3,0))\n",
    "    for move2 in game.legal_moves():\n",
    "#     for move2 in [(0,5)]:\n",
    "        dfpn.init()\n",
    "        game.update_move(move2)\n",
    "#         game.update_move((2,2))\n",
    "        node,tree = dfpn.solve(game,3,{1:0,0:1,-1:2,2:1,-2:1},0,root = True,epsilon=1.02)\n",
    "        if node[2] == 0:\n",
    "            node_print = 'Stephen wins'\n",
    "        elif node[5] == 0:\n",
    "            node_print = \"Todd wins\"\n",
    "        elif node[3]==node[4]==0:\n",
    "            node_print = 'tie'\n",
    "        sols[(move,move2)]=node_print\n",
    "        with open('Stephen.txt','a') as file_:\n",
    "            file_.write('moves {}{} - {}\\n'.format(move,move2,node_print))\n",
    "        for _ in xrange(len(game.log) - log_len-1):\n",
    "            game.erase_move()\n",
    "\n",
    "    game.erase_move()\n",
    "    assert(len(game.log) == log_len)\n",
    "print 'time',time.clock() - t0\n",
    "\n",
    "print sols\n",
    "# print tree"
   ]
  },
  {
   "cell_type": "code",
   "execution_count": 4,
   "metadata": {
    "collapsed": true
   },
   "outputs": [],
   "source": [
    "with open('test.txt','a') as file_:\n",
    "    file_.write('hi')"
   ]
  }
 ],
 "metadata": {
  "kernelspec": {
   "display_name": "Python 2",
   "language": "python",
   "name": "python2"
  },
  "language_info": {
   "codemirror_mode": {
    "name": "ipython",
    "version": 2
   },
   "file_extension": ".py",
   "mimetype": "text/x-python",
   "name": "python",
   "nbconvert_exporter": "python",
   "pygments_lexer": "ipython2",
   "version": "2.7.12"
  }
 },
 "nbformat": 4,
 "nbformat_minor": 0
}
