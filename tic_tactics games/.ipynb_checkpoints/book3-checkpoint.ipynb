{
 "cells": [
  {
   "cell_type": "code",
   "execution_count": null,
   "metadata": {
    "collapsed": false
   },
   "outputs": [
    {
     "name": "stdout",
     "output_type": "stream",
     "text": [
      "nodes visited   3325200000\n",
      "cache space     30000034\n",
      "nodes stored    30000034\n",
      "nodes forgotten 2200951603\n",
      "current depth   13\n",
      "current node    63 12 46 31 25 66 02 27 85 77 53 62 17\n",
      "role: min\n",
      "  root: work: 758175491 pn0:  58428 pn1:  19887 dn0:  12061 dn1:  12078 \n",
      "\n",
      "role: max\n",
      "(7, 3): work:  39116643 pn0:   4538 pn1:   3943 dn0:  12077 dn1:  12078 \n",
      "(8, 3): work: 320721309 pn0:  23754 pn1:   3293 dn0:  12303 dn1:  13407 \n",
      "(7, 4): work:  57756453 pn0:   5614 pn1:   4331 dn0:  12301 dn1:  12401 \n",
      "(6, 3): work: 156047322 pn0:  12827 pn1:   3302 dn0:  12061 dn1:  13431 \n",
      "(8, 5): work:  38754834 pn0:      0 pn1:      0 dn0:    INF dn1:    INF \n",
      "(6, 5): work:  74529962 pn0:   5010 pn1:   3504 dn0:  12201 dn1:  12447 \n",
      "(8, 4): work:  71248967 pn0:   6685 pn1:   1514 dn0:  12265 dn1:  12648 \n",
      "\n",
      "expanding move (6, 3)\n",
      "role: min\n",
      "(0, 1): work:  93433979 pn0:  15798 pn1:   6473 dn0:   3034 dn1:   4249 \n",
      "(1, 2): work:  70801917 pn0:  15757 pn1:   7887 dn0:   3394 dn1:   4626 \n",
      "(0, 2): work:  29799758 pn0:  16073 pn1:   4795 dn0:    876 dn1:   1859 \n",
      "(1, 1): work:   5555023 pn0:    INF pn1:   3302 dn0:      0 dn1:    486 \n",
      "\n"
     ]
    }
   ],
   "source": [
    "import sys\n",
    "sys.path.append('../')\n",
    "\n",
    "import tictactics_cython as tact\n",
    "from tictactics_cython import Board\n",
    "import dfpn_multi as dfpn\n",
    "import matplotlib\n",
    "import numpy as np\n",
    "import cProfile\n",
    "from matplotlib import pyplot as plt\n",
    "import time\n",
    "%matplotlib inline\n",
    "\n",
    "board = np.zeros((9,9))\n",
    "for x in [(0,0),(0,4),(2,4),(0,8),(2,8),(4,3),(4,5)]:\n",
    "    board[x]=1\n",
    "for o in [(6,0),(7,0),(5,4),(5,5),(6,4),(6,8),(7,8),]:\n",
    "    board[o]=-1\n",
    "big_board = np.array([[0,0,0],\n",
    "                      [0,0,0],\n",
    "                      [0,0,0]])\n",
    "\n",
    "player = 1\n",
    "game = Board(board=board,big_board = big_board,player = player)\n",
    "for move in [(1,0),(4,0),(3,0),(2,0),(8,0),(6,1),(0,5),(1,8),(4,8),(3,7),(0,3),(2,2),(6,7)]:\n",
    "    game.update_move(move)\n",
    "log_len = len(game.log)\n",
    "dfpn.init()\n",
    "\n",
    "tact.fancy_board(game)\n",
    "t0 = time.clock()\n",
    "\n",
    "sols = {}\n",
    "with open('Stephen.txt','a') as file_:\n",
    "    file_.write('\\n' + '*'*30 + '\\nStarting a new run\\n' + '*'*30 + '\\n'*2)\n",
    "for move in game.legal_moves()[2:3]:\n",
    "    with open('Stephen.txt','a') as file_:\n",
    "        file_.write('*'*30 + '\\nmove ' + str(move) + '\\n' + '*'*30 + '\\n')\n",
    "# for move in [(3,1)]:\n",
    "    game.update_move(move)\n",
    "#     game.update_move((3,0))\n",
    "    for move2 in game.legal_moves():\n",
    "#     for move2 in [(0,5)]:\n",
    "        dfpn.init()\n",
    "        game.update_move(move2)\n",
    "#         game.update_move((2,2))\n",
    "        node,tree = dfpn.solve(game,3,{1:0,0:1,-1:2,2:1,-2:1},0,root = True,epsilon=1.02)\n",
    "        if node[2] == 0:\n",
    "            node_print = 'Stephen wins'\n",
    "        elif node[5] == 0:\n",
    "            node_print = \"Todd wins\"\n",
    "        elif node[3]==node[4]==0:\n",
    "            node_print = 'tie'\n",
    "        sols[(move,move2)]=node_print\n",
    "        with open('Stephen.txt','a') as file_:\n",
    "            file_.write('moves {}{} - {}\\n'.format(move,move2,node_print))\n",
    "        for _ in xrange(len(game.log) - log_len-1):\n",
    "            game.erase_move()\n",
    "\n",
    "    game.erase_move()\n",
    "    assert(len(game.log) == log_len)\n",
    "print 'time',time.clock() - t0\n",
    "\n",
    "print sols\n",
    "# print tree"
   ]
  },
  {
   "cell_type": "code",
   "execution_count": null,
   "metadata": {
    "collapsed": true
   },
   "outputs": [],
   "source": []
  }
 ],
 "metadata": {
  "kernelspec": {
   "display_name": "Python 2",
   "language": "python",
   "name": "python2"
  },
  "language_info": {
   "codemirror_mode": {
    "name": "ipython",
    "version": 2
   },
   "file_extension": ".py",
   "mimetype": "text/x-python",
   "name": "python",
   "nbconvert_exporter": "python",
   "pygments_lexer": "ipython2",
   "version": "2.7.12"
  }
 },
 "nbformat": 4,
 "nbformat_minor": 0
}
