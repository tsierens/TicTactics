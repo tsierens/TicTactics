{
 "cells": [
  {
   "cell_type": "code",
   "execution_count": null,
   "metadata": {
    "collapsed": false
   },
   "outputs": [
    {
     "name": "stdout",
     "output_type": "stream",
     "text": [
      "nodes visited   7863700000\n",
      "cache space     30000034\n",
      "nodes stored    30000034\n",
      "nodes forgotten 5155751718\n",
      "current depth   14\n",
      "current node    38 07 25 77 34 15 46 41 44 33 12 47 53 62\n",
      "role: min\n",
      "  root: work: 1491110308 pn0:  54866 pn1:  22805 dn0:  19814 dn1:  19950 \n",
      "\n",
      "role: max\n",
      "(4, 7): work:  86353002 pn0:   1948 pn1:   1946 dn0:  19947 dn1:  19950 \n",
      "(5, 6): work: 860059971 pn0:  28748 pn1:   6555 dn0:  20053 dn1:  24971 \n",
      "(5, 7): work: 103738217 pn0:   6358 pn1:   5486 dn0:  20199 dn1:  20388 \n",
      "(3, 8): work: 152926395 pn0:   8867 pn1:   4772 dn0:  19814 dn1:  20444 \n",
      "(3, 6): work: 218548553 pn0:   8945 pn1:   4046 dn0:  20211 dn1:  20916 \n",
      "(5, 8): work:  69484169 pn0:      0 pn1:      0 dn0:    INF dn1:    INF \n",
      "\n",
      "expanding move (3, 8)\n",
      "role: min\n",
      "(2, 7): work:  18741444 pn0:   9035 pn1:   9035 dn0:   2890 dn1:   2890 \n",
      "(2, 6): work:  33292809 pn0:   9024 pn1:   7894 dn0:   4617 dn1:   4617 \n",
      "(0, 7): work:  34527109 pn0:   8867 pn1:   7140 dn0:   4753 dn1:   4756 \n",
      "(0, 6): work:  28356313 pn0:   9045 pn1:   6697 dn0:   3746 dn1:   3748 \n",
      "(1, 6): work:  24508366 pn0:   8928 pn1:   8436 dn0:   3808 dn1:   3808 \n",
      "(1, 7): work:  13500353 pn0:    INF pn1:   4772 dn0:      0 dn1:    625 \n",
      "\n"
     ]
    }
   ],
   "source": [
    "import sys\n",
    "sys.path.append('../')\n",
    "\n",
    "import tictactics_cython as tact\n",
    "from tictactics_cython import Board\n",
    "import dfpn_multi as dfpn\n",
    "import matplotlib\n",
    "import numpy as np\n",
    "import cProfile\n",
    "from matplotlib import pyplot as plt\n",
    "import time\n",
    "%matplotlib inline\n",
    "\n",
    "board = np.zeros((9,9))\n",
    "for x in [(0,0),(0,4),(2,4),(0,8),(2,8),(4,3),(4,5)]:\n",
    "    board[x]=1\n",
    "for o in [(6,0),(7,0),(5,4),(5,5),(6,4),(6,8),(7,8),]:\n",
    "    board[o]=-1\n",
    "big_board = np.array([[0,0,0],\n",
    "                      [0,0,0],\n",
    "                      [0,0,0]])\n",
    "\n",
    "player = 1\n",
    "game = Board(board=board,big_board = big_board,player = player)\n",
    "for move in [(1,0),(4,0),(3,0),(2,0),(8,0),(6,1),(0,5),(1,8),(4,8),(3,7),(0,3),(2,2),(6,7)]:\n",
    "    game.update_move(move)\n",
    "log_len = len(game.log)\n",
    "dfpn.init()\n",
    "\n",
    "tact.fancy_board(game)\n",
    "t0 = time.clock()\n",
    "\n",
    "sols = {}\n",
    "with open('Stephen.txt','a') as file_:\n",
    "    file_.write('\\n' + '*'*30 + '\\nStarting a new run\\n' + '*'*30 + '\\n'*2)\n",
    "for move in game.legal_moves()[0:1]:\n",
    "    with open('Stephen.txt','a') as file_:\n",
    "        file_.write('*'*30 + '\\nmove ' + str(move) + '\\n' + '*'*30 + '\\n')\n",
    "# for move in [(3,1)]:\n",
    "    game.update_move(move)\n",
    "#     game.update_move((3,0))\n",
    "    for move2 in game.legal_moves():\n",
    "#     for move2 in [(0,5)]:\n",
    "        dfpn.init()\n",
    "        game.update_move(move2)\n",
    "#         game.update_move((2,2))\n",
    "        node,tree = dfpn.solve(game,3,{1:0,0:1,-1:2,2:1,-2:1},0,root = True,epsilon=1.02)\n",
    "        if node[2] == 0:\n",
    "            node_print = 'Stephen wins'\n",
    "        elif node[5] == 0:\n",
    "            node_print = \"Todd wins\"\n",
    "        elif node[3]==node[4]==0:\n",
    "            node_print = 'tie'\n",
    "        sols[(move,move2)]=node_print\n",
    "        with open('Stephen.txt','a') as file_:\n",
    "            file_.write('moves {}{} - {}\\n'.format(move,move2,node_print))\n",
    "        for _ in xrange(len(game.log) - log_len-1):\n",
    "            game.erase_move()\n",
    "\n",
    "    game.erase_move()\n",
    "    assert(len(game.log) == log_len)\n",
    "print 'time',time.clock() - t0\n",
    "\n",
    "print sols\n",
    "# print tree"
   ]
  },
  {
   "cell_type": "code",
   "execution_count": null,
   "metadata": {
    "collapsed": true
   },
   "outputs": [],
   "source": []
  }
 ],
 "metadata": {
  "kernelspec": {
   "display_name": "Python 2",
   "language": "python",
   "name": "python2"
  },
  "language_info": {
   "codemirror_mode": {
    "name": "ipython",
    "version": 2
   },
   "file_extension": ".py",
   "mimetype": "text/x-python",
   "name": "python",
   "nbconvert_exporter": "python",
   "pygments_lexer": "ipython2",
   "version": "2.7.12"
  }
 },
 "nbformat": 4,
 "nbformat_minor": 0
}
