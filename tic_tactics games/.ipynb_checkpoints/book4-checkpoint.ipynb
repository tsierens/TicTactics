{
 "cells": [
  {
   "cell_type": "code",
   "execution_count": null,
   "metadata": {
    "collapsed": false
   },
   "outputs": [
    {
     "name": "stdout",
     "output_type": "stream",
     "text": [
      "nodes visited   2088500000\n",
      "cache space     30000034\n",
      "nodes stored    30000034\n",
      "nodes forgotten 1385543748\n",
      "current depth   14\n",
      "current node    57 63 02 07 14 53 82 88 66 21 73 50 71 44\n",
      "role: min\n",
      "  root: work: 458721697 pn0:  25791 pn1:  13319 dn0:  14058 dn1:  14239 \n",
      "\n",
      "role: max\n",
      "(4, 7): work:  30723046 pn0:      0 pn1:      0 dn0:    INF dn1:    INF \n",
      "(4, 6): work:  71888767 pn0:   5944 pn1:   4373 dn0:  14340 dn1:  14619 \n",
      "(5, 7): work:  68733732 pn0:   6130 pn1:   2895 dn0:  14058 dn1:  14239 \n",
      "(3, 8): work:  68232626 pn0:   5796 pn1:   3144 dn0:  14134 dn1:  14501 \n",
      "(3, 6): work:  61105368 pn0:    480 pn1:    468 dn0:  14169 dn1:  14620 \n",
      "(5, 8): work: 158038157 pn0:   7441 pn1:   2439 dn0:  14102 dn1:  15507 \n",
      "\n",
      "expanding move (5, 7)\n",
      "role: min\n",
      "(7, 3): work:  22024544 pn0:  10178 pn1:   7689 dn0:   2835 dn1:   2864 \n",
      "(8, 3): work:  20002397 pn0:    INF pn1:   5678 dn0:      0 dn1:    489 \n",
      "(7, 4): work:   4185621 pn0:    INF pn1:   2895 dn0:      0 dn1:    223 \n",
      "(6, 3): work:  31888987 pn0:   9978 pn1:   8019 dn0:   4130 dn1:   4137 \n",
      "(8, 5): work:   9955889 pn0:    INF pn1:   3893 dn0:      0 dn1:    239 \n",
      "(6, 5): work:  23969658 pn0:  10134 pn1:   7397 dn0:   3210 dn1:   3230 \n",
      "(8, 4): work:  21569905 pn0:  10142 pn1:  10131 dn0:   2969 dn1:   2969 \n",
      "\n"
     ]
    }
   ],
   "source": [
    "import sys\n",
    "sys.path.append('../')\n",
    "\n",
    "import tictactics_cython as tact\n",
    "from tictactics_cython import Board\n",
    "import dfpn_multi as dfpn\n",
    "import matplotlib\n",
    "import numpy as np\n",
    "import cProfile\n",
    "from matplotlib import pyplot as plt\n",
    "import time\n",
    "%matplotlib inline\n",
    "\n",
    "board = np.zeros((9,9))\n",
    "for x in [(0,0),(0,4),(2,4),(0,8),(2,8),(4,3),(4,5)]:\n",
    "    board[x]=1\n",
    "for o in [(6,0),(7,0),(5,4),(5,5),(6,4),(6,8),(7,8),]:\n",
    "    board[o]=-1\n",
    "big_board = np.array([[0,0,0],\n",
    "                      [0,0,0],\n",
    "                      [0,0,0]])\n",
    "\n",
    "player = 1\n",
    "game = Board(board=board,big_board = big_board,player = player)\n",
    "for move in [(1,0),(4,0),(3,0),(2,0),(8,0),(6,1),(0,5),(1,8),(4,8),(3,7),(0,3),(2,2),(6,7)]:\n",
    "    game.update_move(move)\n",
    "log_len = len(game.log)\n",
    "dfpn.init()\n",
    "\n",
    "tact.fancy_board(game)\n",
    "t0 = time.clock()\n",
    "\n",
    "sols = {}\n",
    "with open('Stephen.txt','a') as file_:\n",
    "    file_.write('\\n' + '*'*30 + '\\nStarting a new run\\n' + '*'*30 + '\\n'*2)\n",
    "for move in game.legal_moves()[3:4]:\n",
    "    with open('Stephen.txt','a') as file_:\n",
    "        file_.write('*'*30 + '\\nmove ' + str(move) + '\\n' + '*'*30 + '\\n')\n",
    "# for move in [(3,1)]:\n",
    "    game.update_move(move)\n",
    "#     game.update_move((3,0))\n",
    "    for move2 in game.legal_moves():\n",
    "#     for move2 in [(0,5)]:\n",
    "        dfpn.init()\n",
    "        game.update_move(move2)\n",
    "#         game.update_move((2,2))\n",
    "        node,tree = dfpn.solve(game,3,{1:0,0:1,-1:2,2:1,-2:1},0,root = True,epsilon=1.02)\n",
    "        if node[2] == 0:\n",
    "            node_print = 'Stephen wins'\n",
    "        elif node[5] == 0:\n",
    "            node_print = \"Todd wins\"\n",
    "        elif node[3]==node[4]==0:\n",
    "            node_print = 'tie'\n",
    "        sols[(move,move2)]=node_print\n",
    "        with open('Stephen.txt','a') as file_:\n",
    "            file_.write('moves {}{} - {}\\n'.format(move,move2,node_print))\n",
    "        for _ in xrange(len(game.log) - log_len-1):\n",
    "            game.erase_move()\n",
    "\n",
    "    game.erase_move()\n",
    "    assert(len(game.log) == log_len)\n",
    "print 'time',time.clock() - t0\n",
    "\n",
    "print sols\n",
    "# print tree"
   ]
  },
  {
   "cell_type": "code",
   "execution_count": null,
   "metadata": {
    "collapsed": true
   },
   "outputs": [],
   "source": []
  }
 ],
 "metadata": {
  "kernelspec": {
   "display_name": "Python 2",
   "language": "python",
   "name": "python2"
  },
  "language_info": {
   "codemirror_mode": {
    "name": "ipython",
    "version": 2
   },
   "file_extension": ".py",
   "mimetype": "text/x-python",
   "name": "python",
   "nbconvert_exporter": "python",
   "pygments_lexer": "ipython2",
   "version": "2.7.12"
  }
 },
 "nbformat": 4,
 "nbformat_minor": 0
}
