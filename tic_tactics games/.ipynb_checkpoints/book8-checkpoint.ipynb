{
 "cells": [
  {
   "cell_type": "code",
   "execution_count": null,
   "metadata": {
    "collapsed": false
   },
   "outputs": [
    {
     "name": "stdout",
     "output_type": "stream",
     "text": [
      "nodes visited   371900000\n",
      "cache space     30000034\n",
      "nodes stored    29976526\n",
      "nodes forgotten 240415270\n",
      "current depth   12\n",
      "current node    83 82 68 06 22 86 61 24 65 17 53 81\n",
      "role: min\n",
      "root  : work: 185235258,  33429 won,  33429 not lost,   9467 not won,   9467 lost\n",
      "\n",
      "role: max\n",
      "(6, 4): work:  22804868,   4099 won,   4099 not lost,   9654 not won,   9654 lost\n",
      "(8, 3): work:  17727311,   3401 won,   3401 not lost,   9467 not won,   9467 lost\n",
      "(7, 4): work:  20781403,   3830 won,   3830 not lost,   9474 not won,   9474 lost\n",
      "(6, 3): work:  17808110,   3308 won,   3308 not lost,   9651 not won,   9651 lost\n",
      "(7, 5): work:  17950356,   3418 won,   3418 not lost,   9504 not won,   9504 lost\n",
      "(8, 5): work:  27848057,   4855 won,   4855 not lost,   9614 not won,   9614 lost\n",
      "(6, 5): work:  46761008,   7860 won,   7860 not lost,   9657 not won,   9657 lost\n",
      "(8, 4): work:  13554144,   2658 won,   2658 not lost,   9505 not won,   9505 lost\n",
      "\n",
      "expanding move (8, 3)\n",
      "role: min\n",
      "(8, 2): work:   3452095,   3458 won,   3458 not lost,   1802 not won,   1802 lost\n",
      "(7, 1): work:   3227181,   3528 won,   3528 not lost,   1715 not won,   1715 lost\n",
      "(6, 1): work:   2409670,   3466 won,   3466 not lost,   1279 not won,   1279 lost\n",
      "(8, 0): work:   2411740,   3495 won,   3495 not lost,   1304 not won,   1304 lost\n",
      "(6, 2): work:   4412793,   3512 won,   3512 not lost,   2194 not won,   2194 lost\n",
      "(7, 2): work:   2365915,   3484 won,   3484 not lost,   1298 not won,   1298 lost\n",
      "\n"
     ]
    }
   ],
   "source": [
    "# %%px --targets 1\n",
    "import sys\n",
    "\n",
    "sys.path.append('../')\n",
    "\n",
    "import tictactics_cython as tact\n",
    "from tictactics_cython import Board\n",
    "import MC\n",
    "from MC import MC_node,mc_sim\n",
    "import dfpn\n",
    "import matplotlib\n",
    "import numpy as np\n",
    "import cProfile\n",
    "from matplotlib import pyplot as plt\n",
    "import time\n",
    "%matplotlib inline\n",
    "\n",
    "board = np.zeros((9,9))\n",
    "for x in [(1,4),(0,8),(2,6),(5,4),(4,6),(4,8),(6,6),(8,8)]:\n",
    "    board[x]=1\n",
    "for o in [(1,0),(2,0),(1,8),(2,8),(3,5),(6,0),(7,7),(7,8)]:\n",
    "    board[o]=-1\n",
    "big_board = np.array([[0,0,0],\n",
    "                      [0,0,0],\n",
    "                      [0,0,0]])\n",
    "\n",
    "player = 1\n",
    "game = Board(board=board,big_board = big_board,player = player)\n",
    "for move in [(3,4),(2,3),(7,0),(3,2),(0,7),(1,3),(5,1)]:\n",
    "    game.update_move(move)\n",
    "log_len = len(game.log)\n",
    "dfpn.init()\n",
    "\n",
    "tact.fancy_board(game)\n",
    "t0 = time.clock()\n",
    "# cProfile.run('node,tree = dfpn.solve(game,root = True,epsilon=1.1)',sort = 'tottime')\n",
    "node,tree = dfpn.solve(game,root = True,epsilon=1.02)\n",
    "print 'time',time.clock() - t0\n",
    "print tree"
   ]
  },
  {
   "cell_type": "code",
   "execution_count": null,
   "metadata": {
    "collapsed": true
   },
   "outputs": [],
   "source": [
    "with open('book8done.txt','w') as file_:\n",
    "    file_.write('finished')\n",
    "    "
   ]
  },
  {
   "cell_type": "code",
   "execution_count": null,
   "metadata": {
    "collapsed": true
   },
   "outputs": [],
   "source": []
  }
 ],
 "metadata": {
  "kernelspec": {
   "display_name": "Python 2",
   "language": "python",
   "name": "python2"
  },
  "language_info": {
   "codemirror_mode": {
    "name": "ipython",
    "version": 2
   },
   "file_extension": ".py",
   "mimetype": "text/x-python",
   "name": "python",
   "nbconvert_exporter": "python",
   "pygments_lexer": "ipython2",
   "version": "2.7.12"
  }
 },
 "nbformat": 4,
 "nbformat_minor": 0
}
