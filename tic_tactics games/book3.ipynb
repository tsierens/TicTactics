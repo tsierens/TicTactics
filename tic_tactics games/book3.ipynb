{
 "cells": [
  {
   "cell_type": "code",
   "execution_count": 1,
   "metadata": {
    "collapsed": false
   },
   "outputs": [
    {
     "name": "stdout",
     "output_type": "stream",
     "text": [
      "nodes visited   4534800000\n",
      "cache space     30000034\n",
      "nodes stored    30000034\n",
      "nodes forgotten 2961772410\n",
      "current depth   9\n",
      "current node    87 63 11 44 33 01 13 50 62\n",
      "role: min\n",
      "  root: work: 978415724 pn0:  12076 pn1:   6116 dn0:  26247 dn1:  26624 \n",
      "\n",
      "role: max\n",
      "(6, 6): work: 132829680 pn0:      0 pn1:      0 dn0:    INF dn1:    INF \n",
      "(7, 6): work: 209717841 pn0:   2117 pn1:   1464 dn0:  26772 dn1:  27437 \n",
      "(7, 7): work:  80967249 pn0:      0 pn1:      0 dn0:    INF dn1:    INF \n",
      "(8, 8): work:   2502911 pn0:      0 pn1:      0 dn0:    INF dn1:    INF \n",
      "(8, 7): work: 250884592 pn0:   9959 pn1:   4652 dn0:  26247 dn1:  26624 \n",
      "(8, 6): work: 301513450 pn0:      0 pn1:      0 dn0:    INF dn1:    INF \n",
      "\n",
      "expanding move (8, 7)\n",
      "role: min\n",
      "(7, 3): work:  76698117 pn0:  11272 pn1:   7499 dn0:   6160 dn1:   6307 \n",
      "(8, 3): work:  50730862 pn0:  11274 pn1:   5393 dn0:   1947 dn1:   2589 \n",
      "(7, 4): work:  13007470 pn0:    INF pn1:   4652 dn0:      0 dn1:    309 \n",
      "(6, 3): work:  56334731 pn0:  11120 pn1:   8461 dn0:   5709 dn1:   5709 \n",
      "(7, 5): work:  40910159 pn0:  11145 pn1:   8456 dn0:   4522 dn1:   4522 \n",
      "(6, 5): work:  41906951 pn0:  11132 pn1:  10206 dn0:   4307 dn1:   4358 \n",
      "(8, 4): work:  29804793 pn0:  11343 pn1:  10464 dn0:   3354 dn1:   3354 \n",
      "\n"
     ]
    },
    {
     "ename": "KeyboardInterrupt",
     "evalue": "",
     "output_type": "error",
     "traceback": [
      "\u001b[1;31m---------------------------------------------------------------------------\u001b[0m",
      "\u001b[1;31mKeyboardInterrupt\u001b[0m                         Traceback (most recent call last)",
      "\u001b[1;32m<ipython-input-1-5c6c599d1647>\u001b[0m in \u001b[0;36m<module>\u001b[1;34m()\u001b[0m\n\u001b[0;32m     45\u001b[0m         \u001b[0mgame\u001b[0m\u001b[1;33m.\u001b[0m\u001b[0mupdate_move\u001b[0m\u001b[1;33m(\u001b[0m\u001b[0mmove2\u001b[0m\u001b[1;33m)\u001b[0m\u001b[1;33m\u001b[0m\u001b[0m\n\u001b[0;32m     46\u001b[0m \u001b[1;31m#         game.update_move((2,2))\u001b[0m\u001b[1;33m\u001b[0m\u001b[1;33m\u001b[0m\u001b[0m\n\u001b[1;32m---> 47\u001b[1;33m         \u001b[0mnode\u001b[0m\u001b[1;33m,\u001b[0m\u001b[0mtree\u001b[0m \u001b[1;33m=\u001b[0m \u001b[0mdfpn\u001b[0m\u001b[1;33m.\u001b[0m\u001b[0msolve\u001b[0m\u001b[1;33m(\u001b[0m\u001b[0mgame\u001b[0m\u001b[1;33m,\u001b[0m\u001b[1;36m3\u001b[0m\u001b[1;33m,\u001b[0m\u001b[1;33m{\u001b[0m\u001b[1;36m1\u001b[0m\u001b[1;33m:\u001b[0m\u001b[1;36m0\u001b[0m\u001b[1;33m,\u001b[0m\u001b[1;36m0\u001b[0m\u001b[1;33m:\u001b[0m\u001b[1;36m1\u001b[0m\u001b[1;33m,\u001b[0m\u001b[1;33m-\u001b[0m\u001b[1;36m1\u001b[0m\u001b[1;33m:\u001b[0m\u001b[1;36m2\u001b[0m\u001b[1;33m,\u001b[0m\u001b[1;36m2\u001b[0m\u001b[1;33m:\u001b[0m\u001b[1;36m1\u001b[0m\u001b[1;33m,\u001b[0m\u001b[1;33m-\u001b[0m\u001b[1;36m2\u001b[0m\u001b[1;33m:\u001b[0m\u001b[1;36m1\u001b[0m\u001b[1;33m}\u001b[0m\u001b[1;33m,\u001b[0m\u001b[1;36m0\u001b[0m\u001b[1;33m,\u001b[0m\u001b[0mroot\u001b[0m \u001b[1;33m=\u001b[0m \u001b[0mTrue\u001b[0m\u001b[1;33m,\u001b[0m\u001b[0mepsilon\u001b[0m\u001b[1;33m=\u001b[0m\u001b[1;36m1.02\u001b[0m\u001b[1;33m)\u001b[0m\u001b[1;33m\u001b[0m\u001b[0m\n\u001b[0m\u001b[0;32m     48\u001b[0m         \u001b[1;32mif\u001b[0m \u001b[0mnode\u001b[0m\u001b[1;33m[\u001b[0m\u001b[1;36m2\u001b[0m\u001b[1;33m]\u001b[0m \u001b[1;33m==\u001b[0m \u001b[1;36m0\u001b[0m\u001b[1;33m:\u001b[0m\u001b[1;33m\u001b[0m\u001b[0m\n\u001b[0;32m     49\u001b[0m             \u001b[0mnode_print\u001b[0m \u001b[1;33m=\u001b[0m \u001b[1;34m'Stephen wins'\u001b[0m\u001b[1;33m\u001b[0m\u001b[0m\n",
      "\u001b[1;32mC:\\Users\\Todd\\Dropbox\\games\\dfpn_multi.pyx\u001b[0m in \u001b[0;36mdfpn_multi.solve (dfpn_multi.c:6207)\u001b[1;34m()\u001b[0m\n\u001b[0;32m    359\u001b[0m     \u001b[1;32mwhile\u001b[0m \u001b[0mstart\u001b[0m \u001b[1;33m>\u001b[0m \u001b[0mlower\u001b[0m \u001b[1;32mand\u001b[0m \u001b[0mstart\u001b[0m \u001b[1;33m<\u001b[0m \u001b[0mupper\u001b[0m\u001b[1;33m:\u001b[0m\u001b[1;33m\u001b[0m\u001b[0m\n\u001b[0;32m    360\u001b[0m \u001b[1;33m\u001b[0m\u001b[0m\n\u001b[1;32m--> 361\u001b[1;33m         \u001b[0mdfpn_search\u001b[0m\u001b[1;33m(\u001b[0m\u001b[0mgame\u001b[0m\u001b[1;33m,\u001b[0m\u001b[0mnode\u001b[0m\u001b[1;33m,\u001b[0m\u001b[0mstart\u001b[0m\u001b[1;33m,\u001b[0m\u001b[1;33m-\u001b[0m\u001b[1;36m1\u001b[0m\u001b[1;33m,\u001b[0m\u001b[1;33m-\u001b[0m\u001b[1;36m1\u001b[0m\u001b[1;33m,\u001b[0m\u001b[0mepsilon\u001b[0m\u001b[1;33m,\u001b[0m\u001b[0mroot\u001b[0m\u001b[1;33m,\u001b[0m\u001b[0mcallback_freq\u001b[0m\u001b[1;33m,\u001b[0m\u001b[0mn_outcomes\u001b[0m \u001b[1;33m-\u001b[0m \u001b[1;36m1\u001b[0m\u001b[1;33m,\u001b[0m\u001b[0mresult_to_outcome\u001b[0m\u001b[1;33m)\u001b[0m\u001b[1;33m\u001b[0m\u001b[0m\n\u001b[0m\u001b[0;32m    362\u001b[0m         \u001b[1;32mif\u001b[0m \u001b[0mnode\u001b[0m\u001b[1;33m[\u001b[0m\u001b[1;36m2\u001b[0m\u001b[1;33m+\u001b[0m\u001b[0mstart\u001b[0m\u001b[1;33m]\u001b[0m \u001b[1;33m==\u001b[0m \u001b[1;36m0\u001b[0m\u001b[1;33m:\u001b[0m\u001b[1;33m\u001b[0m\u001b[0m\n\u001b[0;32m    363\u001b[0m             \u001b[0mupper\u001b[0m \u001b[1;33m=\u001b[0m \u001b[0mstart\u001b[0m\u001b[1;33m\u001b[0m\u001b[0m\n",
      "\u001b[1;32mC:\\Users\\Todd\\Dropbox\\games\\dfpn_multi.pyx\u001b[0m in \u001b[0;36mdfpn_multi.dfpn_search (dfpn_multi.c:8510)\u001b[1;34m()\u001b[0m\n\u001b[0;32m    640\u001b[0m \u001b[1;33m\u001b[0m\u001b[0m\n\u001b[0;32m    641\u001b[0m                 \u001b[0mgame\u001b[0m\u001b[1;33m.\u001b[0m\u001b[0mupdate_move\u001b[0m\u001b[1;33m(\u001b[0m\u001b[0mmove\u001b[0m\u001b[1;33m)\u001b[0m\u001b[1;33m\u001b[0m\u001b[0m\n\u001b[1;32m--> 642\u001b[1;33m                 dfpn_search(game,child,o,child_pnt,child_dnt,\n\u001b[0m\u001b[0;32m    643\u001b[0m                             \u001b[0mepsilon\u001b[0m\u001b[1;33m=\u001b[0m\u001b[0mep\u001b[0m\u001b[1;33m,\u001b[0m\u001b[0mroot\u001b[0m \u001b[1;33m=\u001b[0m \u001b[1;36m0\u001b[0m\u001b[1;33m,\u001b[0m\u001b[0mcallback_freq\u001b[0m\u001b[1;33m=\u001b[0m\u001b[0mcallback_freq\u001b[0m\u001b[1;33m,\u001b[0m\u001b[1;33m\u001b[0m\u001b[0m\n\u001b[0;32m    644\u001b[0m                             n_splits=n_splits,result_to_outcome = result_to_outcome)\n",
      "\u001b[1;32mC:\\Users\\Todd\\Dropbox\\games\\dfpn_multi.pyx\u001b[0m in \u001b[0;36mdfpn_multi.dfpn_search (dfpn_multi.c:8088)\u001b[1;34m()\u001b[0m\n\u001b[0;32m    580\u001b[0m \u001b[1;33m\u001b[0m\u001b[0m\n\u001b[0;32m    581\u001b[0m                 \u001b[0mgame\u001b[0m\u001b[1;33m.\u001b[0m\u001b[0mupdate_move\u001b[0m\u001b[1;33m(\u001b[0m\u001b[0mmove\u001b[0m\u001b[1;33m)\u001b[0m\u001b[1;33m\u001b[0m\u001b[0m\n\u001b[1;32m--> 582\u001b[1;33m                 dfpn_search(game,child,o,child_pnt,child_dnt,\n\u001b[0m\u001b[0;32m    583\u001b[0m                             \u001b[0mepsilon\u001b[0m\u001b[1;33m=\u001b[0m\u001b[0mep\u001b[0m\u001b[1;33m,\u001b[0m\u001b[0mroot\u001b[0m \u001b[1;33m=\u001b[0m \u001b[1;36m0\u001b[0m\u001b[1;33m,\u001b[0m\u001b[0mcallback_freq\u001b[0m\u001b[1;33m=\u001b[0m\u001b[0mcallback_freq\u001b[0m\u001b[1;33m,\u001b[0m\u001b[1;33m\u001b[0m\u001b[0m\n\u001b[0;32m    584\u001b[0m                             n_splits=n_splits,result_to_outcome = result_to_outcome)\n",
      "\u001b[1;32mC:\\Users\\Todd\\Dropbox\\games\\dfpn_multi.pyx\u001b[0m in \u001b[0;36mdfpn_multi.dfpn_search (dfpn_multi.c:8510)\u001b[1;34m()\u001b[0m\n\u001b[0;32m    640\u001b[0m \u001b[1;33m\u001b[0m\u001b[0m\n\u001b[0;32m    641\u001b[0m                 \u001b[0mgame\u001b[0m\u001b[1;33m.\u001b[0m\u001b[0mupdate_move\u001b[0m\u001b[1;33m(\u001b[0m\u001b[0mmove\u001b[0m\u001b[1;33m)\u001b[0m\u001b[1;33m\u001b[0m\u001b[0m\n\u001b[1;32m--> 642\u001b[1;33m                 dfpn_search(game,child,o,child_pnt,child_dnt,\n\u001b[0m\u001b[0;32m    643\u001b[0m                             \u001b[0mepsilon\u001b[0m\u001b[1;33m=\u001b[0m\u001b[0mep\u001b[0m\u001b[1;33m,\u001b[0m\u001b[0mroot\u001b[0m \u001b[1;33m=\u001b[0m \u001b[1;36m0\u001b[0m\u001b[1;33m,\u001b[0m\u001b[0mcallback_freq\u001b[0m\u001b[1;33m=\u001b[0m\u001b[0mcallback_freq\u001b[0m\u001b[1;33m,\u001b[0m\u001b[1;33m\u001b[0m\u001b[0m\n\u001b[0;32m    644\u001b[0m                             n_splits=n_splits,result_to_outcome = result_to_outcome)\n",
      "\u001b[1;32mC:\\Users\\Todd\\Dropbox\\games\\dfpn_multi.pyx\u001b[0m in \u001b[0;36mdfpn_multi.dfpn_search (dfpn_multi.c:8088)\u001b[1;34m()\u001b[0m\n\u001b[0;32m    580\u001b[0m \u001b[1;33m\u001b[0m\u001b[0m\n\u001b[0;32m    581\u001b[0m                 \u001b[0mgame\u001b[0m\u001b[1;33m.\u001b[0m\u001b[0mupdate_move\u001b[0m\u001b[1;33m(\u001b[0m\u001b[0mmove\u001b[0m\u001b[1;33m)\u001b[0m\u001b[1;33m\u001b[0m\u001b[0m\n\u001b[1;32m--> 582\u001b[1;33m                 dfpn_search(game,child,o,child_pnt,child_dnt,\n\u001b[0m\u001b[0;32m    583\u001b[0m                             \u001b[0mepsilon\u001b[0m\u001b[1;33m=\u001b[0m\u001b[0mep\u001b[0m\u001b[1;33m,\u001b[0m\u001b[0mroot\u001b[0m \u001b[1;33m=\u001b[0m \u001b[1;36m0\u001b[0m\u001b[1;33m,\u001b[0m\u001b[0mcallback_freq\u001b[0m\u001b[1;33m=\u001b[0m\u001b[0mcallback_freq\u001b[0m\u001b[1;33m,\u001b[0m\u001b[1;33m\u001b[0m\u001b[0m\n\u001b[0;32m    584\u001b[0m                             n_splits=n_splits,result_to_outcome = result_to_outcome)\n",
      "\u001b[1;32mC:\\Users\\Todd\\Dropbox\\games\\dfpn_multi.pyx\u001b[0m in \u001b[0;36mdfpn_multi.dfpn_search (dfpn_multi.c:8510)\u001b[1;34m()\u001b[0m\n\u001b[0;32m    640\u001b[0m \u001b[1;33m\u001b[0m\u001b[0m\n\u001b[0;32m    641\u001b[0m                 \u001b[0mgame\u001b[0m\u001b[1;33m.\u001b[0m\u001b[0mupdate_move\u001b[0m\u001b[1;33m(\u001b[0m\u001b[0mmove\u001b[0m\u001b[1;33m)\u001b[0m\u001b[1;33m\u001b[0m\u001b[0m\n\u001b[1;32m--> 642\u001b[1;33m                 dfpn_search(game,child,o,child_pnt,child_dnt,\n\u001b[0m\u001b[0;32m    643\u001b[0m                             \u001b[0mepsilon\u001b[0m\u001b[1;33m=\u001b[0m\u001b[0mep\u001b[0m\u001b[1;33m,\u001b[0m\u001b[0mroot\u001b[0m \u001b[1;33m=\u001b[0m \u001b[1;36m0\u001b[0m\u001b[1;33m,\u001b[0m\u001b[0mcallback_freq\u001b[0m\u001b[1;33m=\u001b[0m\u001b[0mcallback_freq\u001b[0m\u001b[1;33m,\u001b[0m\u001b[1;33m\u001b[0m\u001b[0m\n\u001b[0;32m    644\u001b[0m                             n_splits=n_splits,result_to_outcome = result_to_outcome)\n",
      "\u001b[1;32mC:\\Users\\Todd\\Dropbox\\games\\dfpn_multi.pyx\u001b[0m in \u001b[0;36mdfpn_multi.dfpn_search (dfpn_multi.c:8088)\u001b[1;34m()\u001b[0m\n\u001b[0;32m    580\u001b[0m \u001b[1;33m\u001b[0m\u001b[0m\n\u001b[0;32m    581\u001b[0m                 \u001b[0mgame\u001b[0m\u001b[1;33m.\u001b[0m\u001b[0mupdate_move\u001b[0m\u001b[1;33m(\u001b[0m\u001b[0mmove\u001b[0m\u001b[1;33m)\u001b[0m\u001b[1;33m\u001b[0m\u001b[0m\n\u001b[1;32m--> 582\u001b[1;33m                 dfpn_search(game,child,o,child_pnt,child_dnt,\n\u001b[0m\u001b[0;32m    583\u001b[0m                             \u001b[0mepsilon\u001b[0m\u001b[1;33m=\u001b[0m\u001b[0mep\u001b[0m\u001b[1;33m,\u001b[0m\u001b[0mroot\u001b[0m \u001b[1;33m=\u001b[0m \u001b[1;36m0\u001b[0m\u001b[1;33m,\u001b[0m\u001b[0mcallback_freq\u001b[0m\u001b[1;33m=\u001b[0m\u001b[0mcallback_freq\u001b[0m\u001b[1;33m,\u001b[0m\u001b[1;33m\u001b[0m\u001b[0m\n\u001b[0;32m    584\u001b[0m                             n_splits=n_splits,result_to_outcome = result_to_outcome)\n",
      "\u001b[1;32mC:\\Users\\Todd\\Dropbox\\games\\dfpn_multi.pyx\u001b[0m in \u001b[0;36mdfpn_multi.dfpn_search (dfpn_multi.c:8510)\u001b[1;34m()\u001b[0m\n\u001b[0;32m    640\u001b[0m \u001b[1;33m\u001b[0m\u001b[0m\n\u001b[0;32m    641\u001b[0m                 \u001b[0mgame\u001b[0m\u001b[1;33m.\u001b[0m\u001b[0mupdate_move\u001b[0m\u001b[1;33m(\u001b[0m\u001b[0mmove\u001b[0m\u001b[1;33m)\u001b[0m\u001b[1;33m\u001b[0m\u001b[0m\n\u001b[1;32m--> 642\u001b[1;33m                 dfpn_search(game,child,o,child_pnt,child_dnt,\n\u001b[0m\u001b[0;32m    643\u001b[0m                             \u001b[0mepsilon\u001b[0m\u001b[1;33m=\u001b[0m\u001b[0mep\u001b[0m\u001b[1;33m,\u001b[0m\u001b[0mroot\u001b[0m \u001b[1;33m=\u001b[0m \u001b[1;36m0\u001b[0m\u001b[1;33m,\u001b[0m\u001b[0mcallback_freq\u001b[0m\u001b[1;33m=\u001b[0m\u001b[0mcallback_freq\u001b[0m\u001b[1;33m,\u001b[0m\u001b[1;33m\u001b[0m\u001b[0m\n\u001b[0;32m    644\u001b[0m                             n_splits=n_splits,result_to_outcome = result_to_outcome)\n",
      "\u001b[1;32mC:\\Users\\Todd\\Dropbox\\games\\dfpn_multi.pyx\u001b[0m in \u001b[0;36mdfpn_multi.dfpn_search (dfpn_multi.c:8088)\u001b[1;34m()\u001b[0m\n\u001b[0;32m    580\u001b[0m \u001b[1;33m\u001b[0m\u001b[0m\n\u001b[0;32m    581\u001b[0m                 \u001b[0mgame\u001b[0m\u001b[1;33m.\u001b[0m\u001b[0mupdate_move\u001b[0m\u001b[1;33m(\u001b[0m\u001b[0mmove\u001b[0m\u001b[1;33m)\u001b[0m\u001b[1;33m\u001b[0m\u001b[0m\n\u001b[1;32m--> 582\u001b[1;33m                 dfpn_search(game,child,o,child_pnt,child_dnt,\n\u001b[0m\u001b[0;32m    583\u001b[0m                             \u001b[0mepsilon\u001b[0m\u001b[1;33m=\u001b[0m\u001b[0mep\u001b[0m\u001b[1;33m,\u001b[0m\u001b[0mroot\u001b[0m \u001b[1;33m=\u001b[0m \u001b[1;36m0\u001b[0m\u001b[1;33m,\u001b[0m\u001b[0mcallback_freq\u001b[0m\u001b[1;33m=\u001b[0m\u001b[0mcallback_freq\u001b[0m\u001b[1;33m,\u001b[0m\u001b[1;33m\u001b[0m\u001b[0m\n\u001b[0;32m    584\u001b[0m                             n_splits=n_splits,result_to_outcome = result_to_outcome)\n",
      "\u001b[1;32mC:\\Users\\Todd\\Dropbox\\games\\dfpn_multi.pyx\u001b[0m in \u001b[0;36mdfpn_multi.dfpn_search (dfpn_multi.c:8510)\u001b[1;34m()\u001b[0m\n\u001b[0;32m    640\u001b[0m \u001b[1;33m\u001b[0m\u001b[0m\n\u001b[0;32m    641\u001b[0m                 \u001b[0mgame\u001b[0m\u001b[1;33m.\u001b[0m\u001b[0mupdate_move\u001b[0m\u001b[1;33m(\u001b[0m\u001b[0mmove\u001b[0m\u001b[1;33m)\u001b[0m\u001b[1;33m\u001b[0m\u001b[0m\n\u001b[1;32m--> 642\u001b[1;33m                 dfpn_search(game,child,o,child_pnt,child_dnt,\n\u001b[0m\u001b[0;32m    643\u001b[0m                             \u001b[0mepsilon\u001b[0m\u001b[1;33m=\u001b[0m\u001b[0mep\u001b[0m\u001b[1;33m,\u001b[0m\u001b[0mroot\u001b[0m \u001b[1;33m=\u001b[0m \u001b[1;36m0\u001b[0m\u001b[1;33m,\u001b[0m\u001b[0mcallback_freq\u001b[0m\u001b[1;33m=\u001b[0m\u001b[0mcallback_freq\u001b[0m\u001b[1;33m,\u001b[0m\u001b[1;33m\u001b[0m\u001b[0m\n\u001b[0;32m    644\u001b[0m                             n_splits=n_splits,result_to_outcome = result_to_outcome)\n",
      "\u001b[1;32mC:\\Users\\Todd\\Dropbox\\games\\dfpn_multi.pyx\u001b[0m in \u001b[0;36mdfpn_multi.dfpn_search (dfpn_multi.c:8088)\u001b[1;34m()\u001b[0m\n\u001b[0;32m    580\u001b[0m \u001b[1;33m\u001b[0m\u001b[0m\n\u001b[0;32m    581\u001b[0m                 \u001b[0mgame\u001b[0m\u001b[1;33m.\u001b[0m\u001b[0mupdate_move\u001b[0m\u001b[1;33m(\u001b[0m\u001b[0mmove\u001b[0m\u001b[1;33m)\u001b[0m\u001b[1;33m\u001b[0m\u001b[0m\n\u001b[1;32m--> 582\u001b[1;33m                 dfpn_search(game,child,o,child_pnt,child_dnt,\n\u001b[0m\u001b[0;32m    583\u001b[0m                             \u001b[0mepsilon\u001b[0m\u001b[1;33m=\u001b[0m\u001b[0mep\u001b[0m\u001b[1;33m,\u001b[0m\u001b[0mroot\u001b[0m \u001b[1;33m=\u001b[0m \u001b[1;36m0\u001b[0m\u001b[1;33m,\u001b[0m\u001b[0mcallback_freq\u001b[0m\u001b[1;33m=\u001b[0m\u001b[0mcallback_freq\u001b[0m\u001b[1;33m,\u001b[0m\u001b[1;33m\u001b[0m\u001b[0m\n\u001b[0;32m    584\u001b[0m                             n_splits=n_splits,result_to_outcome = result_to_outcome)\n",
      "\u001b[1;32mC:\\Users\\Todd\\Dropbox\\games\\dfpn_multi.pyx\u001b[0m in \u001b[0;36mdfpn_multi.dfpn_search (dfpn_multi.c:8510)\u001b[1;34m()\u001b[0m\n\u001b[0;32m    640\u001b[0m \u001b[1;33m\u001b[0m\u001b[0m\n\u001b[0;32m    641\u001b[0m                 \u001b[0mgame\u001b[0m\u001b[1;33m.\u001b[0m\u001b[0mupdate_move\u001b[0m\u001b[1;33m(\u001b[0m\u001b[0mmove\u001b[0m\u001b[1;33m)\u001b[0m\u001b[1;33m\u001b[0m\u001b[0m\n\u001b[1;32m--> 642\u001b[1;33m                 dfpn_search(game,child,o,child_pnt,child_dnt,\n\u001b[0m\u001b[0;32m    643\u001b[0m                             \u001b[0mepsilon\u001b[0m\u001b[1;33m=\u001b[0m\u001b[0mep\u001b[0m\u001b[1;33m,\u001b[0m\u001b[0mroot\u001b[0m \u001b[1;33m=\u001b[0m \u001b[1;36m0\u001b[0m\u001b[1;33m,\u001b[0m\u001b[0mcallback_freq\u001b[0m\u001b[1;33m=\u001b[0m\u001b[0mcallback_freq\u001b[0m\u001b[1;33m,\u001b[0m\u001b[1;33m\u001b[0m\u001b[0m\n\u001b[0;32m    644\u001b[0m                             n_splits=n_splits,result_to_outcome = result_to_outcome)\n",
      "\u001b[1;32mC:\\Users\\Todd\\Dropbox\\games\\dfpn_multi.pyx\u001b[0m in \u001b[0;36mdfpn_multi.dfpn_search (dfpn_multi.c:8088)\u001b[1;34m()\u001b[0m\n\u001b[0;32m    580\u001b[0m \u001b[1;33m\u001b[0m\u001b[0m\n\u001b[0;32m    581\u001b[0m                 \u001b[0mgame\u001b[0m\u001b[1;33m.\u001b[0m\u001b[0mupdate_move\u001b[0m\u001b[1;33m(\u001b[0m\u001b[0mmove\u001b[0m\u001b[1;33m)\u001b[0m\u001b[1;33m\u001b[0m\u001b[0m\n\u001b[1;32m--> 582\u001b[1;33m                 dfpn_search(game,child,o,child_pnt,child_dnt,\n\u001b[0m\u001b[0;32m    583\u001b[0m                             \u001b[0mepsilon\u001b[0m\u001b[1;33m=\u001b[0m\u001b[0mep\u001b[0m\u001b[1;33m,\u001b[0m\u001b[0mroot\u001b[0m \u001b[1;33m=\u001b[0m \u001b[1;36m0\u001b[0m\u001b[1;33m,\u001b[0m\u001b[0mcallback_freq\u001b[0m\u001b[1;33m=\u001b[0m\u001b[0mcallback_freq\u001b[0m\u001b[1;33m,\u001b[0m\u001b[1;33m\u001b[0m\u001b[0m\n\u001b[0;32m    584\u001b[0m                             n_splits=n_splits,result_to_outcome = result_to_outcome)\n",
      "\u001b[1;32mC:\\Users\\Todd\\Dropbox\\games\\dfpn_multi.pyx\u001b[0m in \u001b[0;36mdfpn_multi.dfpn_search (dfpn_multi.c:8510)\u001b[1;34m()\u001b[0m\n\u001b[0;32m    640\u001b[0m \u001b[1;33m\u001b[0m\u001b[0m\n\u001b[0;32m    641\u001b[0m                 \u001b[0mgame\u001b[0m\u001b[1;33m.\u001b[0m\u001b[0mupdate_move\u001b[0m\u001b[1;33m(\u001b[0m\u001b[0mmove\u001b[0m\u001b[1;33m)\u001b[0m\u001b[1;33m\u001b[0m\u001b[0m\n\u001b[1;32m--> 642\u001b[1;33m                 dfpn_search(game,child,o,child_pnt,child_dnt,\n\u001b[0m\u001b[0;32m    643\u001b[0m                             \u001b[0mepsilon\u001b[0m\u001b[1;33m=\u001b[0m\u001b[0mep\u001b[0m\u001b[1;33m,\u001b[0m\u001b[0mroot\u001b[0m \u001b[1;33m=\u001b[0m \u001b[1;36m0\u001b[0m\u001b[1;33m,\u001b[0m\u001b[0mcallback_freq\u001b[0m\u001b[1;33m=\u001b[0m\u001b[0mcallback_freq\u001b[0m\u001b[1;33m,\u001b[0m\u001b[1;33m\u001b[0m\u001b[0m\n\u001b[0;32m    644\u001b[0m                             n_splits=n_splits,result_to_outcome = result_to_outcome)\n",
      "\u001b[1;32mC:\\Users\\Todd\\Dropbox\\games\\dfpn_multi.pyx\u001b[0m in \u001b[0;36mdfpn_multi.dfpn_search (dfpn_multi.c:8088)\u001b[1;34m()\u001b[0m\n\u001b[0;32m    580\u001b[0m \u001b[1;33m\u001b[0m\u001b[0m\n\u001b[0;32m    581\u001b[0m                 \u001b[0mgame\u001b[0m\u001b[1;33m.\u001b[0m\u001b[0mupdate_move\u001b[0m\u001b[1;33m(\u001b[0m\u001b[0mmove\u001b[0m\u001b[1;33m)\u001b[0m\u001b[1;33m\u001b[0m\u001b[0m\n\u001b[1;32m--> 582\u001b[1;33m                 dfpn_search(game,child,o,child_pnt,child_dnt,\n\u001b[0m\u001b[0;32m    583\u001b[0m                             \u001b[0mepsilon\u001b[0m\u001b[1;33m=\u001b[0m\u001b[0mep\u001b[0m\u001b[1;33m,\u001b[0m\u001b[0mroot\u001b[0m \u001b[1;33m=\u001b[0m \u001b[1;36m0\u001b[0m\u001b[1;33m,\u001b[0m\u001b[0mcallback_freq\u001b[0m\u001b[1;33m=\u001b[0m\u001b[0mcallback_freq\u001b[0m\u001b[1;33m,\u001b[0m\u001b[1;33m\u001b[0m\u001b[0m\n\u001b[0;32m    584\u001b[0m                             n_splits=n_splits,result_to_outcome = result_to_outcome)\n",
      "\u001b[1;32mC:\\Users\\Todd\\Dropbox\\games\\dfpn_multi.pyx\u001b[0m in \u001b[0;36mdfpn_multi.dfpn_search (dfpn_multi.c:6644)\u001b[1;34m()\u001b[0m\n\u001b[0;32m    396\u001b[0m     \u001b[1;32mif\u001b[0m \u001b[0mcallback_freq\u001b[0m\u001b[1;33m:\u001b[0m\u001b[1;33m\u001b[0m\u001b[0m\n\u001b[0;32m    397\u001b[0m         \u001b[1;32mif\u001b[0m \u001b[0mNODES_VISITED\u001b[0m \u001b[1;33m%\u001b[0m \u001b[0mcallback_freq\u001b[0m\u001b[1;33m==\u001b[0m\u001b[1;36m0\u001b[0m\u001b[1;33m:\u001b[0m\u001b[1;33m\u001b[0m\u001b[0m\n\u001b[1;32m--> 398\u001b[1;33m             \u001b[0mcallback\u001b[0m\u001b[1;33m(\u001b[0m\u001b[0mgame\u001b[0m\u001b[1;33m)\u001b[0m \u001b[1;31m#global callback set by dfpn_run\u001b[0m\u001b[1;33m\u001b[0m\u001b[0m\n\u001b[0m\u001b[0;32m    399\u001b[0m \u001b[1;33m\u001b[0m\u001b[0m\n\u001b[0;32m    400\u001b[0m     \u001b[1;31m#init values for proof numbers of this node\u001b[0m\u001b[1;33m\u001b[0m\u001b[1;33m\u001b[0m\u001b[0m\n",
      "\u001b[1;32mC:\\Users\\Todd\\Dropbox\\games\\dfpn_multi.pyx\u001b[0m in \u001b[0;36mdfpn_multi.solve.callback (dfpn_multi.c:5709)\u001b[1;34m()\u001b[0m\n\u001b[0;32m    351\u001b[0m             \u001b[0mgame\u001b[0m\u001b[1;33m.\u001b[0m\u001b[0merase_move\u001b[0m\u001b[1;33m(\u001b[0m\u001b[1;33m)\u001b[0m\u001b[1;33m\u001b[0m\u001b[0m\n\u001b[0;32m    352\u001b[0m         \u001b[1;32mdef\u001b[0m \u001b[0mcallback\u001b[0m\u001b[1;33m(\u001b[0m\u001b[0mgame\u001b[0m\u001b[1;33m)\u001b[0m\u001b[1;33m:\u001b[0m\u001b[1;33m\u001b[0m\u001b[0m\n\u001b[1;32m--> 353\u001b[1;33m             \u001b[0mdefault_callback\u001b[0m\u001b[1;33m(\u001b[0m\u001b[0mgame\u001b[0m\u001b[1;33m,\u001b[0m\u001b[0mrole\u001b[0m\u001b[1;33m,\u001b[0m\u001b[0mroot_key\u001b[0m\u001b[1;33m,\u001b[0m\u001b[0mchildren\u001b[0m\u001b[1;33m,\u001b[0m\u001b[0mgrandchildren\u001b[0m\u001b[1;33m,\u001b[0m\u001b[0mn_outcomes\u001b[0m\u001b[1;33m,\u001b[0m\u001b[0mclear\u001b[0m \u001b[1;33m=\u001b[0m \u001b[0mTrue\u001b[0m\u001b[1;33m)\u001b[0m\u001b[1;33m\u001b[0m\u001b[0m\n\u001b[0m\u001b[0;32m    354\u001b[0m \u001b[1;33m\u001b[0m\u001b[0m\n\u001b[0;32m    355\u001b[0m \u001b[1;33m\u001b[0m\u001b[0m\n",
      "\u001b[1;32mC:\\Users\\Todd\\Dropbox\\games\\dfpn_multi.pyx\u001b[0m in \u001b[0;36mdfpn_multi.default_callback (dfpn_multi.c:1698)\u001b[1;34m()\u001b[0m\n\u001b[0;32m     75\u001b[0m \u001b[1;33m\u001b[0m\u001b[0m\n\u001b[0;32m     76\u001b[0m     \u001b[1;32mif\u001b[0m \u001b[0mclear\u001b[0m\u001b[1;33m:\u001b[0m\u001b[1;33m\u001b[0m\u001b[0m\n\u001b[1;32m---> 77\u001b[1;33m         \u001b[0mdisplay\u001b[0m\u001b[1;33m.\u001b[0m\u001b[0mclear_output\u001b[0m\u001b[1;33m(\u001b[0m\u001b[0mwait\u001b[0m \u001b[1;33m=\u001b[0m \u001b[0mTrue\u001b[0m\u001b[1;33m)\u001b[0m\u001b[1;33m\u001b[0m\u001b[0m\n\u001b[0m\u001b[0;32m     78\u001b[0m     \u001b[1;32mprint\u001b[0m \u001b[1;34m'nodes visited  '\u001b[0m\u001b[1;33m,\u001b[0m\u001b[0mNODES_VISITED\u001b[0m\u001b[1;33m\u001b[0m\u001b[0m\n\u001b[0;32m     79\u001b[0m     \u001b[1;32mprint\u001b[0m \u001b[1;34m'cache space    '\u001b[0m\u001b[1;33m,\u001b[0m\u001b[1;36m2\u001b[0m\u001b[1;33m*\u001b[0m\u001b[0mPRIME\u001b[0m\u001b[1;33m\u001b[0m\u001b[0m\n",
      "\u001b[1;32mC:\\Anaconda2\\lib\\site-packages\\IPython\\core\\display.pyc\u001b[0m in \u001b[0;36mclear_output\u001b[1;34m(wait)\u001b[0m\n\u001b[0;32m    900\u001b[0m     \u001b[1;32mfrom\u001b[0m \u001b[0mIPython\u001b[0m\u001b[1;33m.\u001b[0m\u001b[0mcore\u001b[0m\u001b[1;33m.\u001b[0m\u001b[0minteractiveshell\u001b[0m \u001b[1;32mimport\u001b[0m \u001b[0mInteractiveShell\u001b[0m\u001b[1;33m\u001b[0m\u001b[0m\n\u001b[0;32m    901\u001b[0m     \u001b[1;32mif\u001b[0m \u001b[0mInteractiveShell\u001b[0m\u001b[1;33m.\u001b[0m\u001b[0minitialized\u001b[0m\u001b[1;33m(\u001b[0m\u001b[1;33m)\u001b[0m\u001b[1;33m:\u001b[0m\u001b[1;33m\u001b[0m\u001b[0m\n\u001b[1;32m--> 902\u001b[1;33m         \u001b[0mInteractiveShell\u001b[0m\u001b[1;33m.\u001b[0m\u001b[0minstance\u001b[0m\u001b[1;33m(\u001b[0m\u001b[1;33m)\u001b[0m\u001b[1;33m.\u001b[0m\u001b[0mdisplay_pub\u001b[0m\u001b[1;33m.\u001b[0m\u001b[0mclear_output\u001b[0m\u001b[1;33m(\u001b[0m\u001b[0mwait\u001b[0m\u001b[1;33m)\u001b[0m\u001b[1;33m\u001b[0m\u001b[0m\n\u001b[0m\u001b[0;32m    903\u001b[0m     \u001b[1;32melse\u001b[0m\u001b[1;33m:\u001b[0m\u001b[1;33m\u001b[0m\u001b[0m\n\u001b[0;32m    904\u001b[0m         \u001b[1;32mfrom\u001b[0m \u001b[0mIPython\u001b[0m\u001b[1;33m.\u001b[0m\u001b[0mutils\u001b[0m \u001b[1;32mimport\u001b[0m \u001b[0mio\u001b[0m\u001b[1;33m\u001b[0m\u001b[0m\n",
      "\u001b[1;32mC:\\Anaconda2\\lib\\site-packages\\ipykernel\\zmqshell.pyc\u001b[0m in \u001b[0;36mclear_output\u001b[1;34m(self, wait)\u001b[0m\n\u001b[0;32m     86\u001b[0m     \u001b[1;32mdef\u001b[0m \u001b[0mclear_output\u001b[0m\u001b[1;33m(\u001b[0m\u001b[0mself\u001b[0m\u001b[1;33m,\u001b[0m \u001b[0mwait\u001b[0m\u001b[1;33m=\u001b[0m\u001b[0mFalse\u001b[0m\u001b[1;33m)\u001b[0m\u001b[1;33m:\u001b[0m\u001b[1;33m\u001b[0m\u001b[0m\n\u001b[0;32m     87\u001b[0m         \u001b[0mcontent\u001b[0m \u001b[1;33m=\u001b[0m \u001b[0mdict\u001b[0m\u001b[1;33m(\u001b[0m\u001b[0mwait\u001b[0m\u001b[1;33m=\u001b[0m\u001b[0mwait\u001b[0m\u001b[1;33m)\u001b[0m\u001b[1;33m\u001b[0m\u001b[0m\n\u001b[1;32m---> 88\u001b[1;33m         \u001b[0mself\u001b[0m\u001b[1;33m.\u001b[0m\u001b[0m_flush_streams\u001b[0m\u001b[1;33m(\u001b[0m\u001b[1;33m)\u001b[0m\u001b[1;33m\u001b[0m\u001b[0m\n\u001b[0m\u001b[0;32m     89\u001b[0m         self.session.send(\n\u001b[0;32m     90\u001b[0m             \u001b[0mself\u001b[0m\u001b[1;33m.\u001b[0m\u001b[0mpub_socket\u001b[0m\u001b[1;33m,\u001b[0m \u001b[1;34mu'clear_output'\u001b[0m\u001b[1;33m,\u001b[0m \u001b[0mcontent\u001b[0m\u001b[1;33m,\u001b[0m\u001b[1;33m\u001b[0m\u001b[0m\n",
      "\u001b[1;32mC:\\Anaconda2\\lib\\site-packages\\ipykernel\\zmqshell.pyc\u001b[0m in \u001b[0;36m_flush_streams\u001b[1;34m(self)\u001b[0m\n\u001b[0;32m     68\u001b[0m     \u001b[1;32mdef\u001b[0m \u001b[0m_flush_streams\u001b[0m\u001b[1;33m(\u001b[0m\u001b[0mself\u001b[0m\u001b[1;33m)\u001b[0m\u001b[1;33m:\u001b[0m\u001b[1;33m\u001b[0m\u001b[0m\n\u001b[0;32m     69\u001b[0m         \u001b[1;34m\"\"\"flush IO Streams prior to display\"\"\"\u001b[0m\u001b[1;33m\u001b[0m\u001b[0m\n\u001b[1;32m---> 70\u001b[1;33m         \u001b[0msys\u001b[0m\u001b[1;33m.\u001b[0m\u001b[0mstdout\u001b[0m\u001b[1;33m.\u001b[0m\u001b[0mflush\u001b[0m\u001b[1;33m(\u001b[0m\u001b[1;33m)\u001b[0m\u001b[1;33m\u001b[0m\u001b[0m\n\u001b[0m\u001b[0;32m     71\u001b[0m         \u001b[0msys\u001b[0m\u001b[1;33m.\u001b[0m\u001b[0mstderr\u001b[0m\u001b[1;33m.\u001b[0m\u001b[0mflush\u001b[0m\u001b[1;33m(\u001b[0m\u001b[1;33m)\u001b[0m\u001b[1;33m\u001b[0m\u001b[0m\n\u001b[0;32m     72\u001b[0m \u001b[1;33m\u001b[0m\u001b[0m\n",
      "\u001b[1;32mC:\\Anaconda2\\lib\\site-packages\\ipykernel\\iostream.pyc\u001b[0m in \u001b[0;36mflush\u001b[1;34m(self)\u001b[0m\n\u001b[0;32m    149\u001b[0m             \u001b[0mself\u001b[0m\u001b[1;33m.\u001b[0m\u001b[0m_start\u001b[0m \u001b[1;33m=\u001b[0m \u001b[1;36m0\u001b[0m\u001b[1;33m\u001b[0m\u001b[0m\n\u001b[0;32m    150\u001b[0m \u001b[1;33m\u001b[0m\u001b[0m\n\u001b[1;32m--> 151\u001b[1;33m     \u001b[1;32mdef\u001b[0m \u001b[0mflush\u001b[0m\u001b[1;33m(\u001b[0m\u001b[0mself\u001b[0m\u001b[1;33m)\u001b[0m\u001b[1;33m:\u001b[0m\u001b[1;33m\u001b[0m\u001b[0m\n\u001b[0m\u001b[0;32m    152\u001b[0m         \u001b[1;34m\"\"\"trigger actual zmq send\"\"\"\u001b[0m\u001b[1;33m\u001b[0m\u001b[0m\n\u001b[0;32m    153\u001b[0m         \u001b[1;32mif\u001b[0m \u001b[0mself\u001b[0m\u001b[1;33m.\u001b[0m\u001b[0mpub_socket\u001b[0m \u001b[1;32mis\u001b[0m \u001b[0mNone\u001b[0m\u001b[1;33m:\u001b[0m\u001b[1;33m\u001b[0m\u001b[0m\n",
      "\u001b[1;31mKeyboardInterrupt\u001b[0m: "
     ]
    },
    {
     "data": {
      "image/png": "[encoded data removed]",
      "text/plain": [
       "<matplotlib.figure.Figure at 0x3fa3a58>"
      ]
     },
     "metadata": {},
     "output_type": "display_data"
    }
   ],
   "source": [
    "import sys\n",
    "sys.path.append('../')\n",
    "\n",
    "import tictactics_cython as tact\n",
    "from tictactics_cython import Board\n",
    "import dfpn_multi as dfpn\n",
    "import matplotlib\n",
    "import numpy as np\n",
    "import cProfile\n",
    "from matplotlib import pyplot as plt\n",
    "import time\n",
    "%matplotlib inline\n",
    "\n",
    "board = np.zeros((9,9))\n",
    "for x in [(0,0),(0,4),(2,4),(0,8),(2,8),(4,3),(4,5)]:\n",
    "    board[x]=1\n",
    "for o in [(6,0),(7,0),(5,4),(5,5),(6,4),(6,8),(7,8),]:\n",
    "    board[o]=-1\n",
    "big_board = np.array([[0,0,0],\n",
    "                      [0,0,0],\n",
    "                      [0,0,0]])\n",
    "\n",
    "player = 1\n",
    "game = Board(board=board,big_board = big_board,player = player)\n",
    "for move in [(1,0),(4,0),(3,0),(2,0),(8,0),(6,1),(0,5),(1,8),(4,8),(3,7),(0,3),(2,2),(6,7)]:\n",
    "    game.update_move(move)\n",
    "log_len = len(game.log)\n",
    "dfpn.init()\n",
    "\n",
    "tact.fancy_board(game)\n",
    "t0 = time.clock()\n",
    "\n",
    "sols = {}\n",
    "with open('Stephen.txt','a') as file_:\n",
    "    file_.write('\\n' + '*'*30 + '\\nStarting a new run\\n' + '*'*30 + '\\n'*2)\n",
    "for move in game.legal_moves()[2:3]:\n",
    "    with open('Stephen.txt','a') as file_:\n",
    "        file_.write('*'*30 + '\\nmove ' + str(move) + '\\n' + '*'*30 + '\\n')\n",
    "# for move in [(3,1)]:\n",
    "    game.update_move(move)\n",
    "#     game.update_move((3,0))\n",
    "    for move2 in game.legal_moves():\n",
    "#     for move2 in [(0,5)]:\n",
    "        dfpn.init()\n",
    "        game.update_move(move2)\n",
    "#         game.update_move((2,2))\n",
    "        node,tree = dfpn.solve(game,3,{1:0,0:1,-1:2,2:1,-2:1},0,root = True,epsilon=1.02)\n",
    "        if node[2] == 0:\n",
    "            node_print = 'Stephen wins'\n",
    "        elif node[5] == 0:\n",
    "            node_print = \"Todd wins\"\n",
    "        elif node[3]==node[4]==0:\n",
    "            node_print = 'tie'\n",
    "        sols[(move,move2)]=node_print\n",
    "        with open('Stephen.txt','a') as file_:\n",
    "            file_.write('moves {}{} - {}\\n'.format(move,move2,node_print))\n",
    "        for _ in xrange(len(game.log) - log_len-1):\n",
    "            game.erase_move()\n",
    "\n",
    "    game.erase_move()\n",
    "    assert(len(game.log) == log_len)\n",
    "print 'time',time.clock() - t0\n",
    "\n",
    "print sols\n",
    "# print tree"
   ]
  },
  {
   "cell_type": "code",
   "execution_count": null,
   "metadata": {
    "collapsed": true
   },
   "outputs": [],
   "source": []
  }
 ],
 "metadata": {
  "kernelspec": {
   "display_name": "Python 2",
   "language": "python",
   "name": "python2"
  },
  "language_info": {
   "codemirror_mode": {
    "name": "ipython",
    "version": 2
   },
   "file_extension": ".py",
   "mimetype": "text/x-python",
   "name": "python",
   "nbconvert_exporter": "python",
   "pygments_lexer": "ipython2",
   "version": "2.7.12"
  }
 },
 "nbformat": 4,
 "nbformat_minor": 0
}
