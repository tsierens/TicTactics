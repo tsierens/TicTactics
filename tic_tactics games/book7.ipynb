{
 "cells": [
  {
   "cell_type": "code",
   "execution_count": null,
   "metadata": {
    "collapsed": false
   },
   "outputs": [
    {
     "name": "stdout",
     "output_type": "stream",
     "text": [
      "nodes visited   38900000\n",
      "cache space     30000034\n",
      "nodes stored    17060304\n",
      "nodes forgotten 5489050\n",
      "current depth   9\n",
      "current node    11 53 60 12 56 70 31 15 57\n",
      "role: max\n",
      "  root: work:  25314045 pn0:   4101 pn1:   4101 dn0:  11564 dn1:  11564 \n",
      "\n",
      "role: min\n",
      "(1, 2): work:   5026741 pn0:   4125 pn1:   4125 dn0:   2290 dn1:   2290 \n",
      "(2, 1): work:   3745532 pn0:   4184 pn1:   4184 dn0:   1746 dn1:   1746 \n",
      "(2, 0): work:   3986985 pn0:   4125 pn1:   4125 dn0:   1818 dn1:   1818 \n",
      "(2, 2): work:   4375419 pn0:   4184 pn1:   4184 dn0:   1988 dn1:   1988 \n",
      "(1, 0): work:   3480151 pn0:   4184 pn1:   4184 dn0:   1568 dn1:   1568 \n",
      "(1, 1): work:   4699216 pn0:   4101 pn1:   4101 dn0:   2154 dn1:   2154 \n",
      "\n",
      "expanding move (1, 1)\n",
      "role: max\n",
      "(5, 3): work:   1075384 pn0:    944 pn1:    944 dn0:   2172 dn1:   2172 \n",
      "(4, 4): work:   1415959 pn0:   1179 pn1:   1179 dn0:   2209 dn1:   2209 \n",
      "(5, 5): work:   1184134 pn0:   1011 pn1:   1011 dn0:   2216 dn1:   2216 \n",
      "(3, 5): work:   1168517 pn0:   1017 pn1:   1017 dn0:   2202 dn1:   2202 \n",
      "\n"
     ]
    }
   ],
   "source": [
    "import sys\n",
    "sys.path.append('../')\n",
    "\n",
    "import tictactics_cython as tact\n",
    "from tictactics_cython import Board\n",
    "import dfpn_multi as dfpn\n",
    "import matplotlib\n",
    "import numpy as np\n",
    "import cProfile\n",
    "from matplotlib import pyplot as plt\n",
    "import time\n",
    "%matplotlib inline\n",
    "\n",
    "board = np.zeros((9,9))\n",
    "for x in [(0,1),(0,2),(3,0),(5,0),(4,3),(4,5),(4,7),(8,1),(8,2)]:\n",
    "    board[x]=1\n",
    "for o in [(0,0),(4,0),(8,0),(3,4),(5,4),(0,8),(4,8),(8,8),(7,4)]:\n",
    "    board[o]=-1\n",
    "big_board = np.array([[0,0,0],\n",
    "                      [0,0,0],\n",
    "                      [0,0,0]])\n",
    "\n",
    "player = 1\n",
    "game = Board(board=board,big_board = big_board,player = player)\n",
    "for move in [(3,7),(0,5),(2,8),(8,7),(7,5),(5,8),(6,8),(0,6)]:\n",
    "    game.update_move(move)\n",
    "log_len = len(game.log)\n",
    "dfpn.init()\n",
    "\n",
    "\n",
    "\n",
    "\n",
    "tact.fancy_board(game)\n",
    "t0 = time.clock()\n",
    "# cProfile.run('node,tree = dfpn.solve(game,root = True,epsilon=1.1)',sort = 'tottime')\n",
    "node,tree = dfpn.solve(game,3,{1:0,0:1,-1:2,2:1,-2:1},1,root = True,epsilon=1.02)\n",
    "print 'time',time.clock() - t0\n",
    "print tree"
   ]
  },
  {
   "cell_type": "code",
   "execution_count": null,
   "metadata": {
    "collapsed": true
   },
   "outputs": [],
   "source": []
  }
 ],
 "metadata": {
  "kernelspec": {
   "display_name": "Python 2",
   "language": "python",
   "name": "python2"
  },
  "language_info": {
   "codemirror_mode": {
    "name": "ipython",
    "version": 2
   },
   "file_extension": ".py",
   "mimetype": "text/x-python",
   "name": "python",
   "nbconvert_exporter": "python",
   "pygments_lexer": "ipython2",
   "version": "2.7.12"
  }
 },
 "nbformat": 4,
 "nbformat_minor": 0
}
