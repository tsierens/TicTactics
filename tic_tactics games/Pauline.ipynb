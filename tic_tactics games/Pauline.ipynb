{
 "cells": [
  {
   "cell_type": "code",
   "execution_count": 1,
   "metadata": {
    "collapsed": false
   },
   "outputs": [
    {
     "name": "stdout",
     "output_type": "stream",
     "text": [
      "1742351993116828968\n",
      "this node has 6 children\n",
      "move:(8, 4), runs:199644733, eval:-0.3078, principal:84 85 68 27 83 60 10 50 62 07 13 52 87 64 03 12 57 65 17 43 41 34 \n",
      "move:(6, 5), runs:   146159, eval:-0.1238, principal:65 18 57 84 85 68 27 64 15 58 88 87 83 72 37 13 50 \n",
      "move:(8, 3), runs:    61291, eval:-0.0701, principal:83 72 38 17 43 52 88 66 10 50 81 84 63 01 \n",
      "move:(8, 5), runs:    56178, eval:-0.0617, principal:85 68 18 57 84 65 17 34 15 38 28 \n",
      "move:(6, 3), runs:    46501, eval:-0.0408, principal:63 12 38 26 72 36 02 17 54 83 \n",
      "move:(6, 4), runs:    45137, eval:-0.0371, principal:64 13 52 68 26 81 65 08 18 58 \n",
      "\n",
      "84 85 68 27 83 60 10 50 62 07 13 52 87 64 03 12 57 65 17 43 41 34 15 36 11 44 55 66 02 26 81 63 01 14 45 37 23 72 58 67 05 28 77 54 08 18 38 82 88 86 \n"
     ]
    },
    {
     "data": {
      "image/png": "[encoded data removed]",
      "text/plain": [
       "<matplotlib.figure.Figure at 0x2a92438>"
      ]
     },
     "metadata": {},
     "output_type": "display_data"
    }
   ],
   "source": [
    "import sys\n",
    "sys.path.append('../')\n",
    "\n",
    "import tictactics_cython as tact\n",
    "from tictactics_cython import Board\n",
    "import MC\n",
    "from MC import MC_node,mc_sim\n",
    "import matplotlib\n",
    "import numpy as np\n",
    "import cProfile\n",
    "from matplotlib import pyplot as plt\n",
    "import time\n",
    "%matplotlib inline\n",
    "\n",
    "board = np.zeros((9,9))\n",
    "for x in [(8,0),(7,4)]:\n",
    "    board[x]=1\n",
    "for o in [(7,1),(5,3)]:\n",
    "    board[o]=-1\n",
    "big_board = np.array([[0,0,0],\n",
    "                      [0,0,0],\n",
    "                      [0,0,0]])\n",
    "\n",
    "player = 1\n",
    "game = Board(board=board,big_board = big_board,player = player)\n",
    "for move in [(3,3),(0,0),(2,0),(7,0),(4,2),(4,8),(5,6),(6,1),(0,4),(2,4),(7,5),(4,6),(3,2),(0,6),(2,2),\n",
    "             (7,6),(3,1),(2,5),(7,8),(4,7),(3,5),(1,6),(3,0),(2,1),(7,3),(4,0),(5,1)]:\n",
    "    game.update_move(move)\n",
    "log_len = len(game.log)\n",
    "\n",
    "root = MC_node(game,1)\n",
    "\n",
    "tact.fancy_board(game)\n",
    "\n",
    "# cProfile.run('mc_sim(root,game,branch = 50,passes = 100000000)',sort = 'tottime')\n",
    "mc_sim(root,game,branch = 50,passes = 200000000)"
   ]
  },
  {
   "cell_type": "code",
   "execution_count": 1,
   "metadata": {
    "collapsed": false
   },
   "outputs": [
    {
     "name": "stdout",
     "output_type": "stream",
     "text": [
      "nodes visited   4564501954\n",
      "cache space     30000034\n",
      "nodes stored    30000034\n",
      "nodes forgotten 2805577905\n",
      "current depth   0\n",
      "current node    \n",
      "role: min\n",
      "  root: work: 1025327286 pn0:    INF pn1:      0 dn0:      0 dn1:    INF \n",
      "\n",
      "role: max\n",
      "(6, 7): work: 186911264 pn0:   8560 pn1:      0 dn0:   9869 dn1:    INF \n",
      "(6, 8): work: 324821467 pn0:  14685 pn1:      0 dn0:   6575 dn1:    INF \n",
      "(6, 6): work:  69571969 pn0:    INF pn1:      0 dn0:      0 dn1:    INF \n",
      "(7, 7): work: 121292002 pn0:   9075 pn1:      0 dn0:   8220 dn1:    INF \n",
      "(8, 8): work: 264443611 pn0:   8602 pn1:      0 dn0:  10396 dn1:    INF \n",
      "(8, 6): work:  58286972 pn0:   6077 pn1:      0 dn0:   3568 dn1:    INF \n",
      "\n",
      "time 8932.75978111\n",
      "p2win\n"
     ]
    },
    {
     "data": {
      "image/png": "[encoded data removed]",
      "text/plain": [
       "<matplotlib.figure.Figure at 0x2a738d0>"
      ]
     },
     "metadata": {},
     "output_type": "display_data"
    }
   ],
   "source": [
    "import sys\n",
    "sys.path.append('../')\n",
    "\n",
    "import tictactics_cython as tact\n",
    "from tictactics_cython import Board\n",
    "import dfpn_multi as dfpn\n",
    "import matplotlib\n",
    "import numpy as np\n",
    "import cProfile\n",
    "from matplotlib import pyplot as plt\n",
    "import time\n",
    "%matplotlib inline\n",
    "\n",
    "board = np.zeros((9,9))\n",
    "for x in [(8,0),(7,4)]:\n",
    "    board[x]=1\n",
    "for o in [(7,1),(5,3)]:\n",
    "    board[o]=-1\n",
    "big_board = np.array([[0,0,0],\n",
    "                      [0,0,0],\n",
    "                      [0,0,0]])\n",
    "\n",
    "player = 1\n",
    "game = Board(board=board,big_board = big_board,player = player)\n",
    "for move in [(3,3),(0,0),(2,0),(7,0),(4,2),(4,8),(5,6),(6,1),(0,4),(2,4),(7,5),(4,6),(3,2),(0,6),(2,2),\n",
    "             (7,6),(3,1),(2,5),(7,8),(4,7),(3,5),(1,6),(3,0),(2,1),(7,3),(4,0),(5,1),(8,4),(8,5)]:\n",
    "    game.update_move(move)\n",
    "log_len = len(game.log)\n",
    "dfpn.init()\n",
    "\n",
    "tact.fancy_board(game)\n",
    "t0 = time.clock()\n",
    "# cProfile.run('node,tree = dfpn.solve(game,root = True,epsilon=1.1)',sort = 'tottime')\n",
    "node,tree = dfpn.solve(game,3,{1:0,0:1,-1:2,2:1,-2:1},0,root = True,epsilon=1.02)\n",
    "print 'time',time.clock() - t0\n",
    "print tree"
   ]
  },
  {
   "cell_type": "code",
   "execution_count": null,
   "metadata": {
    "collapsed": true
   },
   "outputs": [],
   "source": []
  }
 ],
 "metadata": {
  "kernelspec": {
   "display_name": "Python 2",
   "language": "python",
   "name": "python2"
  },
  "language_info": {
   "codemirror_mode": {
    "name": "ipython",
    "version": 2
   },
   "file_extension": ".py",
   "mimetype": "text/x-python",
   "name": "python",
   "nbconvert_exporter": "python",
   "pygments_lexer": "ipython2",
   "version": "2.7.12"
  }
 },
 "nbformat": 4,
 "nbformat_minor": 0
}
