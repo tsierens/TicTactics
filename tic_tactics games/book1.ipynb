{
 "cells": [
  {
   "cell_type": "code",
   "execution_count": 2,
   "metadata": {
    "scrolled": false
   },
   "outputs": [
    {
     "name": "stdout",
     "output_type": "stream",
     "text": [
      "nodes visited   105\n",
      "cache space     30000034\n",
      "nodes stored    73\n",
      "nodes forgotten 0\n",
      "current depth   0\n",
      "current node    \n",
      "role: max\n",
      "  root: work:        45 pn0:    INF pn1:      0 dn0:      0 dn1:    INF \n",
      "\n",
      "role: min\n",
      "(8, 5): work:        10 pn0:    INF pn1:    INF dn0:      0 dn1:      0 \n",
      "(1, 3): work:         1 pn0:    INF pn1:    INF dn0:      0 dn1:      0 \n",
      "(6, 7): work:         4 pn0:    INF pn1:      1 dn0:      0 dn1:      4 \n",
      "(5, 5): work:         1 pn0:    INF pn1:      1 dn0:      0 dn1:      3 \n",
      "(5, 2): work: ????      pn0: ????   pn1: ????   dn0: ????   dn1: ????   \n",
      "(4, 4): work:         5 pn0:    INF pn1:      4 dn0:      0 dn1:      1 \n",
      "(7, 7): work:         7 pn0:    INF pn1:    INF dn0:      0 dn1:      0 \n",
      "(1, 4): work:         5 pn0:    INF pn1:      3 dn0:      0 dn1:      1 \n",
      "(7, 4): work:         5 pn0:    INF pn1:      4 dn0:      0 dn1:      1 \n",
      "(2, 3): work:         1 pn0:    INF pn1:    INF dn0:      0 dn1:      0 \n",
      "(3, 4): work:         3 pn0:    INF pn1:      0 dn0:      0 dn1:    INF \n",
      "(3, 5): work:         1 pn0:    INF pn1:    INF dn0:      0 dn1:      0 \n",
      "\n",
      "time 2.36188447263\n",
      "{((7, 8), (8, 3)): 'tie', ((7, 8), (3, 5)): 'tie', ((6, 7), (2, 3)): 'todd wins', ((7, 7), (5, 4)): 'thankful wins', ((7, 8), (4, 4)): 'tie', ((7, 8), (7, 4)): 'tie', ((7, 8), (6, 7)): 'thankful wins', ((7, 8), (3, 4)): 'thankful wins', ((6, 7), (1, 4)): 'tie', ((7, 8), (1, 3)): 'tie', ((7, 8), (5, 4)): 'thankful wins', ((7, 7), (3, 4)): 'thankful wins', ((7, 8), (2, 3)): 'tie', ((7, 8), (1, 4)): 'tie', ((6, 7), (1, 3)): 'tie', ((7, 8), (7, 7)): 'tie', ((7, 7), (3, 5)): 'tie', ((7, 7), (4, 4)): 'todd wins'}\n"
     ]
    },
    {
     "data": {
      "image/png": "[encoded data removed]",
      "text/plain": [
       "<matplotlib.figure.Figure at 0x677af98>"
      ]
     },
     "metadata": {},
     "output_type": "display_data"
    }
   ],
   "source": [
    "import sys\n",
    "sys.path.append('../')\n",
    "\n",
    "import tictactics_cython as tact\n",
    "from tictactics_cython import Board\n",
    "import dfpn_multi as dfpn\n",
    "import matplotlib\n",
    "import numpy as np\n",
    "import cProfile\n",
    "from matplotlib import pyplot as plt\n",
    "import time\n",
    "%matplotlib inline\n",
    "\n",
    "board = np.zeros((9,9))\n",
    "for x in [(0,7),(3,6),(7,1),(8,7)]:\n",
    "    board[x]=1\n",
    "for o in [(0,0),(0,1),(4,7),(8,1)]:\n",
    "    board[o]=-1\n",
    "big_board = np.array([[0,0,0],\n",
    "                      [0,0,0],\n",
    "                      [0,0,0]])\n",
    "\n",
    "player = 1\n",
    "game = Board(board=board,big_board = big_board,player = player)\n",
    "for move in [(0,6),(1,0),(3,1),(2,4),(6,3),(1,1),(4,3),(3,0),(2,1),(6,4),(0,4),(1,5),(4,6),(5,1),(8,4),\n",
    "             (7,3),(4,0),(5,0),(6,0),(0,2),(1,6),(4,2),(5,7),(6,5),(1,8),(4,8),(5,6),(7,0),(3,2),(0,8),\n",
    "             (2,7),(7,5),(3,8),(2,6),(7,2),(3,7),(0,5),(1,7),(4,5),(5,8),(6,8),(2,8),(6,6),(2,0),(8,0),\n",
    "             (8,2),(7,6),(4,1),(3,3),(2,2),(8,6),(6,2),(0,3),(1,2),(5,3),(6,1),(2,5),(8,8)]:\n",
    "    game.update_move(move)\n",
    "log_len = len(game.log)\n",
    "dfpn.init()\n",
    "\n",
    "tact.fancy_board(game)\n",
    "t0 = time.clock()\n",
    "\n",
    "sols = {}\n",
    "with open('thankful.txt','a') as file_:\n",
    "    file_.write('\\n' + '*'*30 + '\\nStarting a new run\\n' + '*'*30 + '\\n'*2)\n",
    "for move in game.legal_moves():\n",
    "    with open('thankful.txt','a') as file_:\n",
    "        file_.write('*'*30 + '\\nmove ' + str(move) + '\\n' + '*'*30 + '\\n')\n",
    "# for move in [(3,1)]:\n",
    "    game.update_move(move)\n",
    "#     game.update_move((3,0))\n",
    "    for move2 in game.legal_moves():\n",
    "#     for move2 in [(0,5)]:\n",
    "        dfpn.init()\n",
    "        game.update_move(move2)\n",
    "#         game.update_move((2,2))\n",
    "        node,tree = dfpn.solve(game,3,{1:0,0:1,-1:2,2:1,-2:1},0,root = True,epsilon=1.02)\n",
    "        if node[2] == 0:\n",
    "            node_print = 'todd wins'\n",
    "        elif node[5] == 0:\n",
    "            node_print = \"thankful wins\"\n",
    "        elif node[3]==node[4]==0:\n",
    "            node_print = 'tie'\n",
    "        sols[(move,move2)]=node_print\n",
    "        with open('thankful.txt','a') as file_:\n",
    "            file_.write('moves {}{} - {}\\n'.format(move,move2,node_print))\n",
    "        for _ in xrange(len(game.log) - log_len-1):\n",
    "            game.erase_move()\n",
    "\n",
    "    game.erase_move()\n",
    "    assert(len(game.log) == log_len)\n",
    "print 'time',time.clock() - t0\n",
    "\n",
    "print sols\n",
    "# print tree"
   ]
  },
  {
   "cell_type": "code",
   "execution_count": 4,
   "metadata": {
    "collapsed": true
   },
   "outputs": [],
   "source": [
    "with open('test.txt','a') as file_:\n",
    "    file_.write('hi')"
   ]
  }
 ],
 "metadata": {
  "kernelspec": {
   "display_name": "Python [default]",
   "language": "python",
   "name": "python2"
  },
  "language_info": {
   "codemirror_mode": {
    "name": "ipython",
    "version": 2
   },
   "file_extension": ".py",
   "mimetype": "text/x-python",
   "name": "python",
   "nbconvert_exporter": "python",
   "pygments_lexer": "ipython2",
   "version": "2.7.14"
  }
 },
 "nbformat": 4,
 "nbformat_minor": 1
}
