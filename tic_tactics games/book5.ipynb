{
 "cells": [
  {
   "cell_type": "code",
   "execution_count": 1,
   "metadata": {
    "collapsed": false
   },
   "outputs": [
    {
     "name": "stdout",
     "output_type": "stream",
     "text": [
      "nodes visited   7667200000\n",
      "cache space     30000034\n",
      "nodes stored    30000034\n",
      "nodes forgotten 5030436783\n",
      "current depth   14\n",
      "current node    63 12 46 32 17 34 15 57 74 53 81 65 16 31\n",
      "role: min\n",
      "  root: work: 1290391283 pn0:    INF pn1:  25335 dn0:      0 dn1:  11442 \n",
      "\n",
      "role: max\n",
      "(7, 4): work: 230072010 pn0:  10586 pn1:   5117 dn0:  15631 dn1:  18636 \n",
      "(8, 3): work: 279820874 pn0:  20359 pn1:   4137 dn0:  15536 dn1:  16380 \n",
      "(6, 3): work: 458690445 pn0:    INF pn1:   3339 dn0:      0 dn1:  11442 \n",
      "(7, 5): work:  76004777 pn0:   6284 pn1:   5135 dn0:  15801 dn1:  15801 \n",
      "(8, 5): work:  57864927 pn0:      0 pn1:      0 dn0:    INF dn1:    INF \n",
      "(6, 5): work:  95947984 pn0:   7482 pn1:   4158 dn0:  15663 dn1:  15699 \n",
      "(8, 4): work:  91990265 pn0:   6573 pn1:   3449 dn0:  15564 dn1:  15823 \n",
      "\n",
      "expanding move (6, 3)\n",
      "role: min\n",
      "(0, 1): work: 207414770 pn0:  31353 pn1:  25899 dn0:     33 dn1:   3985 \n",
      "(1, 2): work: 286721306 pn0:  34161 pn1:  25751 dn0:     99 dn1:   4070 \n",
      "(0, 2): work: 292024174 pn0:  31220 pn1:  26267 dn0:      7 dn1:   6007 \n",
      "(1, 1): work:   5245041 pn0:    INF pn1:    INF dn0:      0 dn1:      0 \n",
      "\n"
     ]
    },
    {
     "ename": "KeyboardInterrupt",
     "evalue": "",
     "output_type": "error",
     "traceback": [
      "\u001b[1;31m---------------------------------------------------------------------------\u001b[0m",
      "\u001b[1;31mKeyboardInterrupt\u001b[0m                         Traceback (most recent call last)",
      "\u001b[1;32m<ipython-input-1-e7f9783e61ec>\u001b[0m in \u001b[0;36m<module>\u001b[1;34m()\u001b[0m\n\u001b[0;32m     45\u001b[0m         \u001b[0mgame\u001b[0m\u001b[1;33m.\u001b[0m\u001b[0mupdate_move\u001b[0m\u001b[1;33m(\u001b[0m\u001b[0mmove2\u001b[0m\u001b[1;33m)\u001b[0m\u001b[1;33m\u001b[0m\u001b[0m\n\u001b[0;32m     46\u001b[0m \u001b[1;31m#         game.update_move((2,2))\u001b[0m\u001b[1;33m\u001b[0m\u001b[1;33m\u001b[0m\u001b[0m\n\u001b[1;32m---> 47\u001b[1;33m         \u001b[0mnode\u001b[0m\u001b[1;33m,\u001b[0m\u001b[0mtree\u001b[0m \u001b[1;33m=\u001b[0m \u001b[0mdfpn\u001b[0m\u001b[1;33m.\u001b[0m\u001b[0msolve\u001b[0m\u001b[1;33m(\u001b[0m\u001b[0mgame\u001b[0m\u001b[1;33m,\u001b[0m\u001b[1;36m3\u001b[0m\u001b[1;33m,\u001b[0m\u001b[1;33m{\u001b[0m\u001b[1;36m1\u001b[0m\u001b[1;33m:\u001b[0m\u001b[1;36m0\u001b[0m\u001b[1;33m,\u001b[0m\u001b[1;36m0\u001b[0m\u001b[1;33m:\u001b[0m\u001b[1;36m1\u001b[0m\u001b[1;33m,\u001b[0m\u001b[1;33m-\u001b[0m\u001b[1;36m1\u001b[0m\u001b[1;33m:\u001b[0m\u001b[1;36m2\u001b[0m\u001b[1;33m,\u001b[0m\u001b[1;36m2\u001b[0m\u001b[1;33m:\u001b[0m\u001b[1;36m1\u001b[0m\u001b[1;33m,\u001b[0m\u001b[1;33m-\u001b[0m\u001b[1;36m2\u001b[0m\u001b[1;33m:\u001b[0m\u001b[1;36m1\u001b[0m\u001b[1;33m}\u001b[0m\u001b[1;33m,\u001b[0m\u001b[1;36m0\u001b[0m\u001b[1;33m,\u001b[0m\u001b[0mroot\u001b[0m \u001b[1;33m=\u001b[0m \u001b[0mTrue\u001b[0m\u001b[1;33m,\u001b[0m\u001b[0mepsilon\u001b[0m\u001b[1;33m=\u001b[0m\u001b[1;36m1.02\u001b[0m\u001b[1;33m)\u001b[0m\u001b[1;33m\u001b[0m\u001b[0m\n\u001b[0m\u001b[0;32m     48\u001b[0m         \u001b[1;32mif\u001b[0m \u001b[0mnode\u001b[0m\u001b[1;33m[\u001b[0m\u001b[1;36m2\u001b[0m\u001b[1;33m]\u001b[0m \u001b[1;33m==\u001b[0m \u001b[1;36m0\u001b[0m\u001b[1;33m:\u001b[0m\u001b[1;33m\u001b[0m\u001b[0m\n\u001b[0;32m     49\u001b[0m             \u001b[0mnode_print\u001b[0m \u001b[1;33m=\u001b[0m \u001b[1;34m'Stephen wins'\u001b[0m\u001b[1;33m\u001b[0m\u001b[0m\n",
      "\u001b[1;32mC:\\Users\\Todd\\Dropbox\\games\\dfpn_multi.pyx\u001b[0m in \u001b[0;36mdfpn_multi.solve (dfpn_multi.c:6207)\u001b[1;34m()\u001b[0m\n\u001b[0;32m    359\u001b[0m     \u001b[1;32mwhile\u001b[0m \u001b[0mstart\u001b[0m \u001b[1;33m>\u001b[0m \u001b[0mlower\u001b[0m \u001b[1;32mand\u001b[0m \u001b[0mstart\u001b[0m \u001b[1;33m<\u001b[0m \u001b[0mupper\u001b[0m\u001b[1;33m:\u001b[0m\u001b[1;33m\u001b[0m\u001b[0m\n\u001b[0;32m    360\u001b[0m \u001b[1;33m\u001b[0m\u001b[0m\n\u001b[1;32m--> 361\u001b[1;33m         \u001b[0mdfpn_search\u001b[0m\u001b[1;33m(\u001b[0m\u001b[0mgame\u001b[0m\u001b[1;33m,\u001b[0m\u001b[0mnode\u001b[0m\u001b[1;33m,\u001b[0m\u001b[0mstart\u001b[0m\u001b[1;33m,\u001b[0m\u001b[1;33m-\u001b[0m\u001b[1;36m1\u001b[0m\u001b[1;33m,\u001b[0m\u001b[1;33m-\u001b[0m\u001b[1;36m1\u001b[0m\u001b[1;33m,\u001b[0m\u001b[0mepsilon\u001b[0m\u001b[1;33m,\u001b[0m\u001b[0mroot\u001b[0m\u001b[1;33m,\u001b[0m\u001b[0mcallback_freq\u001b[0m\u001b[1;33m,\u001b[0m\u001b[0mn_outcomes\u001b[0m \u001b[1;33m-\u001b[0m \u001b[1;36m1\u001b[0m\u001b[1;33m,\u001b[0m\u001b[0mresult_to_outcome\u001b[0m\u001b[1;33m)\u001b[0m\u001b[1;33m\u001b[0m\u001b[0m\n\u001b[0m\u001b[0;32m    362\u001b[0m         \u001b[1;32mif\u001b[0m \u001b[0mnode\u001b[0m\u001b[1;33m[\u001b[0m\u001b[1;36m2\u001b[0m\u001b[1;33m+\u001b[0m\u001b[0mstart\u001b[0m\u001b[1;33m]\u001b[0m \u001b[1;33m==\u001b[0m \u001b[1;36m0\u001b[0m\u001b[1;33m:\u001b[0m\u001b[1;33m\u001b[0m\u001b[0m\n\u001b[0;32m    363\u001b[0m             \u001b[0mupper\u001b[0m \u001b[1;33m=\u001b[0m \u001b[0mstart\u001b[0m\u001b[1;33m\u001b[0m\u001b[0m\n",
      "\u001b[1;32mC:\\Users\\Todd\\Dropbox\\games\\dfpn_multi.pyx\u001b[0m in \u001b[0;36mdfpn_multi.dfpn_search (dfpn_multi.c:8510)\u001b[1;34m()\u001b[0m\n\u001b[0;32m    640\u001b[0m \u001b[1;33m\u001b[0m\u001b[0m\n\u001b[0;32m    641\u001b[0m                 \u001b[0mgame\u001b[0m\u001b[1;33m.\u001b[0m\u001b[0mupdate_move\u001b[0m\u001b[1;33m(\u001b[0m\u001b[0mmove\u001b[0m\u001b[1;33m)\u001b[0m\u001b[1;33m\u001b[0m\u001b[0m\n\u001b[1;32m--> 642\u001b[1;33m                 dfpn_search(game,child,o,child_pnt,child_dnt,\n\u001b[0m\u001b[0;32m    643\u001b[0m                             \u001b[0mepsilon\u001b[0m\u001b[1;33m=\u001b[0m\u001b[0mep\u001b[0m\u001b[1;33m,\u001b[0m\u001b[0mroot\u001b[0m \u001b[1;33m=\u001b[0m \u001b[1;36m0\u001b[0m\u001b[1;33m,\u001b[0m\u001b[0mcallback_freq\u001b[0m\u001b[1;33m=\u001b[0m\u001b[0mcallback_freq\u001b[0m\u001b[1;33m,\u001b[0m\u001b[1;33m\u001b[0m\u001b[0m\n\u001b[0;32m    644\u001b[0m                             n_splits=n_splits,result_to_outcome = result_to_outcome)\n",
      "\u001b[1;32mC:\\Users\\Todd\\Dropbox\\games\\dfpn_multi.pyx\u001b[0m in \u001b[0;36mdfpn_multi.dfpn_search (dfpn_multi.c:8088)\u001b[1;34m()\u001b[0m\n\u001b[0;32m    580\u001b[0m \u001b[1;33m\u001b[0m\u001b[0m\n\u001b[0;32m    581\u001b[0m                 \u001b[0mgame\u001b[0m\u001b[1;33m.\u001b[0m\u001b[0mupdate_move\u001b[0m\u001b[1;33m(\u001b[0m\u001b[0mmove\u001b[0m\u001b[1;33m)\u001b[0m\u001b[1;33m\u001b[0m\u001b[0m\n\u001b[1;32m--> 582\u001b[1;33m                 dfpn_search(game,child,o,child_pnt,child_dnt,\n\u001b[0m\u001b[0;32m    583\u001b[0m                             \u001b[0mepsilon\u001b[0m\u001b[1;33m=\u001b[0m\u001b[0mep\u001b[0m\u001b[1;33m,\u001b[0m\u001b[0mroot\u001b[0m \u001b[1;33m=\u001b[0m \u001b[1;36m0\u001b[0m\u001b[1;33m,\u001b[0m\u001b[0mcallback_freq\u001b[0m\u001b[1;33m=\u001b[0m\u001b[0mcallback_freq\u001b[0m\u001b[1;33m,\u001b[0m\u001b[1;33m\u001b[0m\u001b[0m\n\u001b[0;32m    584\u001b[0m                             n_splits=n_splits,result_to_outcome = result_to_outcome)\n",
      "\u001b[1;32mC:\\Users\\Todd\\Dropbox\\games\\dfpn_multi.pyx\u001b[0m in \u001b[0;36mdfpn_multi.dfpn_search (dfpn_multi.c:8510)\u001b[1;34m()\u001b[0m\n\u001b[0;32m    640\u001b[0m \u001b[1;33m\u001b[0m\u001b[0m\n\u001b[0;32m    641\u001b[0m                 \u001b[0mgame\u001b[0m\u001b[1;33m.\u001b[0m\u001b[0mupdate_move\u001b[0m\u001b[1;33m(\u001b[0m\u001b[0mmove\u001b[0m\u001b[1;33m)\u001b[0m\u001b[1;33m\u001b[0m\u001b[0m\n\u001b[1;32m--> 642\u001b[1;33m                 dfpn_search(game,child,o,child_pnt,child_dnt,\n\u001b[0m\u001b[0;32m    643\u001b[0m                             \u001b[0mepsilon\u001b[0m\u001b[1;33m=\u001b[0m\u001b[0mep\u001b[0m\u001b[1;33m,\u001b[0m\u001b[0mroot\u001b[0m \u001b[1;33m=\u001b[0m \u001b[1;36m0\u001b[0m\u001b[1;33m,\u001b[0m\u001b[0mcallback_freq\u001b[0m\u001b[1;33m=\u001b[0m\u001b[0mcallback_freq\u001b[0m\u001b[1;33m,\u001b[0m\u001b[1;33m\u001b[0m\u001b[0m\n\u001b[0;32m    644\u001b[0m                             n_splits=n_splits,result_to_outcome = result_to_outcome)\n",
      "\u001b[1;32mC:\\Users\\Todd\\Dropbox\\games\\dfpn_multi.pyx\u001b[0m in \u001b[0;36mdfpn_multi.dfpn_search (dfpn_multi.c:8088)\u001b[1;34m()\u001b[0m\n\u001b[0;32m    580\u001b[0m \u001b[1;33m\u001b[0m\u001b[0m\n\u001b[0;32m    581\u001b[0m                 \u001b[0mgame\u001b[0m\u001b[1;33m.\u001b[0m\u001b[0mupdate_move\u001b[0m\u001b[1;33m(\u001b[0m\u001b[0mmove\u001b[0m\u001b[1;33m)\u001b[0m\u001b[1;33m\u001b[0m\u001b[0m\n\u001b[1;32m--> 582\u001b[1;33m                 dfpn_search(game,child,o,child_pnt,child_dnt,\n\u001b[0m\u001b[0;32m    583\u001b[0m                             \u001b[0mepsilon\u001b[0m\u001b[1;33m=\u001b[0m\u001b[0mep\u001b[0m\u001b[1;33m,\u001b[0m\u001b[0mroot\u001b[0m \u001b[1;33m=\u001b[0m \u001b[1;36m0\u001b[0m\u001b[1;33m,\u001b[0m\u001b[0mcallback_freq\u001b[0m\u001b[1;33m=\u001b[0m\u001b[0mcallback_freq\u001b[0m\u001b[1;33m,\u001b[0m\u001b[1;33m\u001b[0m\u001b[0m\n\u001b[0;32m    584\u001b[0m                             n_splits=n_splits,result_to_outcome = result_to_outcome)\n",
      "\u001b[1;32mC:\\Users\\Todd\\Dropbox\\games\\dfpn_multi.pyx\u001b[0m in \u001b[0;36mdfpn_multi.dfpn_search (dfpn_multi.c:8510)\u001b[1;34m()\u001b[0m\n\u001b[0;32m    640\u001b[0m \u001b[1;33m\u001b[0m\u001b[0m\n\u001b[0;32m    641\u001b[0m                 \u001b[0mgame\u001b[0m\u001b[1;33m.\u001b[0m\u001b[0mupdate_move\u001b[0m\u001b[1;33m(\u001b[0m\u001b[0mmove\u001b[0m\u001b[1;33m)\u001b[0m\u001b[1;33m\u001b[0m\u001b[0m\n\u001b[1;32m--> 642\u001b[1;33m                 dfpn_search(game,child,o,child_pnt,child_dnt,\n\u001b[0m\u001b[0;32m    643\u001b[0m                             \u001b[0mepsilon\u001b[0m\u001b[1;33m=\u001b[0m\u001b[0mep\u001b[0m\u001b[1;33m,\u001b[0m\u001b[0mroot\u001b[0m \u001b[1;33m=\u001b[0m \u001b[1;36m0\u001b[0m\u001b[1;33m,\u001b[0m\u001b[0mcallback_freq\u001b[0m\u001b[1;33m=\u001b[0m\u001b[0mcallback_freq\u001b[0m\u001b[1;33m,\u001b[0m\u001b[1;33m\u001b[0m\u001b[0m\n\u001b[0;32m    644\u001b[0m                             n_splits=n_splits,result_to_outcome = result_to_outcome)\n",
      "\u001b[1;32mC:\\Users\\Todd\\Dropbox\\games\\dfpn_multi.pyx\u001b[0m in \u001b[0;36mdfpn_multi.dfpn_search (dfpn_multi.c:8088)\u001b[1;34m()\u001b[0m\n\u001b[0;32m    580\u001b[0m \u001b[1;33m\u001b[0m\u001b[0m\n\u001b[0;32m    581\u001b[0m                 \u001b[0mgame\u001b[0m\u001b[1;33m.\u001b[0m\u001b[0mupdate_move\u001b[0m\u001b[1;33m(\u001b[0m\u001b[0mmove\u001b[0m\u001b[1;33m)\u001b[0m\u001b[1;33m\u001b[0m\u001b[0m\n\u001b[1;32m--> 582\u001b[1;33m                 dfpn_search(game,child,o,child_pnt,child_dnt,\n\u001b[0m\u001b[0;32m    583\u001b[0m                             \u001b[0mepsilon\u001b[0m\u001b[1;33m=\u001b[0m\u001b[0mep\u001b[0m\u001b[1;33m,\u001b[0m\u001b[0mroot\u001b[0m \u001b[1;33m=\u001b[0m \u001b[1;36m0\u001b[0m\u001b[1;33m,\u001b[0m\u001b[0mcallback_freq\u001b[0m\u001b[1;33m=\u001b[0m\u001b[0mcallback_freq\u001b[0m\u001b[1;33m,\u001b[0m\u001b[1;33m\u001b[0m\u001b[0m\n\u001b[0;32m    584\u001b[0m                             n_splits=n_splits,result_to_outcome = result_to_outcome)\n",
      "\u001b[1;32mC:\\Users\\Todd\\Dropbox\\games\\dfpn_multi.pyx\u001b[0m in \u001b[0;36mdfpn_multi.dfpn_search (dfpn_multi.c:8510)\u001b[1;34m()\u001b[0m\n\u001b[0;32m    640\u001b[0m \u001b[1;33m\u001b[0m\u001b[0m\n\u001b[0;32m    641\u001b[0m                 \u001b[0mgame\u001b[0m\u001b[1;33m.\u001b[0m\u001b[0mupdate_move\u001b[0m\u001b[1;33m(\u001b[0m\u001b[0mmove\u001b[0m\u001b[1;33m)\u001b[0m\u001b[1;33m\u001b[0m\u001b[0m\n\u001b[1;32m--> 642\u001b[1;33m                 dfpn_search(game,child,o,child_pnt,child_dnt,\n\u001b[0m\u001b[0;32m    643\u001b[0m                             \u001b[0mepsilon\u001b[0m\u001b[1;33m=\u001b[0m\u001b[0mep\u001b[0m\u001b[1;33m,\u001b[0m\u001b[0mroot\u001b[0m \u001b[1;33m=\u001b[0m \u001b[1;36m0\u001b[0m\u001b[1;33m,\u001b[0m\u001b[0mcallback_freq\u001b[0m\u001b[1;33m=\u001b[0m\u001b[0mcallback_freq\u001b[0m\u001b[1;33m,\u001b[0m\u001b[1;33m\u001b[0m\u001b[0m\n\u001b[0;32m    644\u001b[0m                             n_splits=n_splits,result_to_outcome = result_to_outcome)\n",
      "\u001b[1;32mC:\\Users\\Todd\\Dropbox\\games\\dfpn_multi.pyx\u001b[0m in \u001b[0;36mdfpn_multi.dfpn_search (dfpn_multi.c:8088)\u001b[1;34m()\u001b[0m\n\u001b[0;32m    580\u001b[0m \u001b[1;33m\u001b[0m\u001b[0m\n\u001b[0;32m    581\u001b[0m                 \u001b[0mgame\u001b[0m\u001b[1;33m.\u001b[0m\u001b[0mupdate_move\u001b[0m\u001b[1;33m(\u001b[0m\u001b[0mmove\u001b[0m\u001b[1;33m)\u001b[0m\u001b[1;33m\u001b[0m\u001b[0m\n\u001b[1;32m--> 582\u001b[1;33m                 dfpn_search(game,child,o,child_pnt,child_dnt,\n\u001b[0m\u001b[0;32m    583\u001b[0m                             \u001b[0mepsilon\u001b[0m\u001b[1;33m=\u001b[0m\u001b[0mep\u001b[0m\u001b[1;33m,\u001b[0m\u001b[0mroot\u001b[0m \u001b[1;33m=\u001b[0m \u001b[1;36m0\u001b[0m\u001b[1;33m,\u001b[0m\u001b[0mcallback_freq\u001b[0m\u001b[1;33m=\u001b[0m\u001b[0mcallback_freq\u001b[0m\u001b[1;33m,\u001b[0m\u001b[1;33m\u001b[0m\u001b[0m\n\u001b[0;32m    584\u001b[0m                             n_splits=n_splits,result_to_outcome = result_to_outcome)\n",
      "\u001b[1;32mC:\\Users\\Todd\\Dropbox\\games\\dfpn_multi.pyx\u001b[0m in \u001b[0;36mdfpn_multi.dfpn_search (dfpn_multi.c:8510)\u001b[1;34m()\u001b[0m\n\u001b[0;32m    640\u001b[0m \u001b[1;33m\u001b[0m\u001b[0m\n\u001b[0;32m    641\u001b[0m                 \u001b[0mgame\u001b[0m\u001b[1;33m.\u001b[0m\u001b[0mupdate_move\u001b[0m\u001b[1;33m(\u001b[0m\u001b[0mmove\u001b[0m\u001b[1;33m)\u001b[0m\u001b[1;33m\u001b[0m\u001b[0m\n\u001b[1;32m--> 642\u001b[1;33m                 dfpn_search(game,child,o,child_pnt,child_dnt,\n\u001b[0m\u001b[0;32m    643\u001b[0m                             \u001b[0mepsilon\u001b[0m\u001b[1;33m=\u001b[0m\u001b[0mep\u001b[0m\u001b[1;33m,\u001b[0m\u001b[0mroot\u001b[0m \u001b[1;33m=\u001b[0m \u001b[1;36m0\u001b[0m\u001b[1;33m,\u001b[0m\u001b[0mcallback_freq\u001b[0m\u001b[1;33m=\u001b[0m\u001b[0mcallback_freq\u001b[0m\u001b[1;33m,\u001b[0m\u001b[1;33m\u001b[0m\u001b[0m\n\u001b[0;32m    644\u001b[0m                             n_splits=n_splits,result_to_outcome = result_to_outcome)\n",
      "\u001b[1;32mC:\\Users\\Todd\\Dropbox\\games\\dfpn_multi.pyx\u001b[0m in \u001b[0;36mdfpn_multi.dfpn_search (dfpn_multi.c:8088)\u001b[1;34m()\u001b[0m\n\u001b[0;32m    580\u001b[0m \u001b[1;33m\u001b[0m\u001b[0m\n\u001b[0;32m    581\u001b[0m                 \u001b[0mgame\u001b[0m\u001b[1;33m.\u001b[0m\u001b[0mupdate_move\u001b[0m\u001b[1;33m(\u001b[0m\u001b[0mmove\u001b[0m\u001b[1;33m)\u001b[0m\u001b[1;33m\u001b[0m\u001b[0m\n\u001b[1;32m--> 582\u001b[1;33m                 dfpn_search(game,child,o,child_pnt,child_dnt,\n\u001b[0m\u001b[0;32m    583\u001b[0m                             \u001b[0mepsilon\u001b[0m\u001b[1;33m=\u001b[0m\u001b[0mep\u001b[0m\u001b[1;33m,\u001b[0m\u001b[0mroot\u001b[0m \u001b[1;33m=\u001b[0m \u001b[1;36m0\u001b[0m\u001b[1;33m,\u001b[0m\u001b[0mcallback_freq\u001b[0m\u001b[1;33m=\u001b[0m\u001b[0mcallback_freq\u001b[0m\u001b[1;33m,\u001b[0m\u001b[1;33m\u001b[0m\u001b[0m\n\u001b[0;32m    584\u001b[0m                             n_splits=n_splits,result_to_outcome = result_to_outcome)\n",
      "\u001b[1;32mC:\\Users\\Todd\\Dropbox\\games\\dfpn_multi.pyx\u001b[0m in \u001b[0;36mdfpn_multi.dfpn_search (dfpn_multi.c:8510)\u001b[1;34m()\u001b[0m\n\u001b[0;32m    640\u001b[0m \u001b[1;33m\u001b[0m\u001b[0m\n\u001b[0;32m    641\u001b[0m                 \u001b[0mgame\u001b[0m\u001b[1;33m.\u001b[0m\u001b[0mupdate_move\u001b[0m\u001b[1;33m(\u001b[0m\u001b[0mmove\u001b[0m\u001b[1;33m)\u001b[0m\u001b[1;33m\u001b[0m\u001b[0m\n\u001b[1;32m--> 642\u001b[1;33m                 dfpn_search(game,child,o,child_pnt,child_dnt,\n\u001b[0m\u001b[0;32m    643\u001b[0m                             \u001b[0mepsilon\u001b[0m\u001b[1;33m=\u001b[0m\u001b[0mep\u001b[0m\u001b[1;33m,\u001b[0m\u001b[0mroot\u001b[0m \u001b[1;33m=\u001b[0m \u001b[1;36m0\u001b[0m\u001b[1;33m,\u001b[0m\u001b[0mcallback_freq\u001b[0m\u001b[1;33m=\u001b[0m\u001b[0mcallback_freq\u001b[0m\u001b[1;33m,\u001b[0m\u001b[1;33m\u001b[0m\u001b[0m\n\u001b[0;32m    644\u001b[0m                             n_splits=n_splits,result_to_outcome = result_to_outcome)\n",
      "\u001b[1;32mC:\\Users\\Todd\\Dropbox\\games\\dfpn_multi.pyx\u001b[0m in \u001b[0;36mdfpn_multi.dfpn_search (dfpn_multi.c:8088)\u001b[1;34m()\u001b[0m\n\u001b[0;32m    580\u001b[0m \u001b[1;33m\u001b[0m\u001b[0m\n\u001b[0;32m    581\u001b[0m                 \u001b[0mgame\u001b[0m\u001b[1;33m.\u001b[0m\u001b[0mupdate_move\u001b[0m\u001b[1;33m(\u001b[0m\u001b[0mmove\u001b[0m\u001b[1;33m)\u001b[0m\u001b[1;33m\u001b[0m\u001b[0m\n\u001b[1;32m--> 582\u001b[1;33m                 dfpn_search(game,child,o,child_pnt,child_dnt,\n\u001b[0m\u001b[0;32m    583\u001b[0m                             \u001b[0mepsilon\u001b[0m\u001b[1;33m=\u001b[0m\u001b[0mep\u001b[0m\u001b[1;33m,\u001b[0m\u001b[0mroot\u001b[0m \u001b[1;33m=\u001b[0m \u001b[1;36m0\u001b[0m\u001b[1;33m,\u001b[0m\u001b[0mcallback_freq\u001b[0m\u001b[1;33m=\u001b[0m\u001b[0mcallback_freq\u001b[0m\u001b[1;33m,\u001b[0m\u001b[1;33m\u001b[0m\u001b[0m\n\u001b[0;32m    584\u001b[0m                             n_splits=n_splits,result_to_outcome = result_to_outcome)\n",
      "\u001b[1;32mC:\\Users\\Todd\\Dropbox\\games\\dfpn_multi.pyx\u001b[0m in \u001b[0;36mdfpn_multi.dfpn_search (dfpn_multi.c:8510)\u001b[1;34m()\u001b[0m\n\u001b[0;32m    640\u001b[0m \u001b[1;33m\u001b[0m\u001b[0m\n\u001b[0;32m    641\u001b[0m                 \u001b[0mgame\u001b[0m\u001b[1;33m.\u001b[0m\u001b[0mupdate_move\u001b[0m\u001b[1;33m(\u001b[0m\u001b[0mmove\u001b[0m\u001b[1;33m)\u001b[0m\u001b[1;33m\u001b[0m\u001b[0m\n\u001b[1;32m--> 642\u001b[1;33m                 dfpn_search(game,child,o,child_pnt,child_dnt,\n\u001b[0m\u001b[0;32m    643\u001b[0m                             \u001b[0mepsilon\u001b[0m\u001b[1;33m=\u001b[0m\u001b[0mep\u001b[0m\u001b[1;33m,\u001b[0m\u001b[0mroot\u001b[0m \u001b[1;33m=\u001b[0m \u001b[1;36m0\u001b[0m\u001b[1;33m,\u001b[0m\u001b[0mcallback_freq\u001b[0m\u001b[1;33m=\u001b[0m\u001b[0mcallback_freq\u001b[0m\u001b[1;33m,\u001b[0m\u001b[1;33m\u001b[0m\u001b[0m\n\u001b[0;32m    644\u001b[0m                             n_splits=n_splits,result_to_outcome = result_to_outcome)\n",
      "\u001b[1;32mC:\\Users\\Todd\\Dropbox\\games\\dfpn_multi.pyx\u001b[0m in \u001b[0;36mdfpn_multi.dfpn_search (dfpn_multi.c:8088)\u001b[1;34m()\u001b[0m\n\u001b[0;32m    580\u001b[0m \u001b[1;33m\u001b[0m\u001b[0m\n\u001b[0;32m    581\u001b[0m                 \u001b[0mgame\u001b[0m\u001b[1;33m.\u001b[0m\u001b[0mupdate_move\u001b[0m\u001b[1;33m(\u001b[0m\u001b[0mmove\u001b[0m\u001b[1;33m)\u001b[0m\u001b[1;33m\u001b[0m\u001b[0m\n\u001b[1;32m--> 582\u001b[1;33m                 dfpn_search(game,child,o,child_pnt,child_dnt,\n\u001b[0m\u001b[0;32m    583\u001b[0m                             \u001b[0mepsilon\u001b[0m\u001b[1;33m=\u001b[0m\u001b[0mep\u001b[0m\u001b[1;33m,\u001b[0m\u001b[0mroot\u001b[0m \u001b[1;33m=\u001b[0m \u001b[1;36m0\u001b[0m\u001b[1;33m,\u001b[0m\u001b[0mcallback_freq\u001b[0m\u001b[1;33m=\u001b[0m\u001b[0mcallback_freq\u001b[0m\u001b[1;33m,\u001b[0m\u001b[1;33m\u001b[0m\u001b[0m\n\u001b[0;32m    584\u001b[0m                             n_splits=n_splits,result_to_outcome = result_to_outcome)\n",
      "\u001b[1;32mC:\\Users\\Todd\\Dropbox\\games\\dfpn_multi.pyx\u001b[0m in \u001b[0;36mdfpn_multi.dfpn_search (dfpn_multi.c:8510)\u001b[1;34m()\u001b[0m\n\u001b[0;32m    640\u001b[0m \u001b[1;33m\u001b[0m\u001b[0m\n\u001b[0;32m    641\u001b[0m                 \u001b[0mgame\u001b[0m\u001b[1;33m.\u001b[0m\u001b[0mupdate_move\u001b[0m\u001b[1;33m(\u001b[0m\u001b[0mmove\u001b[0m\u001b[1;33m)\u001b[0m\u001b[1;33m\u001b[0m\u001b[0m\n\u001b[1;32m--> 642\u001b[1;33m                 dfpn_search(game,child,o,child_pnt,child_dnt,\n\u001b[0m\u001b[0;32m    643\u001b[0m                             \u001b[0mepsilon\u001b[0m\u001b[1;33m=\u001b[0m\u001b[0mep\u001b[0m\u001b[1;33m,\u001b[0m\u001b[0mroot\u001b[0m \u001b[1;33m=\u001b[0m \u001b[1;36m0\u001b[0m\u001b[1;33m,\u001b[0m\u001b[0mcallback_freq\u001b[0m\u001b[1;33m=\u001b[0m\u001b[0mcallback_freq\u001b[0m\u001b[1;33m,\u001b[0m\u001b[1;33m\u001b[0m\u001b[0m\n\u001b[0;32m    644\u001b[0m                             n_splits=n_splits,result_to_outcome = result_to_outcome)\n",
      "\u001b[1;32mC:\\Users\\Todd\\Dropbox\\games\\dfpn_multi.pyx\u001b[0m in \u001b[0;36mdfpn_multi.dfpn_search (dfpn_multi.c:6644)\u001b[1;34m()\u001b[0m\n\u001b[0;32m    396\u001b[0m     \u001b[1;32mif\u001b[0m \u001b[0mcallback_freq\u001b[0m\u001b[1;33m:\u001b[0m\u001b[1;33m\u001b[0m\u001b[0m\n\u001b[0;32m    397\u001b[0m         \u001b[1;32mif\u001b[0m \u001b[0mNODES_VISITED\u001b[0m \u001b[1;33m%\u001b[0m \u001b[0mcallback_freq\u001b[0m\u001b[1;33m==\u001b[0m\u001b[1;36m0\u001b[0m\u001b[1;33m:\u001b[0m\u001b[1;33m\u001b[0m\u001b[0m\n\u001b[1;32m--> 398\u001b[1;33m             \u001b[0mcallback\u001b[0m\u001b[1;33m(\u001b[0m\u001b[0mgame\u001b[0m\u001b[1;33m)\u001b[0m \u001b[1;31m#global callback set by dfpn_run\u001b[0m\u001b[1;33m\u001b[0m\u001b[0m\n\u001b[0m\u001b[0;32m    399\u001b[0m \u001b[1;33m\u001b[0m\u001b[0m\n\u001b[0;32m    400\u001b[0m     \u001b[1;31m#init values for proof numbers of this node\u001b[0m\u001b[1;33m\u001b[0m\u001b[1;33m\u001b[0m\u001b[0m\n",
      "\u001b[1;32mC:\\Users\\Todd\\Dropbox\\games\\dfpn_multi.pyx\u001b[0m in \u001b[0;36mdfpn_multi.solve.callback (dfpn_multi.c:5709)\u001b[1;34m()\u001b[0m\n\u001b[0;32m    351\u001b[0m             \u001b[0mgame\u001b[0m\u001b[1;33m.\u001b[0m\u001b[0merase_move\u001b[0m\u001b[1;33m(\u001b[0m\u001b[1;33m)\u001b[0m\u001b[1;33m\u001b[0m\u001b[0m\n\u001b[0;32m    352\u001b[0m         \u001b[1;32mdef\u001b[0m \u001b[0mcallback\u001b[0m\u001b[1;33m(\u001b[0m\u001b[0mgame\u001b[0m\u001b[1;33m)\u001b[0m\u001b[1;33m:\u001b[0m\u001b[1;33m\u001b[0m\u001b[0m\n\u001b[1;32m--> 353\u001b[1;33m             \u001b[0mdefault_callback\u001b[0m\u001b[1;33m(\u001b[0m\u001b[0mgame\u001b[0m\u001b[1;33m,\u001b[0m\u001b[0mrole\u001b[0m\u001b[1;33m,\u001b[0m\u001b[0mroot_key\u001b[0m\u001b[1;33m,\u001b[0m\u001b[0mchildren\u001b[0m\u001b[1;33m,\u001b[0m\u001b[0mgrandchildren\u001b[0m\u001b[1;33m,\u001b[0m\u001b[0mn_outcomes\u001b[0m\u001b[1;33m,\u001b[0m\u001b[0mclear\u001b[0m \u001b[1;33m=\u001b[0m \u001b[0mTrue\u001b[0m\u001b[1;33m)\u001b[0m\u001b[1;33m\u001b[0m\u001b[0m\n\u001b[0m\u001b[0;32m    354\u001b[0m \u001b[1;33m\u001b[0m\u001b[0m\n\u001b[0;32m    355\u001b[0m \u001b[1;33m\u001b[0m\u001b[0m\n",
      "\u001b[1;32mC:\\Users\\Todd\\Dropbox\\games\\dfpn_multi.pyx\u001b[0m in \u001b[0;36mdfpn_multi.default_callback (dfpn_multi.c:1698)\u001b[1;34m()\u001b[0m\n\u001b[0;32m     75\u001b[0m \u001b[1;33m\u001b[0m\u001b[0m\n\u001b[0;32m     76\u001b[0m     \u001b[1;32mif\u001b[0m \u001b[0mclear\u001b[0m\u001b[1;33m:\u001b[0m\u001b[1;33m\u001b[0m\u001b[0m\n\u001b[1;32m---> 77\u001b[1;33m         \u001b[0mdisplay\u001b[0m\u001b[1;33m.\u001b[0m\u001b[0mclear_output\u001b[0m\u001b[1;33m(\u001b[0m\u001b[0mwait\u001b[0m \u001b[1;33m=\u001b[0m \u001b[0mTrue\u001b[0m\u001b[1;33m)\u001b[0m\u001b[1;33m\u001b[0m\u001b[0m\n\u001b[0m\u001b[0;32m     78\u001b[0m     \u001b[1;32mprint\u001b[0m \u001b[1;34m'nodes visited  '\u001b[0m\u001b[1;33m,\u001b[0m\u001b[0mNODES_VISITED\u001b[0m\u001b[1;33m\u001b[0m\u001b[0m\n\u001b[0;32m     79\u001b[0m     \u001b[1;32mprint\u001b[0m \u001b[1;34m'cache space    '\u001b[0m\u001b[1;33m,\u001b[0m\u001b[1;36m2\u001b[0m\u001b[1;33m*\u001b[0m\u001b[0mPRIME\u001b[0m\u001b[1;33m\u001b[0m\u001b[0m\n",
      "\u001b[1;32mC:\\Anaconda2\\lib\\site-packages\\IPython\\core\\display.pyc\u001b[0m in \u001b[0;36mclear_output\u001b[1;34m(wait)\u001b[0m\n\u001b[0;32m    900\u001b[0m     \u001b[1;32mfrom\u001b[0m \u001b[0mIPython\u001b[0m\u001b[1;33m.\u001b[0m\u001b[0mcore\u001b[0m\u001b[1;33m.\u001b[0m\u001b[0minteractiveshell\u001b[0m \u001b[1;32mimport\u001b[0m \u001b[0mInteractiveShell\u001b[0m\u001b[1;33m\u001b[0m\u001b[0m\n\u001b[0;32m    901\u001b[0m     \u001b[1;32mif\u001b[0m \u001b[0mInteractiveShell\u001b[0m\u001b[1;33m.\u001b[0m\u001b[0minitialized\u001b[0m\u001b[1;33m(\u001b[0m\u001b[1;33m)\u001b[0m\u001b[1;33m:\u001b[0m\u001b[1;33m\u001b[0m\u001b[0m\n\u001b[1;32m--> 902\u001b[1;33m         \u001b[0mInteractiveShell\u001b[0m\u001b[1;33m.\u001b[0m\u001b[0minstance\u001b[0m\u001b[1;33m(\u001b[0m\u001b[1;33m)\u001b[0m\u001b[1;33m.\u001b[0m\u001b[0mdisplay_pub\u001b[0m\u001b[1;33m.\u001b[0m\u001b[0mclear_output\u001b[0m\u001b[1;33m(\u001b[0m\u001b[0mwait\u001b[0m\u001b[1;33m)\u001b[0m\u001b[1;33m\u001b[0m\u001b[0m\n\u001b[0m\u001b[0;32m    903\u001b[0m     \u001b[1;32melse\u001b[0m\u001b[1;33m:\u001b[0m\u001b[1;33m\u001b[0m\u001b[0m\n\u001b[0;32m    904\u001b[0m         \u001b[1;32mfrom\u001b[0m \u001b[0mIPython\u001b[0m\u001b[1;33m.\u001b[0m\u001b[0mutils\u001b[0m \u001b[1;32mimport\u001b[0m \u001b[0mio\u001b[0m\u001b[1;33m\u001b[0m\u001b[0m\n",
      "\u001b[1;32mC:\\Anaconda2\\lib\\site-packages\\ipykernel\\zmqshell.pyc\u001b[0m in \u001b[0;36mclear_output\u001b[1;34m(self, wait)\u001b[0m\n\u001b[0;32m     86\u001b[0m     \u001b[1;32mdef\u001b[0m \u001b[0mclear_output\u001b[0m\u001b[1;33m(\u001b[0m\u001b[0mself\u001b[0m\u001b[1;33m,\u001b[0m \u001b[0mwait\u001b[0m\u001b[1;33m=\u001b[0m\u001b[0mFalse\u001b[0m\u001b[1;33m)\u001b[0m\u001b[1;33m:\u001b[0m\u001b[1;33m\u001b[0m\u001b[0m\n\u001b[0;32m     87\u001b[0m         \u001b[0mcontent\u001b[0m \u001b[1;33m=\u001b[0m \u001b[0mdict\u001b[0m\u001b[1;33m(\u001b[0m\u001b[0mwait\u001b[0m\u001b[1;33m=\u001b[0m\u001b[0mwait\u001b[0m\u001b[1;33m)\u001b[0m\u001b[1;33m\u001b[0m\u001b[0m\n\u001b[1;32m---> 88\u001b[1;33m         \u001b[0mself\u001b[0m\u001b[1;33m.\u001b[0m\u001b[0m_flush_streams\u001b[0m\u001b[1;33m(\u001b[0m\u001b[1;33m)\u001b[0m\u001b[1;33m\u001b[0m\u001b[0m\n\u001b[0m\u001b[0;32m     89\u001b[0m         self.session.send(\n\u001b[0;32m     90\u001b[0m             \u001b[0mself\u001b[0m\u001b[1;33m.\u001b[0m\u001b[0mpub_socket\u001b[0m\u001b[1;33m,\u001b[0m \u001b[1;34mu'clear_output'\u001b[0m\u001b[1;33m,\u001b[0m \u001b[0mcontent\u001b[0m\u001b[1;33m,\u001b[0m\u001b[1;33m\u001b[0m\u001b[0m\n",
      "\u001b[1;32mC:\\Anaconda2\\lib\\site-packages\\ipykernel\\zmqshell.pyc\u001b[0m in \u001b[0;36m_flush_streams\u001b[1;34m(self)\u001b[0m\n\u001b[0;32m     68\u001b[0m     \u001b[1;32mdef\u001b[0m \u001b[0m_flush_streams\u001b[0m\u001b[1;33m(\u001b[0m\u001b[0mself\u001b[0m\u001b[1;33m)\u001b[0m\u001b[1;33m:\u001b[0m\u001b[1;33m\u001b[0m\u001b[0m\n\u001b[0;32m     69\u001b[0m         \u001b[1;34m\"\"\"flush IO Streams prior to display\"\"\"\u001b[0m\u001b[1;33m\u001b[0m\u001b[0m\n\u001b[1;32m---> 70\u001b[1;33m         \u001b[0msys\u001b[0m\u001b[1;33m.\u001b[0m\u001b[0mstdout\u001b[0m\u001b[1;33m.\u001b[0m\u001b[0mflush\u001b[0m\u001b[1;33m(\u001b[0m\u001b[1;33m)\u001b[0m\u001b[1;33m\u001b[0m\u001b[0m\n\u001b[0m\u001b[0;32m     71\u001b[0m         \u001b[0msys\u001b[0m\u001b[1;33m.\u001b[0m\u001b[0mstderr\u001b[0m\u001b[1;33m.\u001b[0m\u001b[0mflush\u001b[0m\u001b[1;33m(\u001b[0m\u001b[1;33m)\u001b[0m\u001b[1;33m\u001b[0m\u001b[0m\n\u001b[0;32m     72\u001b[0m \u001b[1;33m\u001b[0m\u001b[0m\n",
      "\u001b[1;32mC:\\Anaconda2\\lib\\site-packages\\ipykernel\\iostream.pyc\u001b[0m in \u001b[0;36mflush\u001b[1;34m(self)\u001b[0m\n\u001b[0;32m    158\u001b[0m         \u001b[1;32mif\u001b[0m \u001b[0mmp_mode\u001b[0m \u001b[1;33m!=\u001b[0m \u001b[0mCHILD\u001b[0m\u001b[1;33m:\u001b[0m\u001b[1;33m\u001b[0m\u001b[0m\n\u001b[0;32m    159\u001b[0m             \u001b[1;31m# we are master\u001b[0m\u001b[1;33m\u001b[0m\u001b[1;33m\u001b[0m\u001b[0m\n\u001b[1;32m--> 160\u001b[1;33m             \u001b[1;32mif\u001b[0m \u001b[1;32mnot\u001b[0m \u001b[0mself\u001b[0m\u001b[1;33m.\u001b[0m\u001b[0m_is_master_thread\u001b[0m\u001b[1;33m(\u001b[0m\u001b[1;33m)\u001b[0m\u001b[1;33m:\u001b[0m\u001b[1;33m\u001b[0m\u001b[0m\n\u001b[0m\u001b[0;32m    161\u001b[0m                 \u001b[1;31m# sub-threads must not trigger flush directly,\u001b[0m\u001b[1;33m\u001b[0m\u001b[1;33m\u001b[0m\u001b[0m\n\u001b[0;32m    162\u001b[0m                 \u001b[1;31m# but at least they can schedule an async flush, or force the timer.\u001b[0m\u001b[1;33m\u001b[0m\u001b[1;33m\u001b[0m\u001b[0m\n",
      "\u001b[1;31mKeyboardInterrupt\u001b[0m: "
     ]
    },
    {
     "data": {
      "image/png": "[encoded data removed]",
      "text/plain": [
       "<matplotlib.figure.Figure at 0x3f9ba58>"
      ]
     },
     "metadata": {},
     "output_type": "display_data"
    }
   ],
   "source": [
    "import sys\n",
    "sys.path.append('../')\n",
    "\n",
    "import tictactics_cython as tact\n",
    "from tictactics_cython import Board\n",
    "import dfpn_multi as dfpn\n",
    "import matplotlib\n",
    "import numpy as np\n",
    "import cProfile\n",
    "from matplotlib import pyplot as plt\n",
    "import time\n",
    "%matplotlib inline\n",
    "\n",
    "board = np.zeros((9,9))\n",
    "for x in [(0,0),(0,4),(2,4),(0,8),(2,8),(4,3),(4,5)]:\n",
    "    board[x]=1\n",
    "for o in [(6,0),(7,0),(5,4),(5,5),(6,4),(6,8),(7,8),]:\n",
    "    board[o]=-1\n",
    "big_board = np.array([[0,0,0],\n",
    "                      [0,0,0],\n",
    "                      [0,0,0]])\n",
    "\n",
    "player = 1\n",
    "game = Board(board=board,big_board = big_board,player = player)\n",
    "for move in [(1,0),(4,0),(3,0),(2,0),(8,0),(6,1),(0,5),(1,8),(4,8),(3,7),(0,3),(2,2),(6,7)]:\n",
    "    game.update_move(move)\n",
    "log_len = len(game.log)\n",
    "dfpn.init()\n",
    "\n",
    "tact.fancy_board(game)\n",
    "t0 = time.clock()\n",
    "\n",
    "sols = {}\n",
    "with open('Stephen.txt','a') as file_:\n",
    "    file_.write('\\n' + '*'*30 + '\\nStarting a new run\\n' + '*'*30 + '\\n'*2)\n",
    "for move in game.legal_moves()[0:1]:\n",
    "    with open('Stephen.txt','a') as file_:\n",
    "        file_.write('*'*30 + '\\nmove ' + str(move) + '\\n' + '*'*30 + '\\n')\n",
    "# for move in [(3,1)]:\n",
    "    game.update_move(move)\n",
    "#     game.update_move((3,0))\n",
    "    for move2 in game.legal_moves():\n",
    "#     for move2 in [(0,5)]:\n",
    "        dfpn.init()\n",
    "        game.update_move(move2)\n",
    "#         game.update_move((2,2))\n",
    "        node,tree = dfpn.solve(game,3,{1:0,0:1,-1:2,2:1,-2:1},0,root = True,epsilon=1.02)\n",
    "        if node[2] == 0:\n",
    "            node_print = 'Stephen wins'\n",
    "        elif node[5] == 0:\n",
    "            node_print = \"Todd wins\"\n",
    "        elif node[3]==node[4]==0:\n",
    "            node_print = 'tie'\n",
    "        sols[(move,move2)]=node_print\n",
    "        with open('Stephen.txt','a') as file_:\n",
    "            file_.write('moves {}{} - {}\\n'.format(move,move2,node_print))\n",
    "        for _ in xrange(len(game.log) - log_len-1):\n",
    "            game.erase_move()\n",
    "\n",
    "    game.erase_move()\n",
    "    assert(len(game.log) == log_len)\n",
    "print 'time',time.clock() - t0\n",
    "\n",
    "print sols\n",
    "# print tree"
   ]
  },
  {
   "cell_type": "code",
   "execution_count": null,
   "metadata": {
    "collapsed": true
   },
   "outputs": [],
   "source": []
  }
 ],
 "metadata": {
  "kernelspec": {
   "display_name": "Python 2",
   "language": "python",
   "name": "python2"
  },
  "language_info": {
   "codemirror_mode": {
    "name": "ipython",
    "version": 2
   },
   "file_extension": ".py",
   "mimetype": "text/x-python",
   "name": "python",
   "nbconvert_exporter": "python",
   "pygments_lexer": "ipython2",
   "version": "2.7.12"
  }
 },
 "nbformat": 4,
 "nbformat_minor": 0
}
