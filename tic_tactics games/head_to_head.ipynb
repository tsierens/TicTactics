{
 "cells": [
  {
   "cell_type": "code",
   "execution_count": 12,
   "metadata": {
    "collapsed": false
   },
   "outputs": [
    {
     "name": "stderr",
     "output_type": "stream",
     "text": [
      "C:\\Users\\Todd\\Anaconda2\\lib\\site-packages\\ipykernel\\__main__.py:27: FutureWarning: elementwise comparison failed; returning scalar instead, but in the future will perform elementwise comparison\n"
     ]
    }
   ],
   "source": [
    "import sys\n",
    "sys.path.append('../')\n",
    "\n",
    "import tictactics_cython as tact\n",
    "from tictactics_cython import Board\n",
    "import MC\n",
    "from MC import MC_node,mc_sim\n",
    "from tictactics_policy import tictactics_simulation_policy as sim_pol\n",
    "import matplotlib\n",
    "import numpy as np\n",
    "import cProfile\n",
    "from matplotlib import pyplot as plt\n",
    "import time\n",
    "from IPython import display\n",
    "%matplotlib inline\n",
    "\n",
    "board = np.zeros((9,9))\n",
    "for x in [(0,0),(0,4),(2,4),(0,8),(2,8),(4,3),(4,5)]:\n",
    "    board[x]=1\n",
    "for o in [(6,0),(7,0),(5,4),(5,5),(6,4),(6,8),(7,8),]:\n",
    "    board[o]=-1\n",
    "big_board = np.array([[0,0,0],\n",
    "                      [0,0,0],\n",
    "                      [0,0,0]])\n",
    "\n",
    "player = 1\n",
    "game = Board(board=board,big_board = big_board,player = player)\n",
    "\n",
    "def one_game(game):\n",
    "    while not game.over:\n",
    "        log_len = len(game.log)\n",
    "        root = MC_node(game,1)\n",
    "        if game.player == 0:\n",
    "            mc_sim(root,game,branch = 5,max_time = 1,passes = 1000000000,eval_fun = None)\n",
    "        elif game.player == 1:\n",
    "            mc_sim(root,game,branch = 5,max_time = 1,passes = 1000000000,eval_fun = sim_pol)\n",
    "\n",
    "            \n",
    "\n",
    "        #argmax\n",
    "        max_i = -1\n",
    "        max_N = -1\n",
    "        for i in xrange(root.n_children):\n",
    "            if root.N[i] > max_N:\n",
    "                max_N = root.N[i]\n",
    "                max_i = i\n",
    "        move = root.actions[max_i]\n",
    "            \n",
    "            \n",
    "        for _ in xrange(len(game.log) - log_len):\n",
    "            game.erase_move()\n",
    "        \n",
    "        \n",
    "        game.update_move(move)\n",
    "#         display.clear_output(wait=True)\n",
    "#         time.sleep(1)\n",
    "#         print max_N\n",
    "#         tact.fancy_board(game)\n",
    "#         plt.show()\n",
    "    return game.result\n",
    "    \n",
    "def x_games(game,sims = 100):\n",
    "    log_len = len(game.log)\n",
    "    p1wins=0\n",
    "    p2wins=0\n",
    "    draws =0\n",
    "    \n",
    "    for i in xrange(sims):\n",
    "        result = one_game(game)\n",
    "        if result == 1:\n",
    "            p1wins+=1\n",
    "        elif result == -1:\n",
    "            p2wins+=1\n",
    "        else:\n",
    "            draws +=1\n",
    "\n",
    "        for _ in xrange(len(game.log) - log_len):\n",
    "            game.erase_move()\n",
    "        \n",
    "    sys.stdout.write('\\r {} - {} - {}'.format(p1wins,draws,p2wins))\n",
    "    \n",
    "    return (p1wins,draws,p2wins)\n",
    "    "
   ]
  },
  {
   "cell_type": "code",
   "execution_count": 13,
   "metadata": {
    "collapsed": false
   },
   "outputs": [
    {
     "name": "stdout",
     "output_type": "stream",
     "text": [
      "15755751847673828622\n",
      "this node has 6 children\n",
      "move:(6, 5), runs:   179111, eval:-1.0000, principal:65             \n",
      "move:(8, 5), runs:   179111, eval:-1.0000, principal:85 86 65       \n",
      "move:(7, 4), runs:      555, eval:-0.1910, principal:74 85 86 36 21 65 \n",
      "move:(7, 3), runs:      430, eval:+0.0419, principal:73 52 87 75 36 21 \n",
      "move:(8, 4), runs:      401, eval:+0.1172, principal:84 65 16 52 86 38 27 73 42 36 \n",
      "move:(7, 5), runs:      391, eval:+0.1458, principal:75 36 21 65 16 42 38 27 74 52 86 \n",
      "\n",
      "65 \n",
      " 54 - 22 - 24"
     ]
    },
    {
     "data": {
      "text/plain": [
       "(54, 22, 24)"
      ]
     },
     "execution_count": 13,
     "metadata": {},
     "output_type": "execute_result"
    }
   ],
   "source": [
    "''' 1s/move None wins more often than sim_pol'''\n",
    "x_games(game,100)"
   ]
  },
  {
   "cell_type": "code",
   "execution_count": 8,
   "metadata": {
    "collapsed": false
   },
   "outputs": [
    {
     "name": "stdout",
     "output_type": "stream",
     "text": [
      "15201554821495253490\n",
      "this node has 1 children\n",
      "move:(8, 1), runs:  3649999, eval:+0.0000, principal:81             \n",
      "\n",
      "81 \n",
      " 11 - 0 - 9"
     ]
    },
    {
     "data": {
      "text/plain": [
       "(11, 0, 9)"
      ]
     },
     "execution_count": 8,
     "metadata": {},
     "output_type": "execute_result"
    }
   ],
   "source": [
    "x_games(game,20)"
   ]
  },
  {
   "cell_type": "code",
   "execution_count": null,
   "metadata": {
    "collapsed": true
   },
   "outputs": [],
   "source": []
  }
 ],
 "metadata": {
  "kernelspec": {
   "display_name": "Python 2",
   "language": "python",
   "name": "python2"
  },
  "language_info": {
   "codemirror_mode": {
    "name": "ipython",
    "version": 2
   },
   "file_extension": ".py",
   "mimetype": "text/x-python",
   "name": "python",
   "nbconvert_exporter": "python",
   "pygments_lexer": "ipython2",
   "version": "2.7.13"
  }
 },
 "nbformat": 4,
 "nbformat_minor": 0
}
